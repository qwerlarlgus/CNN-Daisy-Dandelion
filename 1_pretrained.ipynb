{
  "nbformat": 4,
  "nbformat_minor": 0,
  "metadata": {
    "kernelspec": {
      "display_name": "Python 3",
      "language": "python",
      "name": "python3"
    },
    "language_info": {
      "codemirror_mode": {
        "name": "ipython",
        "version": 3
      },
      "file_extension": ".py",
      "mimetype": "text/x-python",
      "name": "python",
      "nbconvert_exporter": "python",
      "pygments_lexer": "ipython3",
      "version": "3.7.6"
    },
    "colab": {
      "name": "4-pretrained.ipynb",
      "provenance": [],
      "include_colab_link": true
    },
    "accelerator": "GPU"
  },
  "cells": [
    {
      "cell_type": "markdown",
      "metadata": {
        "id": "view-in-github",
        "colab_type": "text"
      },
      "source": [
        "<a href=\"https://colab.research.google.com/github/JSJeong-me/CNN-Daisy-Dandelion/blob/main/1_pretrained.ipynb\" target=\"_parent\"><img src=\"https://colab.research.google.com/assets/colab-badge.svg\" alt=\"Open In Colab\"/></a>"
      ]
    },
    {
      "cell_type": "code",
      "metadata": {
        "id": "22mg_PXnCKsU",
        "colab": {
          "base_uri": "https://localhost:8080/"
        },
        "outputId": "753da58c-6d25-48e3-8b77-242171be7969"
      },
      "source": [
        "from google.colab import drive\n",
        "drive.mount('/content/drive')"
      ],
      "execution_count": null,
      "outputs": [
        {
          "output_type": "stream",
          "text": [
            "Mounted at /content/drive\n"
          ],
          "name": "stdout"
        }
      ]
    },
    {
      "cell_type": "code",
      "metadata": {
        "id": "6giq8ls1A3jN"
      },
      "source": [
        "%matplotlib inline"
      ],
      "execution_count": null,
      "outputs": []
    },
    {
      "cell_type": "code",
      "metadata": {
        "id": "B9GBtXmwA47m",
        "colab": {
          "base_uri": "https://localhost:8080/"
        },
        "outputId": "64bfaf3e-7826-42d1-9e0f-16ebdb2349d7"
      },
      "source": [
        "!ls -l"
      ],
      "execution_count": null,
      "outputs": [
        {
          "output_type": "stream",
          "text": [
            "total 8\n",
            "drwx------ 5 root root 4096 Jan 22 07:39 drive\n",
            "drwxr-xr-x 1 root root 4096 Jan 20 17:27 sample_data\n"
          ],
          "name": "stdout"
        }
      ]
    },
    {
      "cell_type": "code",
      "metadata": {
        "id": "FWj06i8uA6OO"
      },
      "source": [
        "!cp ./drive/MyDrive/training_data.zip ."
      ],
      "execution_count": null,
      "outputs": []
    },
    {
      "cell_type": "code",
      "metadata": {
        "id": "AEJfrotXA58E"
      },
      "source": [
        "!unzip training_data.zip\r\n"
      ],
      "execution_count": null,
      "outputs": []
    },
    {
      "cell_type": "code",
      "metadata": {
        "id": "O5M05p_pA5rd"
      },
      "source": [
        ""
      ],
      "execution_count": null,
      "outputs": []
    },
    {
      "cell_type": "code",
      "metadata": {
        "id": "KPy5I5SBA3jW"
      },
      "source": [
        "import glob\n",
        "import numpy as np\n",
        "import matplotlib.pyplot as plt\n",
        "from tensorflow.keras.preprocessing.image import ImageDataGenerator, load_img, img_to_array, array_to_img"
      ],
      "execution_count": null,
      "outputs": []
    },
    {
      "cell_type": "code",
      "metadata": {
        "id": "eZImnfGOA3jX",
        "colab": {
          "base_uri": "https://localhost:8080/"
        },
        "outputId": "5f7a1f77-b849-4e19-db84-61fd4de11f2f"
      },
      "source": [
        "IMG_DIM = (150, 150)\n",
        "\n",
        "train_files = glob.glob('training_data/*')\n",
        "train_imgs = [img_to_array(load_img(img, target_size=IMG_DIM)) for img in train_files]\n",
        "train_imgs = np.array(train_imgs)\n",
        "train_labels = [fn.split('/')[1].split('.')[0].strip() for fn in train_files]\n",
        "\n",
        "validation_files = glob.glob('validation_data/*')\n",
        "validation_imgs = [img_to_array(load_img(img, target_size=IMG_DIM)) for img in validation_files]\n",
        "validation_imgs = np.array(validation_imgs)\n",
        "validation_labels = [fn.split('/')[1].split('.')[0].strip() for fn in validation_files]\n",
        "\n",
        "print('Train dataset shape:', train_imgs.shape, \n",
        "      '\\tValidation dataset shape:', validation_imgs.shape)"
      ],
      "execution_count": null,
      "outputs": [
        {
          "output_type": "stream",
          "text": [
            "Train dataset shape: (3000, 150, 150, 3) \tValidation dataset shape: (1000, 150, 150, 3)\n"
          ],
          "name": "stdout"
        }
      ]
    },
    {
      "cell_type": "code",
      "metadata": {
        "id": "OiDa5o60A3jX"
      },
      "source": [
        "train_imgs_scaled = train_imgs.astype('float32')\n",
        "validation_imgs_scaled = validation_imgs.astype('float32')\n",
        "train_imgs_scaled /= 255\n",
        "validation_imgs_scaled /= 255"
      ],
      "execution_count": null,
      "outputs": []
    },
    {
      "cell_type": "code",
      "metadata": {
        "id": "COLKZn79A3jY",
        "colab": {
          "base_uri": "https://localhost:8080/"
        },
        "outputId": "6b276415-39fb-4497-acda-97e6c8682b0d"
      },
      "source": [
        "batch_size = 50\n",
        "num_classes = 2\n",
        "epochs = 150\n",
        "input_shape = (150, 150, 3)\n",
        "\n",
        "from sklearn.preprocessing import LabelEncoder\n",
        "\n",
        "le = LabelEncoder()\n",
        "le.fit(train_labels)\n",
        "# encode wine type labels\n",
        "train_labels_enc = le.transform(train_labels)\n",
        "validation_labels_enc = le.transform(validation_labels)\n",
        "\n",
        "print(train_labels[0:5], train_labels_enc[0:5])"
      ],
      "execution_count": null,
      "outputs": [
        {
          "output_type": "stream",
          "text": [
            "['dog', 'dog', 'dog', 'dog', 'cat'] [1 1 1 1 0]\n"
          ],
          "name": "stdout"
        }
      ]
    },
    {
      "cell_type": "code",
      "metadata": {
        "id": "9fVVMivMA3jZ",
        "colab": {
          "base_uri": "https://localhost:8080/"
        },
        "outputId": "53df8296-3ff2-4d29-e705-b0bc39cfb1f9"
      },
      "source": [
        "\n",
        "from tensorflow.keras.applications import vgg16\n",
        "from tensorflow.keras.models import Model\n",
        "import tensorflow.keras\n",
        "\n",
        "vgg = vgg16.VGG16(include_top=False, weights='imagenet',\n",
        "                                     input_shape=input_shape)\n",
        "\n",
        "output = vgg.layers[-1].output\n",
        "output = tensorflow.keras.layers.Flatten()(output)\n",
        "\n",
        "vgg_model = Model(vgg.input, output)\n",
        "vgg_model.trainable = False\n",
        "\n",
        "for layer in vgg_model.layers:\n",
        "    layer.trainable = False\n",
        "\n",
        "vgg_model.summary()\n"
      ],
      "execution_count": null,
      "outputs": [
        {
          "output_type": "stream",
          "text": [
            "Downloading data from https://storage.googleapis.com/tensorflow/keras-applications/vgg16/vgg16_weights_tf_dim_ordering_tf_kernels_notop.h5\n",
            "58892288/58889256 [==============================] - 0s 0us/step\n",
            "Model: \"model\"\n",
            "_________________________________________________________________\n",
            "Layer (type)                 Output Shape              Param #   \n",
            "=================================================================\n",
            "input_1 (InputLayer)         [(None, 150, 150, 3)]     0         \n",
            "_________________________________________________________________\n",
            "block1_conv1 (Conv2D)        (None, 150, 150, 64)      1792      \n",
            "_________________________________________________________________\n",
            "block1_conv2 (Conv2D)        (None, 150, 150, 64)      36928     \n",
            "_________________________________________________________________\n",
            "block1_pool (MaxPooling2D)   (None, 75, 75, 64)        0         \n",
            "_________________________________________________________________\n",
            "block2_conv1 (Conv2D)        (None, 75, 75, 128)       73856     \n",
            "_________________________________________________________________\n",
            "block2_conv2 (Conv2D)        (None, 75, 75, 128)       147584    \n",
            "_________________________________________________________________\n",
            "block2_pool (MaxPooling2D)   (None, 37, 37, 128)       0         \n",
            "_________________________________________________________________\n",
            "block3_conv1 (Conv2D)        (None, 37, 37, 256)       295168    \n",
            "_________________________________________________________________\n",
            "block3_conv2 (Conv2D)        (None, 37, 37, 256)       590080    \n",
            "_________________________________________________________________\n",
            "block3_conv3 (Conv2D)        (None, 37, 37, 256)       590080    \n",
            "_________________________________________________________________\n",
            "block3_pool (MaxPooling2D)   (None, 18, 18, 256)       0         \n",
            "_________________________________________________________________\n",
            "block4_conv1 (Conv2D)        (None, 18, 18, 512)       1180160   \n",
            "_________________________________________________________________\n",
            "block4_conv2 (Conv2D)        (None, 18, 18, 512)       2359808   \n",
            "_________________________________________________________________\n",
            "block4_conv3 (Conv2D)        (None, 18, 18, 512)       2359808   \n",
            "_________________________________________________________________\n",
            "block4_pool (MaxPooling2D)   (None, 9, 9, 512)         0         \n",
            "_________________________________________________________________\n",
            "block5_conv1 (Conv2D)        (None, 9, 9, 512)         2359808   \n",
            "_________________________________________________________________\n",
            "block5_conv2 (Conv2D)        (None, 9, 9, 512)         2359808   \n",
            "_________________________________________________________________\n",
            "block5_conv3 (Conv2D)        (None, 9, 9, 512)         2359808   \n",
            "_________________________________________________________________\n",
            "block5_pool (MaxPooling2D)   (None, 4, 4, 512)         0         \n",
            "_________________________________________________________________\n",
            "flatten (Flatten)            (None, 8192)              0         \n",
            "=================================================================\n",
            "Total params: 14,714,688\n",
            "Trainable params: 0\n",
            "Non-trainable params: 14,714,688\n",
            "_________________________________________________________________\n"
          ],
          "name": "stdout"
        }
      ]
    },
    {
      "cell_type": "code",
      "metadata": {
        "id": "T9SDjC3EA3jZ",
        "colab": {
          "base_uri": "https://localhost:8080/",
          "height": 723
        },
        "outputId": "6817b04e-cf27-4e0d-8e1d-3561345c8d7d"
      },
      "source": [
        "import pandas as pd\n",
        "pd.set_option('max_colwidth', -1)\n",
        "\n",
        "layers = [(layer, layer.name, layer.trainable) for layer in vgg_model.layers]\n",
        "pd.DataFrame(layers, columns=['Layer Type', 'Layer Name', 'Layer Trainable'])"
      ],
      "execution_count": null,
      "outputs": [
        {
          "output_type": "stream",
          "text": [
            "/usr/local/lib/python3.6/dist-packages/ipykernel_launcher.py:2: FutureWarning: Passing a negative integer is deprecated in version 1.0 and will not be supported in future version. Instead, use None to not limit the column width.\n",
            "  \n"
          ],
          "name": "stderr"
        },
        {
          "output_type": "execute_result",
          "data": {
            "text/html": [
              "<div>\n",
              "<style scoped>\n",
              "    .dataframe tbody tr th:only-of-type {\n",
              "        vertical-align: middle;\n",
              "    }\n",
              "\n",
              "    .dataframe tbody tr th {\n",
              "        vertical-align: top;\n",
              "    }\n",
              "\n",
              "    .dataframe thead th {\n",
              "        text-align: right;\n",
              "    }\n",
              "</style>\n",
              "<table border=\"1\" class=\"dataframe\">\n",
              "  <thead>\n",
              "    <tr style=\"text-align: right;\">\n",
              "      <th></th>\n",
              "      <th>Layer Type</th>\n",
              "      <th>Layer Name</th>\n",
              "      <th>Layer Trainable</th>\n",
              "    </tr>\n",
              "  </thead>\n",
              "  <tbody>\n",
              "    <tr>\n",
              "      <th>0</th>\n",
              "      <td>&lt;tensorflow.python.keras.engine.input_layer.InputLayer object at 0x7f6926060eb8&gt;</td>\n",
              "      <td>input_1</td>\n",
              "      <td>False</td>\n",
              "    </tr>\n",
              "    <tr>\n",
              "      <th>1</th>\n",
              "      <td>&lt;tensorflow.python.keras.layers.convolutional.Conv2D object at 0x7f6925911400&gt;</td>\n",
              "      <td>block1_conv1</td>\n",
              "      <td>False</td>\n",
              "    </tr>\n",
              "    <tr>\n",
              "      <th>2</th>\n",
              "      <td>&lt;tensorflow.python.keras.layers.convolutional.Conv2D object at 0x7f6925911fd0&gt;</td>\n",
              "      <td>block1_conv2</td>\n",
              "      <td>False</td>\n",
              "    </tr>\n",
              "    <tr>\n",
              "      <th>3</th>\n",
              "      <td>&lt;tensorflow.python.keras.layers.pooling.MaxPooling2D object at 0x7f69105b27b8&gt;</td>\n",
              "      <td>block1_pool</td>\n",
              "      <td>False</td>\n",
              "    </tr>\n",
              "    <tr>\n",
              "      <th>4</th>\n",
              "      <td>&lt;tensorflow.python.keras.layers.convolutional.Conv2D object at 0x7f69105ba860&gt;</td>\n",
              "      <td>block2_conv1</td>\n",
              "      <td>False</td>\n",
              "    </tr>\n",
              "    <tr>\n",
              "      <th>5</th>\n",
              "      <td>&lt;tensorflow.python.keras.layers.convolutional.Conv2D object at 0x7f69105ba908&gt;</td>\n",
              "      <td>block2_conv2</td>\n",
              "      <td>False</td>\n",
              "    </tr>\n",
              "    <tr>\n",
              "      <th>6</th>\n",
              "      <td>&lt;tensorflow.python.keras.layers.pooling.MaxPooling2D object at 0x7f69105bee48&gt;</td>\n",
              "      <td>block2_pool</td>\n",
              "      <td>False</td>\n",
              "    </tr>\n",
              "    <tr>\n",
              "      <th>7</th>\n",
              "      <td>&lt;tensorflow.python.keras.layers.convolutional.Conv2D object at 0x7f69105c7b00&gt;</td>\n",
              "      <td>block3_conv1</td>\n",
              "      <td>False</td>\n",
              "    </tr>\n",
              "    <tr>\n",
              "      <th>8</th>\n",
              "      <td>&lt;tensorflow.python.keras.layers.convolutional.Conv2D object at 0x7f69105cea90&gt;</td>\n",
              "      <td>block3_conv2</td>\n",
              "      <td>False</td>\n",
              "    </tr>\n",
              "    <tr>\n",
              "      <th>9</th>\n",
              "      <td>&lt;tensorflow.python.keras.layers.convolutional.Conv2D object at 0x7f69105c7860&gt;</td>\n",
              "      <td>block3_conv3</td>\n",
              "      <td>False</td>\n",
              "    </tr>\n",
              "    <tr>\n",
              "      <th>10</th>\n",
              "      <td>&lt;tensorflow.python.keras.layers.pooling.MaxPooling2D object at 0x7f69105d7940&gt;</td>\n",
              "      <td>block3_pool</td>\n",
              "      <td>False</td>\n",
              "    </tr>\n",
              "    <tr>\n",
              "      <th>11</th>\n",
              "      <td>&lt;tensorflow.python.keras.layers.convolutional.Conv2D object at 0x7f69105db898&gt;</td>\n",
              "      <td>block4_conv1</td>\n",
              "      <td>False</td>\n",
              "    </tr>\n",
              "    <tr>\n",
              "      <th>12</th>\n",
              "      <td>&lt;tensorflow.python.keras.layers.convolutional.Conv2D object at 0x7f69105db048&gt;</td>\n",
              "      <td>block4_conv2</td>\n",
              "      <td>False</td>\n",
              "    </tr>\n",
              "    <tr>\n",
              "      <th>13</th>\n",
              "      <td>&lt;tensorflow.python.keras.layers.convolutional.Conv2D object at 0x7f69105b29b0&gt;</td>\n",
              "      <td>block4_conv3</td>\n",
              "      <td>False</td>\n",
              "    </tr>\n",
              "    <tr>\n",
              "      <th>14</th>\n",
              "      <td>&lt;tensorflow.python.keras.layers.pooling.MaxPooling2D object at 0x7f69250718d0&gt;</td>\n",
              "      <td>block4_pool</td>\n",
              "      <td>False</td>\n",
              "    </tr>\n",
              "    <tr>\n",
              "      <th>15</th>\n",
              "      <td>&lt;tensorflow.python.keras.layers.convolutional.Conv2D object at 0x7f69105e1cf8&gt;</td>\n",
              "      <td>block5_conv1</td>\n",
              "      <td>False</td>\n",
              "    </tr>\n",
              "    <tr>\n",
              "      <th>16</th>\n",
              "      <td>&lt;tensorflow.python.keras.layers.convolutional.Conv2D object at 0x7f6925071400&gt;</td>\n",
              "      <td>block5_conv2</td>\n",
              "      <td>False</td>\n",
              "    </tr>\n",
              "    <tr>\n",
              "      <th>17</th>\n",
              "      <td>&lt;tensorflow.python.keras.layers.convolutional.Conv2D object at 0x7f69105e6f28&gt;</td>\n",
              "      <td>block5_conv3</td>\n",
              "      <td>False</td>\n",
              "    </tr>\n",
              "    <tr>\n",
              "      <th>18</th>\n",
              "      <td>&lt;tensorflow.python.keras.layers.pooling.MaxPooling2D object at 0x7f69105eb4a8&gt;</td>\n",
              "      <td>block5_pool</td>\n",
              "      <td>False</td>\n",
              "    </tr>\n",
              "    <tr>\n",
              "      <th>19</th>\n",
              "      <td>&lt;tensorflow.python.keras.layers.core.Flatten object at 0x7f69105b2f28&gt;</td>\n",
              "      <td>flatten</td>\n",
              "      <td>False</td>\n",
              "    </tr>\n",
              "  </tbody>\n",
              "</table>\n",
              "</div>"
            ],
            "text/plain": [
              "                                                                          Layer Type  ... Layer Trainable\n",
              "0   <tensorflow.python.keras.engine.input_layer.InputLayer object at 0x7f6926060eb8>  ...  False         \n",
              "1   <tensorflow.python.keras.layers.convolutional.Conv2D object at 0x7f6925911400>    ...  False         \n",
              "2   <tensorflow.python.keras.layers.convolutional.Conv2D object at 0x7f6925911fd0>    ...  False         \n",
              "3   <tensorflow.python.keras.layers.pooling.MaxPooling2D object at 0x7f69105b27b8>    ...  False         \n",
              "4   <tensorflow.python.keras.layers.convolutional.Conv2D object at 0x7f69105ba860>    ...  False         \n",
              "5   <tensorflow.python.keras.layers.convolutional.Conv2D object at 0x7f69105ba908>    ...  False         \n",
              "6   <tensorflow.python.keras.layers.pooling.MaxPooling2D object at 0x7f69105bee48>    ...  False         \n",
              "7   <tensorflow.python.keras.layers.convolutional.Conv2D object at 0x7f69105c7b00>    ...  False         \n",
              "8   <tensorflow.python.keras.layers.convolutional.Conv2D object at 0x7f69105cea90>    ...  False         \n",
              "9   <tensorflow.python.keras.layers.convolutional.Conv2D object at 0x7f69105c7860>    ...  False         \n",
              "10  <tensorflow.python.keras.layers.pooling.MaxPooling2D object at 0x7f69105d7940>    ...  False         \n",
              "11  <tensorflow.python.keras.layers.convolutional.Conv2D object at 0x7f69105db898>    ...  False         \n",
              "12  <tensorflow.python.keras.layers.convolutional.Conv2D object at 0x7f69105db048>    ...  False         \n",
              "13  <tensorflow.python.keras.layers.convolutional.Conv2D object at 0x7f69105b29b0>    ...  False         \n",
              "14  <tensorflow.python.keras.layers.pooling.MaxPooling2D object at 0x7f69250718d0>    ...  False         \n",
              "15  <tensorflow.python.keras.layers.convolutional.Conv2D object at 0x7f69105e1cf8>    ...  False         \n",
              "16  <tensorflow.python.keras.layers.convolutional.Conv2D object at 0x7f6925071400>    ...  False         \n",
              "17  <tensorflow.python.keras.layers.convolutional.Conv2D object at 0x7f69105e6f28>    ...  False         \n",
              "18  <tensorflow.python.keras.layers.pooling.MaxPooling2D object at 0x7f69105eb4a8>    ...  False         \n",
              "19  <tensorflow.python.keras.layers.core.Flatten object at 0x7f69105b2f28>            ...  False         \n",
              "\n",
              "[20 rows x 3 columns]"
            ]
          },
          "metadata": {
            "tags": []
          },
          "execution_count": 7
        }
      ]
    },
    {
      "cell_type": "code",
      "metadata": {
        "id": "OvJvrtrgA3ja",
        "colab": {
          "base_uri": "https://localhost:8080/"
        },
        "outputId": "aba5b7e2-01ee-4144-95f4-f7b103d2841d"
      },
      "source": [
        "print(\"Trainable layers:\", vgg_model.trainable_weights)"
      ],
      "execution_count": null,
      "outputs": [
        {
          "output_type": "stream",
          "text": [
            "Trainable layers: []\n"
          ],
          "name": "stdout"
        }
      ]
    },
    {
      "cell_type": "code",
      "metadata": {
        "id": "J_Zbyst4A3ja",
        "colab": {
          "base_uri": "https://localhost:8080/",
          "height": 303
        },
        "outputId": "d9402f78-0b8a-4879-9820-81cb4a89e89c"
      },
      "source": [
        "bottleneck_feature_example = vgg.predict(train_imgs_scaled[0:1])\n",
        "print(bottleneck_feature_example.shape)\n",
        "plt.imshow(bottleneck_feature_example[0][:,:,0])"
      ],
      "execution_count": null,
      "outputs": [
        {
          "output_type": "stream",
          "text": [
            "(1, 4, 4, 512)\n"
          ],
          "name": "stdout"
        },
        {
          "output_type": "execute_result",
          "data": {
            "text/plain": [
              "<matplotlib.image.AxesImage at 0x7f68cc04f390>"
            ]
          },
          "metadata": {
            "tags": []
          },
          "execution_count": 9
        },
        {
          "output_type": "display_data",
          "data": {
            "image/png": "[encoded data removed]",
            "text/plain": [
              "<Figure size 432x288 with 1 Axes>"
            ]
          },
          "metadata": {
            "tags": [],
            "needs_background": "light"
          }
        }
      ]
    },
    {
      "cell_type": "code",
      "metadata": {
        "id": "_8LY2OOaA3jb"
      },
      "source": [
        "def get_bottleneck_features(model, input_imgs):\n",
        "    \n",
        "    features = model.predict(input_imgs, verbose=0)\n",
        "    return features"
      ],
      "execution_count": null,
      "outputs": []
    },
    {
      "cell_type": "code",
      "metadata": {
        "id": "8sekjWocA3jb",
        "colab": {
          "base_uri": "https://localhost:8080/"
        },
        "outputId": "9cac6eac-3f41-4b53-8585-9e3e2f1025d2"
      },
      "source": [
        "train_features_vgg = get_bottleneck_features(vgg_model, train_imgs_scaled)\n",
        "validation_features_vgg = get_bottleneck_features(vgg_model, validation_imgs_scaled)\n",
        "\n",
        "print('Train Bottleneck Features:', train_features_vgg.shape, \n",
        "      '\\tValidation Bottleneck Features:', validation_features_vgg.shape)"
      ],
      "execution_count": null,
      "outputs": [
        {
          "output_type": "stream",
          "text": [
            "Train Bottleneck Features: (3000, 8192) \tValidation Bottleneck Features: (1000, 8192)\n"
          ],
          "name": "stdout"
        }
      ]
    },
    {
      "cell_type": "code",
      "metadata": {
        "id": "oXhFf4HLA3jc",
        "colab": {
          "base_uri": "https://localhost:8080/"
        },
        "outputId": "4ba2b5c6-810c-4225-f64e-45c434f95995"
      },
      "source": [
        "from tensorflow.keras.layers import Conv2D, MaxPooling2D, Flatten, Dense, Dropout, InputLayer\n",
        "from tensorflow.keras.models import Sequential\n",
        "from tensorflow.keras import optimizers\n",
        "\n",
        "input_shape = vgg_model.output_shape[1]\n",
        "\n",
        "model = Sequential()\n",
        "model.add(InputLayer(input_shape=(input_shape,)))\n",
        "model.add(Dense(512, activation='relu', input_dim=input_shape))\n",
        "model.add(Dropout(0.3))\n",
        "model.add(Dense(512, activation='relu'))\n",
        "model.add(Dropout(0.3))\n",
        "model.add(Dense(1, activation='sigmoid'))\n",
        "\n",
        "model.compile(loss='binary_crossentropy',\n",
        "              optimizer=optimizers.RMSprop(lr=1e-4),\n",
        "              metrics=['accuracy'])\n",
        "\n",
        "model.summary()"
      ],
      "execution_count": null,
      "outputs": [
        {
          "output_type": "stream",
          "text": [
            "Model: \"sequential\"\n",
            "_________________________________________________________________\n",
            "Layer (type)                 Output Shape              Param #   \n",
            "=================================================================\n",
            "dense (Dense)                (None, 512)               4194816   \n",
            "_________________________________________________________________\n",
            "dropout (Dropout)            (None, 512)               0         \n",
            "_________________________________________________________________\n",
            "dense_1 (Dense)              (None, 512)               262656    \n",
            "_________________________________________________________________\n",
            "dropout_1 (Dropout)          (None, 512)               0         \n",
            "_________________________________________________________________\n",
            "dense_2 (Dense)              (None, 1)                 513       \n",
            "=================================================================\n",
            "Total params: 4,457,985\n",
            "Trainable params: 4,457,985\n",
            "Non-trainable params: 0\n",
            "_________________________________________________________________\n"
          ],
          "name": "stdout"
        }
      ]
    },
    {
      "cell_type": "code",
      "metadata": {
        "id": "UV-VPb-lA3jc",
        "colab": {
          "base_uri": "https://localhost:8080/"
        },
        "outputId": "91130959-29c6-4c52-f7c5-2c1d459cd348"
      },
      "source": [
        "history = model.fit(x=train_features_vgg, y=train_labels_enc,\n",
        "                    validation_data=(validation_features_vgg, validation_labels_enc),\n",
        "                    batch_size=batch_size,\n",
        "                    epochs=epochs,\n",
        "                    verbose=1)"
      ],
      "execution_count": null,
      "outputs": [
        {
          "output_type": "stream",
          "text": [
            "Epoch 1/150\n",
            "60/60 [==============================] - 1s 10ms/step - loss: 0.5839 - accuracy: 0.6829 - val_loss: 0.3127 - val_accuracy: 0.8730\n",
            "Epoch 2/150\n",
            "60/60 [==============================] - 0s 4ms/step - loss: 0.3240 - accuracy: 0.8610 - val_loss: 0.2803 - val_accuracy: 0.8840\n",
            "Epoch 3/150\n",
            "60/60 [==============================] - 0s 4ms/step - loss: 0.2754 - accuracy: 0.8786 - val_loss: 0.2738 - val_accuracy: 0.8850\n",
            "Epoch 4/150\n",
            "60/60 [==============================] - 0s 4ms/step - loss: 0.2304 - accuracy: 0.8955 - val_loss: 0.3084 - val_accuracy: 0.8660\n",
            "Epoch 5/150\n",
            "60/60 [==============================] - 0s 4ms/step - loss: 0.2144 - accuracy: 0.9124 - val_loss: 0.2745 - val_accuracy: 0.8880\n",
            "Epoch 6/150\n",
            "60/60 [==============================] - 0s 4ms/step - loss: 0.1711 - accuracy: 0.9296 - val_loss: 0.2702 - val_accuracy: 0.8910\n",
            "Epoch 7/150\n",
            "60/60 [==============================] - 0s 4ms/step - loss: 0.1541 - accuracy: 0.9371 - val_loss: 0.2672 - val_accuracy: 0.8880\n",
            "Epoch 8/150\n",
            "60/60 [==============================] - 0s 4ms/step - loss: 0.1263 - accuracy: 0.9449 - val_loss: 0.2821 - val_accuracy: 0.8940\n",
            "Epoch 9/150\n",
            "60/60 [==============================] - 0s 4ms/step - loss: 0.1089 - accuracy: 0.9543 - val_loss: 0.3336 - val_accuracy: 0.8820\n",
            "Epoch 10/150\n",
            "60/60 [==============================] - 0s 4ms/step - loss: 0.0986 - accuracy: 0.9622 - val_loss: 0.3480 - val_accuracy: 0.8780\n",
            "Epoch 11/150\n",
            "60/60 [==============================] - 0s 4ms/step - loss: 0.0795 - accuracy: 0.9740 - val_loss: 0.3833 - val_accuracy: 0.8680\n",
            "Epoch 12/150\n",
            "60/60 [==============================] - 0s 4ms/step - loss: 0.0734 - accuracy: 0.9724 - val_loss: 0.3243 - val_accuracy: 0.8930\n",
            "Epoch 13/150\n",
            "60/60 [==============================] - 0s 6ms/step - loss: 0.0504 - accuracy: 0.9833 - val_loss: 0.3404 - val_accuracy: 0.8900\n",
            "Epoch 14/150\n",
            "60/60 [==============================] - 0s 4ms/step - loss: 0.0335 - accuracy: 0.9903 - val_loss: 0.3649 - val_accuracy: 0.8940\n",
            "Epoch 15/150\n",
            "60/60 [==============================] - 0s 4ms/step - loss: 0.0330 - accuracy: 0.9882 - val_loss: 0.4218 - val_accuracy: 0.8800\n",
            "Epoch 16/150\n",
            "60/60 [==============================] - 0s 5ms/step - loss: 0.0213 - accuracy: 0.9928 - val_loss: 0.4346 - val_accuracy: 0.8940\n",
            "Epoch 17/150\n",
            "60/60 [==============================] - 0s 4ms/step - loss: 0.0151 - accuracy: 0.9955 - val_loss: 0.4165 - val_accuracy: 0.8940\n",
            "Epoch 18/150\n",
            "60/60 [==============================] - 0s 4ms/step - loss: 0.0196 - accuracy: 0.9954 - val_loss: 0.5405 - val_accuracy: 0.8810\n",
            "Epoch 19/150\n",
            "60/60 [==============================] - 0s 4ms/step - loss: 0.0202 - accuracy: 0.9943 - val_loss: 0.4287 - val_accuracy: 0.8950\n",
            "Epoch 20/150\n",
            "60/60 [==============================] - 0s 4ms/step - loss: 0.0062 - accuracy: 0.9985 - val_loss: 0.4756 - val_accuracy: 0.8910\n",
            "Epoch 21/150\n",
            "60/60 [==============================] - 0s 4ms/step - loss: 0.0154 - accuracy: 0.9943 - val_loss: 0.4965 - val_accuracy: 0.8940\n",
            "Epoch 22/150\n",
            "60/60 [==============================] - 0s 5ms/step - loss: 0.0241 - accuracy: 0.9922 - val_loss: 0.5094 - val_accuracy: 0.8970\n",
            "Epoch 23/150\n",
            "60/60 [==============================] - 0s 4ms/step - loss: 0.0044 - accuracy: 0.9987 - val_loss: 0.5678 - val_accuracy: 0.8930\n",
            "Epoch 24/150\n",
            "60/60 [==============================] - 0s 4ms/step - loss: 0.0028 - accuracy: 0.9994 - val_loss: 0.5397 - val_accuracy: 0.8970\n",
            "Epoch 25/150\n",
            "60/60 [==============================] - 0s 4ms/step - loss: 0.0055 - accuracy: 0.9991 - val_loss: 0.5568 - val_accuracy: 0.8960\n",
            "Epoch 26/150\n",
            "60/60 [==============================] - 0s 4ms/step - loss: 9.4965e-04 - accuracy: 1.0000 - val_loss: 0.5709 - val_accuracy: 0.8970\n",
            "Epoch 27/150\n",
            "60/60 [==============================] - 0s 4ms/step - loss: 0.0184 - accuracy: 0.9939 - val_loss: 0.5874 - val_accuracy: 0.8950\n",
            "Epoch 28/150\n",
            "60/60 [==============================] - 0s 4ms/step - loss: 0.0114 - accuracy: 0.9976 - val_loss: 0.5796 - val_accuracy: 0.8970\n",
            "Epoch 29/150\n",
            "60/60 [==============================] - 0s 4ms/step - loss: 3.9119e-04 - accuracy: 1.0000 - val_loss: 0.6289 - val_accuracy: 0.8970\n",
            "Epoch 30/150\n",
            "60/60 [==============================] - 0s 4ms/step - loss: 0.0327 - accuracy: 0.9906 - val_loss: 0.6646 - val_accuracy: 0.8960\n",
            "Epoch 31/150\n",
            "60/60 [==============================] - 0s 4ms/step - loss: 0.0062 - accuracy: 0.9986 - val_loss: 0.7096 - val_accuracy: 0.8910\n",
            "Epoch 32/150\n",
            "60/60 [==============================] - 0s 4ms/step - loss: 4.1921e-04 - accuracy: 1.0000 - val_loss: 0.6720 - val_accuracy: 0.8960\n",
            "Epoch 33/150\n",
            "60/60 [==============================] - 0s 4ms/step - loss: 0.0022 - accuracy: 0.9992 - val_loss: 0.6561 - val_accuracy: 0.8950\n",
            "Epoch 34/150\n",
            "60/60 [==============================] - 0s 4ms/step - loss: 0.0012 - accuracy: 0.9998 - val_loss: 0.6959 - val_accuracy: 0.8940\n",
            "Epoch 35/150\n",
            "60/60 [==============================] - 0s 4ms/step - loss: 5.3733e-04 - accuracy: 1.0000 - val_loss: 0.6993 - val_accuracy: 0.8960\n",
            "Epoch 36/150\n",
            "60/60 [==============================] - 0s 4ms/step - loss: 0.0263 - accuracy: 0.9945 - val_loss: 0.6840 - val_accuracy: 0.8960\n",
            "Epoch 37/150\n",
            "60/60 [==============================] - 0s 4ms/step - loss: 9.5318e-05 - accuracy: 1.0000 - val_loss: 2.3339 - val_accuracy: 0.7940\n",
            "Epoch 38/150\n",
            "60/60 [==============================] - 0s 5ms/step - loss: 0.0973 - accuracy: 0.9773 - val_loss: 0.7020 - val_accuracy: 0.8940\n",
            "Epoch 39/150\n",
            "60/60 [==============================] - 0s 5ms/step - loss: 6.8462e-05 - accuracy: 1.0000 - val_loss: 0.8462 - val_accuracy: 0.8950\n",
            "Epoch 40/150\n",
            "60/60 [==============================] - 0s 5ms/step - loss: 0.0387 - accuracy: 0.9855 - val_loss: 0.7237 - val_accuracy: 0.8950\n",
            "Epoch 41/150\n",
            "60/60 [==============================] - 0s 4ms/step - loss: 5.0684e-05 - accuracy: 1.0000 - val_loss: 0.8043 - val_accuracy: 0.8970\n",
            "Epoch 42/150\n",
            "60/60 [==============================] - 0s 4ms/step - loss: 0.0085 - accuracy: 0.9966 - val_loss: 0.8078 - val_accuracy: 0.8890\n",
            "Epoch 43/150\n",
            "60/60 [==============================] - 0s 5ms/step - loss: 0.0019 - accuracy: 0.9994 - val_loss: 0.8640 - val_accuracy: 0.8870\n",
            "Epoch 44/150\n",
            "60/60 [==============================] - 0s 4ms/step - loss: 1.8810e-04 - accuracy: 1.0000 - val_loss: 0.8044 - val_accuracy: 0.8990\n",
            "Epoch 45/150\n",
            "60/60 [==============================] - 0s 4ms/step - loss: 0.0130 - accuracy: 0.9969 - val_loss: 0.8654 - val_accuracy: 0.8940\n",
            "Epoch 46/150\n",
            "60/60 [==============================] - 0s 4ms/step - loss: 1.3668e-04 - accuracy: 1.0000 - val_loss: 0.8016 - val_accuracy: 0.8970\n",
            "Epoch 47/150\n",
            "60/60 [==============================] - 0s 4ms/step - loss: 4.1633e-04 - accuracy: 0.9997 - val_loss: 0.9844 - val_accuracy: 0.8850\n",
            "Epoch 48/150\n",
            "60/60 [==============================] - 0s 4ms/step - loss: 0.0101 - accuracy: 0.9978 - val_loss: 0.8028 - val_accuracy: 0.8990\n",
            "Epoch 49/150\n",
            "60/60 [==============================] - 0s 5ms/step - loss: 3.0179e-05 - accuracy: 1.0000 - val_loss: 0.8340 - val_accuracy: 0.8930\n",
            "Epoch 50/150\n",
            "60/60 [==============================] - 0s 4ms/step - loss: 0.0108 - accuracy: 0.9964 - val_loss: 0.8842 - val_accuracy: 0.8970\n",
            "Epoch 51/150\n",
            "60/60 [==============================] - 0s 4ms/step - loss: 3.6482e-05 - accuracy: 1.0000 - val_loss: 0.8684 - val_accuracy: 0.8990\n",
            "Epoch 52/150\n",
            "60/60 [==============================] - 0s 4ms/step - loss: 0.0140 - accuracy: 0.9980 - val_loss: 1.0592 - val_accuracy: 0.8850\n",
            "Epoch 53/150\n",
            "60/60 [==============================] - 0s 4ms/step - loss: 1.5123e-04 - accuracy: 1.0000 - val_loss: 0.9137 - val_accuracy: 0.8980\n",
            "Epoch 54/150\n",
            "60/60 [==============================] - 0s 4ms/step - loss: 1.2588e-05 - accuracy: 1.0000 - val_loss: 0.9131 - val_accuracy: 0.8980\n",
            "Epoch 55/150\n",
            "60/60 [==============================] - 0s 4ms/step - loss: 0.0222 - accuracy: 0.9952 - val_loss: 0.9201 - val_accuracy: 0.8970\n",
            "Epoch 56/150\n",
            "60/60 [==============================] - 0s 4ms/step - loss: 2.3057e-05 - accuracy: 1.0000 - val_loss: 0.8879 - val_accuracy: 0.8900\n",
            "Epoch 57/150\n",
            "60/60 [==============================] - 0s 5ms/step - loss: 0.0049 - accuracy: 0.9984 - val_loss: 0.8966 - val_accuracy: 0.8900\n",
            "Epoch 58/150\n",
            "60/60 [==============================] - 0s 4ms/step - loss: 3.7495e-05 - accuracy: 1.0000 - val_loss: 0.9224 - val_accuracy: 0.8930\n",
            "Epoch 59/150\n",
            "60/60 [==============================] - 0s 4ms/step - loss: 2.1142e-05 - accuracy: 1.0000 - val_loss: 0.9664 - val_accuracy: 0.8920\n",
            "Epoch 60/150\n",
            "60/60 [==============================] - 0s 5ms/step - loss: 0.0273 - accuracy: 0.9936 - val_loss: 0.9224 - val_accuracy: 0.8950\n",
            "Epoch 61/150\n",
            "60/60 [==============================] - 0s 4ms/step - loss: 5.8060e-06 - accuracy: 1.0000 - val_loss: 0.9437 - val_accuracy: 0.8950\n",
            "Epoch 62/150\n",
            "60/60 [==============================] - 0s 5ms/step - loss: 0.0064 - accuracy: 0.9976 - val_loss: 0.9055 - val_accuracy: 0.8970\n",
            "Epoch 63/150\n",
            "60/60 [==============================] - 0s 4ms/step - loss: 3.1629e-05 - accuracy: 1.0000 - val_loss: 0.9389 - val_accuracy: 0.8970\n",
            "Epoch 64/150\n",
            "60/60 [==============================] - 0s 4ms/step - loss: 6.2076e-06 - accuracy: 1.0000 - val_loss: 1.0128 - val_accuracy: 0.8920\n",
            "Epoch 65/150\n",
            "60/60 [==============================] - 0s 4ms/step - loss: 0.0428 - accuracy: 0.9931 - val_loss: 1.0365 - val_accuracy: 0.8950\n",
            "Epoch 66/150\n",
            "60/60 [==============================] - 0s 4ms/step - loss: 2.5856e-05 - accuracy: 1.0000 - val_loss: 1.0317 - val_accuracy: 0.8950\n",
            "Epoch 67/150\n",
            "60/60 [==============================] - 0s 6ms/step - loss: 0.0137 - accuracy: 0.9963 - val_loss: 1.0152 - val_accuracy: 0.8890\n",
            "Epoch 68/150\n",
            "60/60 [==============================] - 0s 4ms/step - loss: 0.0027 - accuracy: 0.9993 - val_loss: 0.9713 - val_accuracy: 0.8970\n",
            "Epoch 69/150\n",
            "60/60 [==============================] - 0s 4ms/step - loss: 5.3093e-04 - accuracy: 0.9995 - val_loss: 0.9838 - val_accuracy: 0.8960\n",
            "Epoch 70/150\n",
            "60/60 [==============================] - 0s 4ms/step - loss: 4.9235e-06 - accuracy: 1.0000 - val_loss: 1.0424 - val_accuracy: 0.8930\n",
            "Epoch 71/150\n",
            "60/60 [==============================] - 0s 4ms/step - loss: 4.1820e-06 - accuracy: 1.0000 - val_loss: 1.1254 - val_accuracy: 0.8930\n",
            "Epoch 72/150\n",
            "60/60 [==============================] - 0s 4ms/step - loss: 0.0081 - accuracy: 0.9980 - val_loss: 1.0976 - val_accuracy: 0.8960\n",
            "Epoch 73/150\n",
            "60/60 [==============================] - 0s 4ms/step - loss: 1.8294e-06 - accuracy: 1.0000 - val_loss: 1.1183 - val_accuracy: 0.8950\n",
            "Epoch 74/150\n",
            "60/60 [==============================] - 0s 5ms/step - loss: 0.0089 - accuracy: 0.9971 - val_loss: 1.2046 - val_accuracy: 0.8910\n",
            "Epoch 75/150\n",
            "60/60 [==============================] - 0s 4ms/step - loss: 2.6599e-05 - accuracy: 1.0000 - val_loss: 1.1280 - val_accuracy: 0.8900\n",
            "Epoch 76/150\n",
            "60/60 [==============================] - 0s 4ms/step - loss: 7.8178e-06 - accuracy: 1.0000 - val_loss: 1.1337 - val_accuracy: 0.8920\n",
            "Epoch 77/150\n",
            "60/60 [==============================] - 0s 4ms/step - loss: 0.0031 - accuracy: 0.9993 - val_loss: 1.1151 - val_accuracy: 0.8880\n",
            "Epoch 78/150\n",
            "60/60 [==============================] - 0s 5ms/step - loss: 1.3205e-05 - accuracy: 1.0000 - val_loss: 1.1380 - val_accuracy: 0.8920\n",
            "Epoch 79/150\n",
            "60/60 [==============================] - 0s 4ms/step - loss: 0.0030 - accuracy: 0.9991 - val_loss: 1.1052 - val_accuracy: 0.8900\n",
            "Epoch 80/150\n",
            "60/60 [==============================] - 0s 4ms/step - loss: 1.5518e-05 - accuracy: 1.0000 - val_loss: 1.0973 - val_accuracy: 0.8940\n",
            "Epoch 81/150\n",
            "60/60 [==============================] - 0s 5ms/step - loss: 3.1562e-06 - accuracy: 1.0000 - val_loss: 1.1306 - val_accuracy: 0.8900\n",
            "Epoch 82/150\n",
            "60/60 [==============================] - 0s 4ms/step - loss: 6.9001e-04 - accuracy: 0.9997 - val_loss: 1.0945 - val_accuracy: 0.8910\n",
            "Epoch 83/150\n",
            "60/60 [==============================] - 0s 4ms/step - loss: 2.3821e-06 - accuracy: 1.0000 - val_loss: 1.1227 - val_accuracy: 0.8980\n",
            "Epoch 84/150\n",
            "60/60 [==============================] - 0s 4ms/step - loss: 0.0090 - accuracy: 0.9970 - val_loss: 1.1281 - val_accuracy: 0.8990\n",
            "Epoch 85/150\n",
            "60/60 [==============================] - 0s 4ms/step - loss: 3.2160e-06 - accuracy: 1.0000 - val_loss: 1.2083 - val_accuracy: 0.8920\n",
            "Epoch 86/150\n",
            "60/60 [==============================] - 0s 4ms/step - loss: 0.0035 - accuracy: 0.9994 - val_loss: 1.1283 - val_accuracy: 0.8860\n",
            "Epoch 87/150\n",
            "60/60 [==============================] - 0s 4ms/step - loss: 1.4075e-04 - accuracy: 1.0000 - val_loss: 1.0353 - val_accuracy: 0.9000\n",
            "Epoch 88/150\n",
            "60/60 [==============================] - 0s 4ms/step - loss: 3.6477e-06 - accuracy: 1.0000 - val_loss: 1.0563 - val_accuracy: 0.8930\n",
            "Epoch 89/150\n",
            "60/60 [==============================] - 0s 5ms/step - loss: 7.4083e-04 - accuracy: 0.9998 - val_loss: 1.2462 - val_accuracy: 0.8880\n",
            "Epoch 90/150\n",
            "60/60 [==============================] - 0s 4ms/step - loss: 2.4277e-05 - accuracy: 1.0000 - val_loss: 1.1215 - val_accuracy: 0.8940\n",
            "Epoch 91/150\n",
            "60/60 [==============================] - 0s 5ms/step - loss: 4.4801e-05 - accuracy: 1.0000 - val_loss: 1.1178 - val_accuracy: 0.8960\n",
            "Epoch 92/150\n",
            "60/60 [==============================] - 0s 5ms/step - loss: 0.0017 - accuracy: 0.9996 - val_loss: 1.1399 - val_accuracy: 0.8930\n",
            "Epoch 93/150\n",
            "60/60 [==============================] - 0s 4ms/step - loss: 1.3581e-06 - accuracy: 1.0000 - val_loss: 1.1541 - val_accuracy: 0.8930\n",
            "Epoch 94/150\n",
            "60/60 [==============================] - 0s 4ms/step - loss: 3.3829e-06 - accuracy: 1.0000 - val_loss: 1.1848 - val_accuracy: 0.8930\n",
            "Epoch 95/150\n",
            "60/60 [==============================] - 0s 5ms/step - loss: 6.8427e-07 - accuracy: 1.0000 - val_loss: 1.2331 - val_accuracy: 0.8940\n",
            "Epoch 96/150\n",
            "60/60 [==============================] - 0s 5ms/step - loss: 0.0196 - accuracy: 0.9943 - val_loss: 1.2842 - val_accuracy: 0.8960\n",
            "Epoch 97/150\n",
            "60/60 [==============================] - 0s 5ms/step - loss: 3.0660e-06 - accuracy: 1.0000 - val_loss: 1.2178 - val_accuracy: 0.8950\n",
            "Epoch 98/150\n",
            "60/60 [==============================] - 0s 5ms/step - loss: 5.8696e-07 - accuracy: 1.0000 - val_loss: 1.2265 - val_accuracy: 0.8910\n",
            "Epoch 99/150\n",
            "60/60 [==============================] - 0s 4ms/step - loss: 0.0130 - accuracy: 0.9978 - val_loss: 1.2095 - val_accuracy: 0.8980\n",
            "Epoch 100/150\n",
            "60/60 [==============================] - 0s 4ms/step - loss: 7.6133e-07 - accuracy: 1.0000 - val_loss: 1.2086 - val_accuracy: 0.8910\n",
            "Epoch 101/150\n",
            "60/60 [==============================] - 0s 5ms/step - loss: 5.3798e-06 - accuracy: 1.0000 - val_loss: 1.2341 - val_accuracy: 0.8940\n",
            "Epoch 102/150\n",
            "60/60 [==============================] - 0s 4ms/step - loss: 0.0058 - accuracy: 0.9992 - val_loss: 1.3378 - val_accuracy: 0.8900\n",
            "Epoch 103/150\n",
            "60/60 [==============================] - 0s 5ms/step - loss: 5.2111e-06 - accuracy: 1.0000 - val_loss: 1.2647 - val_accuracy: 0.8960\n",
            "Epoch 104/150\n",
            "60/60 [==============================] - 0s 4ms/step - loss: 8.2199e-07 - accuracy: 1.0000 - val_loss: 1.1993 - val_accuracy: 0.8910\n",
            "Epoch 105/150\n",
            "60/60 [==============================] - 0s 5ms/step - loss: 1.4745e-07 - accuracy: 1.0000 - val_loss: 1.2194 - val_accuracy: 0.8880\n",
            "Epoch 106/150\n",
            "60/60 [==============================] - 0s 5ms/step - loss: 0.0076 - accuracy: 0.9976 - val_loss: 1.2950 - val_accuracy: 0.8950\n",
            "Epoch 107/150\n",
            "60/60 [==============================] - 0s 6ms/step - loss: 1.0628e-06 - accuracy: 1.0000 - val_loss: 1.2510 - val_accuracy: 0.8920\n",
            "Epoch 108/150\n",
            "60/60 [==============================] - 0s 5ms/step - loss: 4.9180e-07 - accuracy: 1.0000 - val_loss: 1.2780 - val_accuracy: 0.8920\n",
            "Epoch 109/150\n",
            "60/60 [==============================] - 0s 5ms/step - loss: 0.0252 - accuracy: 0.9942 - val_loss: 1.3510 - val_accuracy: 0.8910\n",
            "Epoch 110/150\n",
            "60/60 [==============================] - 0s 5ms/step - loss: 4.8546e-06 - accuracy: 1.0000 - val_loss: 1.2636 - val_accuracy: 0.8910\n",
            "Epoch 111/150\n",
            "60/60 [==============================] - 0s 5ms/step - loss: 1.7613e-07 - accuracy: 1.0000 - val_loss: 1.2684 - val_accuracy: 0.8900\n",
            "Epoch 112/150\n",
            "60/60 [==============================] - 0s 4ms/step - loss: 1.1143e-06 - accuracy: 1.0000 - val_loss: 1.2834 - val_accuracy: 0.8900\n",
            "Epoch 113/150\n",
            "60/60 [==============================] - 0s 5ms/step - loss: 0.0045 - accuracy: 0.9983 - val_loss: 1.2743 - val_accuracy: 0.8860\n",
            "Epoch 114/150\n",
            "60/60 [==============================] - 0s 5ms/step - loss: 3.9610e-07 - accuracy: 1.0000 - val_loss: 1.2794 - val_accuracy: 0.8880\n",
            "Epoch 115/150\n",
            "60/60 [==============================] - 0s 5ms/step - loss: 1.7426e-07 - accuracy: 1.0000 - val_loss: 1.4512 - val_accuracy: 0.8870\n",
            "Epoch 116/150\n",
            "60/60 [==============================] - 0s 4ms/step - loss: 0.0091 - accuracy: 0.9978 - val_loss: 1.5611 - val_accuracy: 0.8780\n",
            "Epoch 117/150\n",
            "60/60 [==============================] - 0s 5ms/step - loss: 1.7776e-04 - accuracy: 1.0000 - val_loss: 1.2209 - val_accuracy: 0.8930\n",
            "Epoch 118/150\n",
            "60/60 [==============================] - 0s 5ms/step - loss: 8.4085e-07 - accuracy: 1.0000 - val_loss: 1.2335 - val_accuracy: 0.8910\n",
            "Epoch 119/150\n",
            "60/60 [==============================] - 0s 5ms/step - loss: 5.5316e-07 - accuracy: 1.0000 - val_loss: 1.4338 - val_accuracy: 0.8920\n",
            "Epoch 120/150\n",
            "60/60 [==============================] - 0s 5ms/step - loss: 8.2265e-06 - accuracy: 1.0000 - val_loss: 1.3172 - val_accuracy: 0.8910\n",
            "Epoch 121/150\n",
            "60/60 [==============================] - 0s 6ms/step - loss: 1.5752e-06 - accuracy: 1.0000 - val_loss: 1.3773 - val_accuracy: 0.8940\n",
            "Epoch 122/150\n",
            "60/60 [==============================] - 0s 4ms/step - loss: 0.0192 - accuracy: 0.9957 - val_loss: 1.3485 - val_accuracy: 0.8920\n",
            "Epoch 123/150\n",
            "60/60 [==============================] - 0s 4ms/step - loss: 1.9509e-07 - accuracy: 1.0000 - val_loss: 1.3465 - val_accuracy: 0.8920\n",
            "Epoch 124/150\n",
            "60/60 [==============================] - 0s 4ms/step - loss: 6.2193e-07 - accuracy: 1.0000 - val_loss: 1.3848 - val_accuracy: 0.8930\n",
            "Epoch 125/150\n",
            "60/60 [==============================] - 0s 5ms/step - loss: 0.0015 - accuracy: 0.9996 - val_loss: 1.3868 - val_accuracy: 0.8880\n",
            "Epoch 126/150\n",
            "60/60 [==============================] - 0s 4ms/step - loss: 1.8253e-06 - accuracy: 1.0000 - val_loss: 1.3194 - val_accuracy: 0.8910\n",
            "Epoch 127/150\n",
            "60/60 [==============================] - 0s 5ms/step - loss: 2.0781e-07 - accuracy: 1.0000 - val_loss: 1.3013 - val_accuracy: 0.8910\n",
            "Epoch 128/150\n",
            "60/60 [==============================] - 0s 5ms/step - loss: 4.6633e-07 - accuracy: 1.0000 - val_loss: 1.3611 - val_accuracy: 0.8910\n",
            "Epoch 129/150\n",
            "60/60 [==============================] - 0s 5ms/step - loss: 0.0034 - accuracy: 0.9992 - val_loss: 1.3413 - val_accuracy: 0.8910\n",
            "Epoch 130/150\n",
            "60/60 [==============================] - 0s 4ms/step - loss: 2.0328e-07 - accuracy: 1.0000 - val_loss: 1.3369 - val_accuracy: 0.8910\n",
            "Epoch 131/150\n",
            "60/60 [==============================] - 0s 5ms/step - loss: 2.7973e-07 - accuracy: 1.0000 - val_loss: 1.3154 - val_accuracy: 0.8900\n",
            "Epoch 132/150\n",
            "60/60 [==============================] - 0s 5ms/step - loss: 1.0979e-07 - accuracy: 1.0000 - val_loss: 1.3373 - val_accuracy: 0.8890\n",
            "Epoch 133/150\n",
            "60/60 [==============================] - 0s 4ms/step - loss: 1.7180e-05 - accuracy: 1.0000 - val_loss: 1.3447 - val_accuracy: 0.8870\n",
            "Epoch 134/150\n",
            "60/60 [==============================] - 0s 5ms/step - loss: 4.6624e-08 - accuracy: 1.0000 - val_loss: 1.3859 - val_accuracy: 0.8910\n",
            "Epoch 135/150\n",
            "60/60 [==============================] - 0s 5ms/step - loss: 0.0040 - accuracy: 0.9990 - val_loss: 1.2819 - val_accuracy: 0.8890\n",
            "Epoch 136/150\n",
            "60/60 [==============================] - 0s 5ms/step - loss: 2.5087e-07 - accuracy: 1.0000 - val_loss: 1.2908 - val_accuracy: 0.8870\n",
            "Epoch 137/150\n",
            "60/60 [==============================] - 0s 5ms/step - loss: 1.8782e-07 - accuracy: 1.0000 - val_loss: 1.2971 - val_accuracy: 0.8860\n",
            "Epoch 138/150\n",
            "60/60 [==============================] - 0s 5ms/step - loss: 5.8904e-08 - accuracy: 1.0000 - val_loss: 1.3434 - val_accuracy: 0.8860\n",
            "Epoch 139/150\n",
            "60/60 [==============================] - 0s 5ms/step - loss: 2.6930e-07 - accuracy: 1.0000 - val_loss: 1.3731 - val_accuracy: 0.8880\n",
            "Epoch 140/150\n",
            "60/60 [==============================] - 0s 5ms/step - loss: 1.9672e-07 - accuracy: 1.0000 - val_loss: 1.4431 - val_accuracy: 0.8890\n",
            "Epoch 141/150\n",
            "60/60 [==============================] - 0s 5ms/step - loss: 2.5461e-08 - accuracy: 1.0000 - val_loss: 1.4275 - val_accuracy: 0.8910\n",
            "Epoch 142/150\n",
            "60/60 [==============================] - 0s 5ms/step - loss: 5.3137e-08 - accuracy: 1.0000 - val_loss: 1.4303 - val_accuracy: 0.8890\n",
            "Epoch 143/150\n",
            "60/60 [==============================] - 0s 5ms/step - loss: 0.0028 - accuracy: 0.9992 - val_loss: 1.4044 - val_accuracy: 0.8870\n",
            "Epoch 144/150\n",
            "60/60 [==============================] - 0s 5ms/step - loss: 2.1776e-07 - accuracy: 1.0000 - val_loss: 1.4032 - val_accuracy: 0.8880\n",
            "Epoch 145/150\n",
            "60/60 [==============================] - 0s 5ms/step - loss: 2.1685e-06 - accuracy: 1.0000 - val_loss: 1.4615 - val_accuracy: 0.8900\n",
            "Epoch 146/150\n",
            "60/60 [==============================] - 0s 5ms/step - loss: 5.0916e-04 - accuracy: 0.9998 - val_loss: 1.6062 - val_accuracy: 0.8870\n",
            "Epoch 147/150\n",
            "60/60 [==============================] - 0s 5ms/step - loss: 2.4015e-06 - accuracy: 1.0000 - val_loss: 1.5098 - val_accuracy: 0.8940\n",
            "Epoch 148/150\n",
            "60/60 [==============================] - 0s 5ms/step - loss: 2.4599e-07 - accuracy: 1.0000 - val_loss: 1.4971 - val_accuracy: 0.8920\n",
            "Epoch 149/150\n",
            "60/60 [==============================] - 0s 5ms/step - loss: 4.8884e-08 - accuracy: 1.0000 - val_loss: 1.4434 - val_accuracy: 0.8900\n",
            "Epoch 150/150\n",
            "60/60 [==============================] - 0s 5ms/step - loss: 2.6181e-07 - accuracy: 1.0000 - val_loss: 1.4965 - val_accuracy: 0.8940\n"
          ],
          "name": "stdout"
        }
      ]
    },
    {
      "cell_type": "code",
      "metadata": {
        "id": "P0Fk-e8wA3jd",
        "colab": {
          "base_uri": "https://localhost:8080/",
          "height": 308
        },
        "outputId": "749e855f-ab6e-4bb8-b6aa-e81f1a2ca1af"
      },
      "source": [
        "f, (ax1, ax2) = plt.subplots(1, 2, figsize=(12, 4))\n",
        "t = f.suptitle('Pre-trained CNN (Transfer Learning) Performance', fontsize=12)\n",
        "f.subplots_adjust(top=0.85, wspace=0.3)\n",
        "\n",
        "epoch_list = list(range(1,151))\n",
        "ax1.plot(epoch_list, history.history['accuracy'], label='Train Accuracy')\n",
        "ax1.plot(epoch_list, history.history['val_accuracy'], label='Validation Accuracy')\n",
        "ax1.set_xticks(np.arange(0, 151, 5))\n",
        "ax1.set_ylabel('Accuracy Value')\n",
        "ax1.set_xlabel('Epoch')\n",
        "ax1.set_title('Accuracy')\n",
        "l1 = ax1.legend(loc=\"best\")\n",
        "\n",
        "ax2.plot(epoch_list, history.history['loss'], label='Train Loss')\n",
        "ax2.plot(epoch_list, history.history['val_loss'], label='Validation Loss')\n",
        "ax2.set_xticks(np.arange(0, 151, 5))\n",
        "ax2.set_ylabel('Loss Value')\n",
        "ax2.set_xlabel('Epoch')\n",
        "ax2.set_title('Loss')\n",
        "l2 = ax2.legend(loc=\"best\")"
      ],
      "execution_count": null,
      "outputs": [
        {
          "output_type": "display_data",
          "data": {
            "image/png": "[encoded data removed]",
            "text/plain": [
              "<Figure size 864x288 with 2 Axes>"
            ]
          },
          "metadata": {
            "tags": [],
            "needs_background": "light"
          }
        }
      ]
    },
    {
      "cell_type": "code",
      "metadata": {
        "id": "wHLV0XfKA3jd"
      },
      "source": [
        "model.save('4-pretrained_cnn.h5')"
      ],
      "execution_count": null,
      "outputs": []
    },
    {
      "cell_type": "code",
      "metadata": {
        "id": "eBjX3kbpA3je"
      },
      "source": [
        ""
      ],
      "execution_count": null,
      "outputs": []
    },
    {
      "cell_type": "code",
      "metadata": {
        "id": "3IaOWSbaA3je"
      },
      "source": [
        ""
      ],
      "execution_count": null,
      "outputs": []
    },
    {
      "cell_type": "code",
      "metadata": {
        "id": "Q7SzUeawA3jn"
      },
      "source": [
        ""
      ],
      "execution_count": null,
      "outputs": []
    }
  ]
}
