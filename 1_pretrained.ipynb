{
  "nbformat": 4,
  "nbformat_minor": 0,
  "metadata": {
    "kernelspec": {
      "display_name": "Python 3",
      "language": "python",
      "name": "python3"
    },
    "language_info": {
      "codemirror_mode": {
        "name": "ipython",
        "version": 3
      },
      "file_extension": ".py",
      "mimetype": "text/x-python",
      "name": "python",
      "nbconvert_exporter": "python",
      "pygments_lexer": "ipython3",
      "version": "3.7.6"
    },
    "colab": {
      "name": "4-pretrained.ipynb",
      "provenance": [],
      "include_colab_link": true
    },
    "accelerator": "GPU"
  },
  "cells": [
    {
      "cell_type": "markdown",
      "metadata": {
        "id": "view-in-github",
        "colab_type": "text"
      },
      "source": [
        "<a href=\"https://colab.research.google.com/github/JSJeong-me/CNN-Daisy-Dandelion/blob/main/1_pretrained.ipynb\" target=\"_parent\"><img src=\"https://colab.research.google.com/assets/colab-badge.svg\" alt=\"Open In Colab\"/></a>"
      ]
    },
    {
      "cell_type": "code",
      "metadata": {
        "id": "22mg_PXnCKsU",
        "colab": {
          "base_uri": "https://localhost:8080/"
        },
        "outputId": "f3084a1d-bd65-4c2e-f796-e8a50ca6b666"
      },
      "source": [
        "from google.colab import drive\n",
        "drive.mount('/content/drive')"
      ],
      "execution_count": 1,
      "outputs": [
        {
          "output_type": "stream",
          "text": [
            "Mounted at /content/drive\n"
          ],
          "name": "stdout"
        }
      ]
    },
    {
      "cell_type": "code",
      "metadata": {
        "id": "6giq8ls1A3jN"
      },
      "source": [
        "%matplotlib inline"
      ],
      "execution_count": 2,
      "outputs": []
    },
    {
      "cell_type": "code",
      "metadata": {
        "id": "B9GBtXmwA47m",
        "colab": {
          "base_uri": "https://localhost:8080/"
        },
        "outputId": "c33bdcd3-37d7-4cd0-f4b5-b9871fafa81d"
      },
      "source": [
        "!ls -l"
      ],
      "execution_count": 3,
      "outputs": [
        {
          "output_type": "stream",
          "text": [
            "total 8\n",
            "drwx------ 5 root root 4096 Jan 25 06:33 drive\n",
            "drwxr-xr-x 1 root root 4096 Jan 20 17:27 sample_data\n"
          ],
          "name": "stdout"
        }
      ]
    },
    {
      "cell_type": "code",
      "metadata": {
        "id": "FWj06i8uA6OO"
      },
      "source": [
        "!cp ./drive/MyDrive/flower.zip ."
      ],
      "execution_count": 4,
      "outputs": []
    },
    {
      "cell_type": "code",
      "metadata": {
        "id": "AEJfrotXA58E"
      },
      "source": [
        "!unzip flower.zip\r\n"
      ],
      "execution_count": null,
      "outputs": []
    },
    {
      "cell_type": "code",
      "metadata": {
        "id": "O5M05p_pA5rd"
      },
      "source": [
        ""
      ],
      "execution_count": null,
      "outputs": []
    },
    {
      "cell_type": "code",
      "metadata": {
        "id": "KPy5I5SBA3jW"
      },
      "source": [
        "import glob\n",
        "import numpy as np\n",
        "import matplotlib.pyplot as plt\n",
        "from tensorflow.keras.preprocessing.image import ImageDataGenerator, load_img, img_to_array, array_to_img"
      ],
      "execution_count": 7,
      "outputs": []
    },
    {
      "cell_type": "code",
      "metadata": {
        "id": "eZImnfGOA3jX",
        "colab": {
          "base_uri": "https://localhost:8080/"
        },
        "outputId": "dc06758b-bc1b-4202-d5ee-38325efb3be0"
      },
      "source": [
        "IMG_DIM = (150, 150)\n",
        "\n",
        "train_files = glob.glob('training_data/*')\n",
        "train_imgs = [img_to_array(load_img(img, target_size=IMG_DIM)) for img in train_files]\n",
        "train_imgs = np.array(train_imgs)\n",
        "train_labels = [fn.split('/')[1].split('.')[0].strip() for fn in train_files]\n",
        "\n",
        "validation_files = glob.glob('validation_data/*')\n",
        "validation_imgs = [img_to_array(load_img(img, target_size=IMG_DIM)) for img in validation_files]\n",
        "validation_imgs = np.array(validation_imgs)\n",
        "validation_labels = [fn.split('/')[1].split('.')[0].strip() for fn in validation_files]\n",
        "\n",
        "print('Train dataset shape:', train_imgs.shape, \n",
        "      '\\tValidation dataset shape:', validation_imgs.shape)"
      ],
      "execution_count": 8,
      "outputs": [
        {
          "output_type": "stream",
          "text": [
            "Train dataset shape: (1275, 150, 150, 3) \tValidation dataset shape: (364, 150, 150, 3)\n"
          ],
          "name": "stdout"
        }
      ]
    },
    {
      "cell_type": "code",
      "metadata": {
        "id": "OiDa5o60A3jX"
      },
      "source": [
        "train_imgs_scaled = train_imgs.astype('float32')\n",
        "validation_imgs_scaled = validation_imgs.astype('float32')\n",
        "train_imgs_scaled /= 255\n",
        "validation_imgs_scaled /= 255"
      ],
      "execution_count": 9,
      "outputs": []
    },
    {
      "cell_type": "code",
      "metadata": {
        "id": "COLKZn79A3jY",
        "colab": {
          "base_uri": "https://localhost:8080/"
        },
        "outputId": "33c18b10-d91d-446e-ad7b-949028d9c1a3"
      },
      "source": [
        "batch_size = 50\n",
        "num_classes = 2\n",
        "epochs = 150\n",
        "input_shape = (150, 150, 3)\n",
        "\n",
        "from sklearn.preprocessing import LabelEncoder\n",
        "\n",
        "le = LabelEncoder()\n",
        "le.fit(train_labels)\n",
        "# encode wine type labels\n",
        "train_labels_enc = le.transform(train_labels)\n",
        "validation_labels_enc = le.transform(validation_labels)\n",
        "\n",
        "print(train_labels[0:5], train_labels_enc[0:5])"
      ],
      "execution_count": 10,
      "outputs": [
        {
          "output_type": "stream",
          "text": [
            "['daisy', 'dandelion', 'dandelion', 'daisy', 'dandelion'] [0 1 1 0 1]\n"
          ],
          "name": "stdout"
        }
      ]
    },
    {
      "cell_type": "code",
      "metadata": {
        "id": "9fVVMivMA3jZ"
      },
      "source": [
        "\n",
        "from tensorflow.keras.applications import vgg16\n",
        "from tensorflow.keras.models import Model\n",
        "import tensorflow.keras\n",
        "\n",
        "vgg = vgg16.VGG16(include_top=False, weights='imagenet',\n",
        "                                     input_shape=input_shape)\n",
        "\n",
        "output = vgg.layers[-1].output\n",
        "output = tensorflow.keras.layers.Flatten()(output)\n",
        "\n",
        "vgg_model = Model(vgg.input, output)\n",
        "vgg_model.trainable = False\n",
        "\n",
        "for layer in vgg_model.layers:\n",
        "    layer.trainable = False\n",
        "\n",
        "vgg_model.summary()\n"
      ],
      "execution_count": null,
      "outputs": []
    },
    {
      "cell_type": "code",
      "metadata": {
        "id": "T9SDjC3EA3jZ",
        "colab": {
          "base_uri": "https://localhost:8080/",
          "height": 719
        },
        "outputId": "dad69fd2-11f1-4a1c-8e58-7918eac18bc3"
      },
      "source": [
        "import pandas as pd\n",
        "pd.set_option('max_colwidth', -1)\n",
        "\n",
        "layers = [(layer, layer.name, layer.trainable) for layer in vgg_model.layers]\n",
        "pd.DataFrame(layers, columns=['Layer Type', 'Layer Name', 'Layer Trainable'])"
      ],
      "execution_count": 13,
      "outputs": [
        {
          "output_type": "stream",
          "text": [
            "/usr/local/lib/python3.6/dist-packages/ipykernel_launcher.py:2: FutureWarning: Passing a negative integer is deprecated in version 1.0 and will not be supported in future version. Instead, use None to not limit the column width.\n",
            "  \n"
          ],
          "name": "stderr"
        },
        {
          "output_type": "execute_result",
          "data": {
            "text/html": [
              "<div>\n",
              "<style scoped>\n",
              "    .dataframe tbody tr th:only-of-type {\n",
              "        vertical-align: middle;\n",
              "    }\n",
              "\n",
              "    .dataframe tbody tr th {\n",
              "        vertical-align: top;\n",
              "    }\n",
              "\n",
              "    .dataframe thead th {\n",
              "        text-align: right;\n",
              "    }\n",
              "</style>\n",
              "<table border=\"1\" class=\"dataframe\">\n",
              "  <thead>\n",
              "    <tr style=\"text-align: right;\">\n",
              "      <th></th>\n",
              "      <th>Layer Type</th>\n",
              "      <th>Layer Name</th>\n",
              "      <th>Layer Trainable</th>\n",
              "    </tr>\n",
              "  </thead>\n",
              "  <tbody>\n",
              "    <tr>\n",
              "      <th>0</th>\n",
              "      <td>&lt;tensorflow.python.keras.engine.input_layer.InputLayer object at 0x7f9bb0073908&gt;</td>\n",
              "      <td>input_2</td>\n",
              "      <td>False</td>\n",
              "    </tr>\n",
              "    <tr>\n",
              "      <th>1</th>\n",
              "      <td>&lt;tensorflow.python.keras.layers.convolutional.Conv2D object at 0x7f9bb007cb00&gt;</td>\n",
              "      <td>block1_conv1</td>\n",
              "      <td>False</td>\n",
              "    </tr>\n",
              "    <tr>\n",
              "      <th>2</th>\n",
              "      <td>&lt;tensorflow.python.keras.layers.convolutional.Conv2D object at 0x7f9bbf312da0&gt;</td>\n",
              "      <td>block1_conv2</td>\n",
              "      <td>False</td>\n",
              "    </tr>\n",
              "    <tr>\n",
              "      <th>3</th>\n",
              "      <td>&lt;tensorflow.python.keras.layers.pooling.MaxPooling2D object at 0x7f9bbf312d68&gt;</td>\n",
              "      <td>block1_pool</td>\n",
              "      <td>False</td>\n",
              "    </tr>\n",
              "    <tr>\n",
              "      <th>4</th>\n",
              "      <td>&lt;tensorflow.python.keras.layers.convolutional.Conv2D object at 0x7f9bb0041fd0&gt;</td>\n",
              "      <td>block2_conv1</td>\n",
              "      <td>False</td>\n",
              "    </tr>\n",
              "    <tr>\n",
              "      <th>5</th>\n",
              "      <td>&lt;tensorflow.python.keras.layers.convolutional.Conv2D object at 0x7f9b68055d68&gt;</td>\n",
              "      <td>block2_conv2</td>\n",
              "      <td>False</td>\n",
              "    </tr>\n",
              "    <tr>\n",
              "      <th>6</th>\n",
              "      <td>&lt;tensorflow.python.keras.layers.pooling.MaxPooling2D object at 0x7f9b6805a588&gt;</td>\n",
              "      <td>block2_pool</td>\n",
              "      <td>False</td>\n",
              "    </tr>\n",
              "    <tr>\n",
              "      <th>7</th>\n",
              "      <td>&lt;tensorflow.python.keras.layers.convolutional.Conv2D object at 0x7f9bb00412e8&gt;</td>\n",
              "      <td>block3_conv1</td>\n",
              "      <td>False</td>\n",
              "    </tr>\n",
              "    <tr>\n",
              "      <th>8</th>\n",
              "      <td>&lt;tensorflow.python.keras.layers.convolutional.Conv2D object at 0x7f9b6805f7b8&gt;</td>\n",
              "      <td>block3_conv2</td>\n",
              "      <td>False</td>\n",
              "    </tr>\n",
              "    <tr>\n",
              "      <th>9</th>\n",
              "      <td>&lt;tensorflow.python.keras.layers.convolutional.Conv2D object at 0x7f9b5139bf60&gt;</td>\n",
              "      <td>block3_conv3</td>\n",
              "      <td>False</td>\n",
              "    </tr>\n",
              "    <tr>\n",
              "      <th>10</th>\n",
              "      <td>&lt;tensorflow.python.keras.layers.pooling.MaxPooling2D object at 0x7f9bb00415c0&gt;</td>\n",
              "      <td>block3_pool</td>\n",
              "      <td>False</td>\n",
              "    </tr>\n",
              "    <tr>\n",
              "      <th>11</th>\n",
              "      <td>&lt;tensorflow.python.keras.layers.convolutional.Conv2D object at 0x7f9b513a7160&gt;</td>\n",
              "      <td>block4_conv1</td>\n",
              "      <td>False</td>\n",
              "    </tr>\n",
              "    <tr>\n",
              "      <th>12</th>\n",
              "      <td>&lt;tensorflow.python.keras.layers.convolutional.Conv2D object at 0x7f9b513a7ef0&gt;</td>\n",
              "      <td>block4_conv2</td>\n",
              "      <td>False</td>\n",
              "    </tr>\n",
              "    <tr>\n",
              "      <th>13</th>\n",
              "      <td>&lt;tensorflow.python.keras.layers.convolutional.Conv2D object at 0x7f9b513ac048&gt;</td>\n",
              "      <td>block4_conv3</td>\n",
              "      <td>False</td>\n",
              "    </tr>\n",
              "    <tr>\n",
              "      <th>14</th>\n",
              "      <td>&lt;tensorflow.python.keras.layers.pooling.MaxPooling2D object at 0x7f9b513a1048&gt;</td>\n",
              "      <td>block4_pool</td>\n",
              "      <td>False</td>\n",
              "    </tr>\n",
              "    <tr>\n",
              "      <th>15</th>\n",
              "      <td>&lt;tensorflow.python.keras.layers.convolutional.Conv2D object at 0x7f9b513b7ef0&gt;</td>\n",
              "      <td>block5_conv1</td>\n",
              "      <td>False</td>\n",
              "    </tr>\n",
              "    <tr>\n",
              "      <th>16</th>\n",
              "      <td>&lt;tensorflow.python.keras.layers.convolutional.Conv2D object at 0x7f9b513bb2e8&gt;</td>\n",
              "      <td>block5_conv2</td>\n",
              "      <td>False</td>\n",
              "    </tr>\n",
              "    <tr>\n",
              "      <th>17</th>\n",
              "      <td>&lt;tensorflow.python.keras.layers.convolutional.Conv2D object at 0x7f9b513c1390&gt;</td>\n",
              "      <td>block5_conv3</td>\n",
              "      <td>False</td>\n",
              "    </tr>\n",
              "    <tr>\n",
              "      <th>18</th>\n",
              "      <td>&lt;tensorflow.python.keras.layers.pooling.MaxPooling2D object at 0x7f9b513c6898&gt;</td>\n",
              "      <td>block5_pool</td>\n",
              "      <td>False</td>\n",
              "    </tr>\n",
              "    <tr>\n",
              "      <th>19</th>\n",
              "      <td>&lt;tensorflow.python.keras.layers.core.Flatten object at 0x7f9bb0096588&gt;</td>\n",
              "      <td>flatten_1</td>\n",
              "      <td>False</td>\n",
              "    </tr>\n",
              "  </tbody>\n",
              "</table>\n",
              "</div>"
            ],
            "text/plain": [
              "                                                                          Layer Type  ... Layer Trainable\n",
              "0   <tensorflow.python.keras.engine.input_layer.InputLayer object at 0x7f9bb0073908>  ...  False         \n",
              "1   <tensorflow.python.keras.layers.convolutional.Conv2D object at 0x7f9bb007cb00>    ...  False         \n",
              "2   <tensorflow.python.keras.layers.convolutional.Conv2D object at 0x7f9bbf312da0>    ...  False         \n",
              "3   <tensorflow.python.keras.layers.pooling.MaxPooling2D object at 0x7f9bbf312d68>    ...  False         \n",
              "4   <tensorflow.python.keras.layers.convolutional.Conv2D object at 0x7f9bb0041fd0>    ...  False         \n",
              "5   <tensorflow.python.keras.layers.convolutional.Conv2D object at 0x7f9b68055d68>    ...  False         \n",
              "6   <tensorflow.python.keras.layers.pooling.MaxPooling2D object at 0x7f9b6805a588>    ...  False         \n",
              "7   <tensorflow.python.keras.layers.convolutional.Conv2D object at 0x7f9bb00412e8>    ...  False         \n",
              "8   <tensorflow.python.keras.layers.convolutional.Conv2D object at 0x7f9b6805f7b8>    ...  False         \n",
              "9   <tensorflow.python.keras.layers.convolutional.Conv2D object at 0x7f9b5139bf60>    ...  False         \n",
              "10  <tensorflow.python.keras.layers.pooling.MaxPooling2D object at 0x7f9bb00415c0>    ...  False         \n",
              "11  <tensorflow.python.keras.layers.convolutional.Conv2D object at 0x7f9b513a7160>    ...  False         \n",
              "12  <tensorflow.python.keras.layers.convolutional.Conv2D object at 0x7f9b513a7ef0>    ...  False         \n",
              "13  <tensorflow.python.keras.layers.convolutional.Conv2D object at 0x7f9b513ac048>    ...  False         \n",
              "14  <tensorflow.python.keras.layers.pooling.MaxPooling2D object at 0x7f9b513a1048>    ...  False         \n",
              "15  <tensorflow.python.keras.layers.convolutional.Conv2D object at 0x7f9b513b7ef0>    ...  False         \n",
              "16  <tensorflow.python.keras.layers.convolutional.Conv2D object at 0x7f9b513bb2e8>    ...  False         \n",
              "17  <tensorflow.python.keras.layers.convolutional.Conv2D object at 0x7f9b513c1390>    ...  False         \n",
              "18  <tensorflow.python.keras.layers.pooling.MaxPooling2D object at 0x7f9b513c6898>    ...  False         \n",
              "19  <tensorflow.python.keras.layers.core.Flatten object at 0x7f9bb0096588>            ...  False         \n",
              "\n",
              "[20 rows x 3 columns]"
            ]
          },
          "metadata": {
            "tags": []
          },
          "execution_count": 13
        }
      ]
    },
    {
      "cell_type": "code",
      "metadata": {
        "id": "OvJvrtrgA3ja",
        "colab": {
          "base_uri": "https://localhost:8080/"
        },
        "outputId": "2499df49-f25b-40c9-df2e-83b758a121a8"
      },
      "source": [
        "print(\"Trainable layers:\", vgg_model.trainable_weights)"
      ],
      "execution_count": 14,
      "outputs": [
        {
          "output_type": "stream",
          "text": [
            "Trainable layers: []\n"
          ],
          "name": "stdout"
        }
      ]
    },
    {
      "cell_type": "code",
      "metadata": {
        "id": "J_Zbyst4A3ja",
        "colab": {
          "base_uri": "https://localhost:8080/",
          "height": 307
        },
        "outputId": "0354d210-f5f6-43c8-a4b6-d9e4e4d92e94"
      },
      "source": [
        "bottleneck_feature_example = vgg.predict(train_imgs_scaled[0:1])\n",
        "print(bottleneck_feature_example.shape)\n",
        "plt.imshow(bottleneck_feature_example[0][:,:,0])"
      ],
      "execution_count": 15,
      "outputs": [
        {
          "output_type": "stream",
          "text": [
            "(1, 4, 4, 512)\n"
          ],
          "name": "stdout"
        },
        {
          "output_type": "execute_result",
          "data": {
            "text/plain": [
              "<matplotlib.image.AxesImage at 0x7f9b50248080>"
            ]
          },
          "metadata": {
            "tags": []
          },
          "execution_count": 15
        },
        {
          "output_type": "display_data",
          "data": {
            "image/png": "[encoded data removed]",
            "text/plain": [
              "<Figure size 432x288 with 1 Axes>"
            ]
          },
          "metadata": {
            "tags": [],
            "needs_background": "light"
          }
        }
      ]
    },
    {
      "cell_type": "code",
      "metadata": {
        "id": "_8LY2OOaA3jb"
      },
      "source": [
        "def get_bottleneck_features(model, input_imgs):\n",
        "    \n",
        "    features = model.predict(input_imgs, verbose=0)\n",
        "    return features"
      ],
      "execution_count": 16,
      "outputs": []
    },
    {
      "cell_type": "code",
      "metadata": {
        "id": "8sekjWocA3jb",
        "colab": {
          "base_uri": "https://localhost:8080/"
        },
        "outputId": "085468af-19db-4521-9a0c-629990d567b3"
      },
      "source": [
        "train_features_vgg = get_bottleneck_features(vgg_model, train_imgs_scaled)\n",
        "validation_features_vgg = get_bottleneck_features(vgg_model, validation_imgs_scaled)\n",
        "\n",
        "print('Train Bottleneck Features:', train_features_vgg.shape, \n",
        "      '\\tValidation Bottleneck Features:', validation_features_vgg.shape)"
      ],
      "execution_count": 17,
      "outputs": [
        {
          "output_type": "stream",
          "text": [
            "Train Bottleneck Features: (1275, 8192) \tValidation Bottleneck Features: (364, 8192)\n"
          ],
          "name": "stdout"
        }
      ]
    },
    {
      "cell_type": "code",
      "metadata": {
        "id": "oXhFf4HLA3jc",
        "colab": {
          "base_uri": "https://localhost:8080/"
        },
        "outputId": "2e1bffbc-7193-4c27-b917-864afab957ed"
      },
      "source": [
        "from tensorflow.keras.layers import Conv2D, MaxPooling2D, Flatten, Dense, Dropout, InputLayer\n",
        "from tensorflow.keras.models import Sequential\n",
        "from tensorflow.keras import optimizers\n",
        "\n",
        "input_shape = vgg_model.output_shape[1]\n",
        "\n",
        "model = Sequential()\n",
        "model.add(InputLayer(input_shape=(input_shape,)))\n",
        "model.add(Dense(512, activation='relu', input_dim=input_shape))\n",
        "model.add(Dropout(0.3))\n",
        "model.add(Dense(512, activation='relu'))\n",
        "model.add(Dropout(0.3))\n",
        "model.add(Dense(1, activation='sigmoid'))\n",
        "\n",
        "model.compile(loss='binary_crossentropy',\n",
        "              optimizer=optimizers.RMSprop(lr=1e-4),\n",
        "              metrics=['accuracy'])\n",
        "\n",
        "model.summary()"
      ],
      "execution_count": 19,
      "outputs": [
        {
          "output_type": "stream",
          "text": [
            "Model: \"sequential_1\"\n",
            "_________________________________________________________________\n",
            "Layer (type)                 Output Shape              Param #   \n",
            "=================================================================\n",
            "dense_3 (Dense)              (None, 512)               4194816   \n",
            "_________________________________________________________________\n",
            "dropout_2 (Dropout)          (None, 512)               0         \n",
            "_________________________________________________________________\n",
            "dense_4 (Dense)              (None, 512)               262656    \n",
            "_________________________________________________________________\n",
            "dropout_3 (Dropout)          (None, 512)               0         \n",
            "_________________________________________________________________\n",
            "dense_5 (Dense)              (None, 1)                 513       \n",
            "=================================================================\n",
            "Total params: 4,457,985\n",
            "Trainable params: 4,457,985\n",
            "Non-trainable params: 0\n",
            "_________________________________________________________________\n"
          ],
          "name": "stdout"
        }
      ]
    },
    {
      "cell_type": "code",
      "metadata": {
        "id": "UV-VPb-lA3jc",
        "colab": {
          "base_uri": "https://localhost:8080/"
        },
        "outputId": "853e1eb7-7154-44c9-885c-dd204f668fab"
      },
      "source": [
        "history = model.fit(x=train_features_vgg, y=train_labels_enc,\n",
        "                    validation_data=(validation_features_vgg, validation_labels_enc),\n",
        "                    batch_size=batch_size,\n",
        "                    epochs=epochs,\n",
        "                    verbose=1)"
      ],
      "execution_count": 20,
      "outputs": [
        {
          "output_type": "stream",
          "text": [
            "Epoch 1/150\n",
            "26/26 [==============================] - 1s 18ms/step - loss: 0.6106 - accuracy: 0.6389 - val_loss: 0.3579 - val_accuracy: 0.8516\n",
            "Epoch 2/150\n",
            "26/26 [==============================] - 0s 6ms/step - loss: 0.3532 - accuracy: 0.8432 - val_loss: 0.3226 - val_accuracy: 0.8709\n",
            "Epoch 3/150\n",
            "26/26 [==============================] - 0s 9ms/step - loss: 0.2662 - accuracy: 0.8807 - val_loss: 0.3106 - val_accuracy: 0.8681\n",
            "Epoch 4/150\n",
            "26/26 [==============================] - 0s 5ms/step - loss: 0.2443 - accuracy: 0.8983 - val_loss: 0.4838 - val_accuracy: 0.7802\n",
            "Epoch 5/150\n",
            "26/26 [==============================] - 0s 5ms/step - loss: 0.2043 - accuracy: 0.9188 - val_loss: 0.4371 - val_accuracy: 0.8407\n",
            "Epoch 6/150\n",
            "26/26 [==============================] - 0s 5ms/step - loss: 0.1654 - accuracy: 0.9260 - val_loss: 0.4257 - val_accuracy: 0.8187\n",
            "Epoch 7/150\n",
            "26/26 [==============================] - 0s 5ms/step - loss: 0.1471 - accuracy: 0.9517 - val_loss: 0.3036 - val_accuracy: 0.8681\n",
            "Epoch 8/150\n",
            "26/26 [==============================] - 0s 5ms/step - loss: 0.1463 - accuracy: 0.9505 - val_loss: 0.3177 - val_accuracy: 0.8681\n",
            "Epoch 9/150\n",
            "26/26 [==============================] - 0s 5ms/step - loss: 0.1091 - accuracy: 0.9548 - val_loss: 0.4094 - val_accuracy: 0.8599\n",
            "Epoch 10/150\n",
            "26/26 [==============================] - 0s 5ms/step - loss: 0.1045 - accuracy: 0.9578 - val_loss: 0.3662 - val_accuracy: 0.8571\n",
            "Epoch 11/150\n",
            "26/26 [==============================] - 0s 5ms/step - loss: 0.0761 - accuracy: 0.9762 - val_loss: 0.3445 - val_accuracy: 0.8764\n",
            "Epoch 12/150\n",
            "26/26 [==============================] - 0s 6ms/step - loss: 0.0536 - accuracy: 0.9865 - val_loss: 0.3968 - val_accuracy: 0.8764\n",
            "Epoch 13/150\n",
            "26/26 [==============================] - 0s 5ms/step - loss: 0.0595 - accuracy: 0.9776 - val_loss: 0.3778 - val_accuracy: 0.8654\n",
            "Epoch 14/150\n",
            "26/26 [==============================] - 0s 5ms/step - loss: 0.0384 - accuracy: 0.9919 - val_loss: 0.3953 - val_accuracy: 0.8764\n",
            "Epoch 15/150\n",
            "26/26 [==============================] - 0s 5ms/step - loss: 0.0282 - accuracy: 0.9937 - val_loss: 0.4372 - val_accuracy: 0.8736\n",
            "Epoch 16/150\n",
            "26/26 [==============================] - 0s 5ms/step - loss: 0.0391 - accuracy: 0.9891 - val_loss: 0.5420 - val_accuracy: 0.8736\n",
            "Epoch 17/150\n",
            "26/26 [==============================] - 0s 5ms/step - loss: 0.0339 - accuracy: 0.9858 - val_loss: 0.4946 - val_accuracy: 0.8709\n",
            "Epoch 18/150\n",
            "26/26 [==============================] - 0s 5ms/step - loss: 0.0304 - accuracy: 0.9878 - val_loss: 0.5084 - val_accuracy: 0.8736\n",
            "Epoch 19/150\n",
            "26/26 [==============================] - 0s 5ms/step - loss: 0.0149 - accuracy: 0.9958 - val_loss: 0.6165 - val_accuracy: 0.8764\n",
            "Epoch 20/150\n",
            "26/26 [==============================] - 0s 5ms/step - loss: 0.0118 - accuracy: 0.9968 - val_loss: 0.5562 - val_accuracy: 0.8709\n",
            "Epoch 21/150\n",
            "26/26 [==============================] - 0s 5ms/step - loss: 0.0074 - accuracy: 0.9996 - val_loss: 0.5334 - val_accuracy: 0.8764\n",
            "Epoch 22/150\n",
            "26/26 [==============================] - 0s 5ms/step - loss: 0.0111 - accuracy: 0.9984 - val_loss: 0.5960 - val_accuracy: 0.8736\n",
            "Epoch 23/150\n",
            "26/26 [==============================] - 0s 6ms/step - loss: 0.0048 - accuracy: 1.0000 - val_loss: 0.6122 - val_accuracy: 0.8846\n",
            "Epoch 24/150\n",
            "26/26 [==============================] - 0s 5ms/step - loss: 0.0053 - accuracy: 0.9979 - val_loss: 0.6341 - val_accuracy: 0.8736\n",
            "Epoch 25/150\n",
            "26/26 [==============================] - 0s 5ms/step - loss: 0.0138 - accuracy: 0.9945 - val_loss: 0.6163 - val_accuracy: 0.8791\n",
            "Epoch 26/150\n",
            "26/26 [==============================] - 0s 5ms/step - loss: 0.0047 - accuracy: 0.9971 - val_loss: 0.6496 - val_accuracy: 0.8736\n",
            "Epoch 27/150\n",
            "26/26 [==============================] - 0s 5ms/step - loss: 0.0081 - accuracy: 0.9975 - val_loss: 0.6562 - val_accuracy: 0.8819\n",
            "Epoch 28/150\n",
            "26/26 [==============================] - 0s 5ms/step - loss: 0.0039 - accuracy: 0.9982 - val_loss: 0.7144 - val_accuracy: 0.8681\n",
            "Epoch 29/150\n",
            "26/26 [==============================] - 0s 6ms/step - loss: 0.0094 - accuracy: 0.9972 - val_loss: 0.8510 - val_accuracy: 0.8571\n",
            "Epoch 30/150\n",
            "26/26 [==============================] - 0s 5ms/step - loss: 0.0018 - accuracy: 1.0000 - val_loss: 0.7401 - val_accuracy: 0.8791\n",
            "Epoch 31/150\n",
            "26/26 [==============================] - 0s 5ms/step - loss: 4.0753e-04 - accuracy: 1.0000 - val_loss: 0.7585 - val_accuracy: 0.8819\n",
            "Epoch 32/150\n",
            "26/26 [==============================] - 0s 5ms/step - loss: 4.1388e-04 - accuracy: 1.0000 - val_loss: 0.7591 - val_accuracy: 0.8764\n",
            "Epoch 33/150\n",
            "26/26 [==============================] - 0s 5ms/step - loss: 0.0360 - accuracy: 0.9914 - val_loss: 0.7958 - val_accuracy: 0.8819\n",
            "Epoch 34/150\n",
            "26/26 [==============================] - 0s 5ms/step - loss: 2.9088e-04 - accuracy: 1.0000 - val_loss: 0.7942 - val_accuracy: 0.8736\n",
            "Epoch 35/150\n",
            "26/26 [==============================] - 0s 5ms/step - loss: 2.4550e-04 - accuracy: 1.0000 - val_loss: 0.8216 - val_accuracy: 0.8764\n",
            "Epoch 36/150\n",
            "26/26 [==============================] - 0s 5ms/step - loss: 0.0020 - accuracy: 0.9993 - val_loss: 0.9856 - val_accuracy: 0.8489\n",
            "Epoch 37/150\n",
            "26/26 [==============================] - 0s 5ms/step - loss: 7.3726e-04 - accuracy: 1.0000 - val_loss: 0.8325 - val_accuracy: 0.8709\n",
            "Epoch 38/150\n",
            "26/26 [==============================] - 0s 5ms/step - loss: 1.8138e-04 - accuracy: 1.0000 - val_loss: 0.8474 - val_accuracy: 0.8709\n",
            "Epoch 39/150\n",
            "26/26 [==============================] - 0s 5ms/step - loss: 1.2676e-04 - accuracy: 1.0000 - val_loss: 0.8770 - val_accuracy: 0.8681\n",
            "Epoch 40/150\n",
            "26/26 [==============================] - 0s 6ms/step - loss: 2.4396e-04 - accuracy: 1.0000 - val_loss: 0.9036 - val_accuracy: 0.8709\n",
            "Epoch 41/150\n",
            "26/26 [==============================] - 0s 5ms/step - loss: 0.0146 - accuracy: 0.9933 - val_loss: 0.8753 - val_accuracy: 0.8709\n",
            "Epoch 42/150\n",
            "26/26 [==============================] - 0s 5ms/step - loss: 8.6830e-05 - accuracy: 1.0000 - val_loss: 0.8761 - val_accuracy: 0.8736\n",
            "Epoch 43/150\n",
            "26/26 [==============================] - 0s 5ms/step - loss: 0.0023 - accuracy: 0.9989 - val_loss: 0.8878 - val_accuracy: 0.8791\n",
            "Epoch 44/150\n",
            "26/26 [==============================] - 0s 5ms/step - loss: 1.9289e-04 - accuracy: 1.0000 - val_loss: 0.8609 - val_accuracy: 0.8764\n",
            "Epoch 45/150\n",
            "26/26 [==============================] - 0s 5ms/step - loss: 1.2464e-04 - accuracy: 1.0000 - val_loss: 0.8868 - val_accuracy: 0.8791\n",
            "Epoch 46/150\n",
            "26/26 [==============================] - 0s 5ms/step - loss: 1.7473e-04 - accuracy: 1.0000 - val_loss: 0.9097 - val_accuracy: 0.8764\n",
            "Epoch 47/150\n",
            "26/26 [==============================] - 0s 10ms/step - loss: 9.5521e-05 - accuracy: 1.0000 - val_loss: 1.6505 - val_accuracy: 0.7912\n",
            "Epoch 48/150\n",
            "26/26 [==============================] - 0s 5ms/step - loss: 0.0644 - accuracy: 0.9792 - val_loss: 1.0645 - val_accuracy: 0.8736\n",
            "Epoch 49/150\n",
            "26/26 [==============================] - 0s 5ms/step - loss: 6.6603e-05 - accuracy: 1.0000 - val_loss: 1.0207 - val_accuracy: 0.8709\n",
            "Epoch 50/150\n",
            "26/26 [==============================] - 0s 5ms/step - loss: 3.7164e-05 - accuracy: 1.0000 - val_loss: 1.0172 - val_accuracy: 0.8709\n",
            "Epoch 51/150\n",
            "26/26 [==============================] - 0s 5ms/step - loss: 2.1370e-05 - accuracy: 1.0000 - val_loss: 1.0158 - val_accuracy: 0.8764\n",
            "Epoch 52/150\n",
            "26/26 [==============================] - 0s 6ms/step - loss: 6.5816e-05 - accuracy: 1.0000 - val_loss: 1.0521 - val_accuracy: 0.8654\n",
            "Epoch 53/150\n",
            "26/26 [==============================] - 0s 6ms/step - loss: 0.0106 - accuracy: 0.9968 - val_loss: 1.2154 - val_accuracy: 0.8736\n",
            "Epoch 54/150\n",
            "26/26 [==============================] - 0s 5ms/step - loss: 1.1170e-04 - accuracy: 1.0000 - val_loss: 1.1408 - val_accuracy: 0.8819\n",
            "Epoch 55/150\n",
            "26/26 [==============================] - 0s 5ms/step - loss: 2.7596e-05 - accuracy: 1.0000 - val_loss: 1.1270 - val_accuracy: 0.8791\n",
            "Epoch 56/150\n",
            "26/26 [==============================] - 0s 5ms/step - loss: 1.0908e-05 - accuracy: 1.0000 - val_loss: 1.1171 - val_accuracy: 0.8709\n",
            "Epoch 57/150\n",
            "26/26 [==============================] - 0s 5ms/step - loss: 7.8524e-06 - accuracy: 1.0000 - val_loss: 1.1297 - val_accuracy: 0.8709\n",
            "Epoch 58/150\n",
            "26/26 [==============================] - 0s 5ms/step - loss: 1.2479e-05 - accuracy: 1.0000 - val_loss: 1.1553 - val_accuracy: 0.8709\n",
            "Epoch 59/150\n",
            "26/26 [==============================] - 0s 6ms/step - loss: 7.8582e-05 - accuracy: 1.0000 - val_loss: 1.2294 - val_accuracy: 0.8874\n",
            "Epoch 60/150\n",
            "26/26 [==============================] - 0s 5ms/step - loss: 1.2160e-05 - accuracy: 1.0000 - val_loss: 1.2036 - val_accuracy: 0.8709\n",
            "Epoch 61/150\n",
            "26/26 [==============================] - 0s 5ms/step - loss: 1.1041e-05 - accuracy: 1.0000 - val_loss: 1.2325 - val_accuracy: 0.8709\n",
            "Epoch 62/150\n",
            "26/26 [==============================] - 0s 5ms/step - loss: 0.0079 - accuracy: 0.9979 - val_loss: 1.3131 - val_accuracy: 0.8764\n",
            "Epoch 63/150\n",
            "26/26 [==============================] - 0s 5ms/step - loss: 1.9710e-04 - accuracy: 1.0000 - val_loss: 1.1684 - val_accuracy: 0.8736\n",
            "Epoch 64/150\n",
            "26/26 [==============================] - 0s 5ms/step - loss: 1.8100e-04 - accuracy: 1.0000 - val_loss: 1.1372 - val_accuracy: 0.8736\n",
            "Epoch 65/150\n",
            "26/26 [==============================] - 0s 5ms/step - loss: 3.7449e-06 - accuracy: 1.0000 - val_loss: 1.1426 - val_accuracy: 0.8764\n",
            "Epoch 66/150\n",
            "26/26 [==============================] - 0s 6ms/step - loss: 4.3212e-06 - accuracy: 1.0000 - val_loss: 1.1645 - val_accuracy: 0.8764\n",
            "Epoch 67/150\n",
            "26/26 [==============================] - 0s 5ms/step - loss: 1.7062e-05 - accuracy: 1.0000 - val_loss: 1.2131 - val_accuracy: 0.8736\n",
            "Epoch 68/150\n",
            "26/26 [==============================] - 0s 6ms/step - loss: 5.0049e-06 - accuracy: 1.0000 - val_loss: 1.2082 - val_accuracy: 0.8819\n",
            "Epoch 69/150\n",
            "26/26 [==============================] - 0s 5ms/step - loss: 2.7701e-06 - accuracy: 1.0000 - val_loss: 1.2789 - val_accuracy: 0.8736\n",
            "Epoch 70/150\n",
            "26/26 [==============================] - 0s 5ms/step - loss: 0.0012 - accuracy: 0.9997 - val_loss: 1.2462 - val_accuracy: 0.8874\n",
            "Epoch 71/150\n",
            "26/26 [==============================] - 0s 6ms/step - loss: 9.0018e-06 - accuracy: 1.0000 - val_loss: 1.2545 - val_accuracy: 0.8819\n",
            "Epoch 72/150\n",
            "26/26 [==============================] - 0s 6ms/step - loss: 3.8354e-05 - accuracy: 1.0000 - val_loss: 1.2381 - val_accuracy: 0.8764\n",
            "Epoch 73/150\n",
            "26/26 [==============================] - 0s 5ms/step - loss: 4.2711e-06 - accuracy: 1.0000 - val_loss: 1.2436 - val_accuracy: 0.8791\n",
            "Epoch 74/150\n",
            "26/26 [==============================] - 0s 5ms/step - loss: 1.2034e-04 - accuracy: 1.0000 - val_loss: 1.2308 - val_accuracy: 0.8791\n",
            "Epoch 75/150\n",
            "26/26 [==============================] - 0s 5ms/step - loss: 5.2670e-06 - accuracy: 1.0000 - val_loss: 1.2591 - val_accuracy: 0.8736\n",
            "Epoch 76/150\n",
            "26/26 [==============================] - 0s 5ms/step - loss: 1.7359e-05 - accuracy: 1.0000 - val_loss: 1.3260 - val_accuracy: 0.8791\n",
            "Epoch 77/150\n",
            "26/26 [==============================] - 0s 5ms/step - loss: 1.7781e-06 - accuracy: 1.0000 - val_loss: 1.2861 - val_accuracy: 0.8819\n",
            "Epoch 78/150\n",
            "26/26 [==============================] - 0s 5ms/step - loss: 2.2897e-06 - accuracy: 1.0000 - val_loss: 1.3496 - val_accuracy: 0.8791\n",
            "Epoch 79/150\n",
            "26/26 [==============================] - 0s 6ms/step - loss: 8.3310e-04 - accuracy: 0.9994 - val_loss: 1.2573 - val_accuracy: 0.8736\n",
            "Epoch 80/150\n",
            "26/26 [==============================] - 0s 5ms/step - loss: 6.7952e-07 - accuracy: 1.0000 - val_loss: 1.2600 - val_accuracy: 0.8736\n",
            "Epoch 81/150\n",
            "26/26 [==============================] - 0s 6ms/step - loss: 9.2348e-07 - accuracy: 1.0000 - val_loss: 1.2745 - val_accuracy: 0.8764\n",
            "Epoch 82/150\n",
            "26/26 [==============================] - 0s 6ms/step - loss: 1.9359e-06 - accuracy: 1.0000 - val_loss: 1.3201 - val_accuracy: 0.8709\n",
            "Epoch 83/150\n",
            "26/26 [==============================] - 0s 6ms/step - loss: 7.9874e-06 - accuracy: 1.0000 - val_loss: 1.3851 - val_accuracy: 0.8819\n",
            "Epoch 84/150\n",
            "26/26 [==============================] - 0s 5ms/step - loss: 1.2848e-05 - accuracy: 1.0000 - val_loss: 1.5539 - val_accuracy: 0.8681\n",
            "Epoch 85/150\n",
            "26/26 [==============================] - 0s 6ms/step - loss: 8.9760e-06 - accuracy: 1.0000 - val_loss: 1.4233 - val_accuracy: 0.8681\n",
            "Epoch 86/150\n",
            "26/26 [==============================] - 0s 5ms/step - loss: 2.5741e-06 - accuracy: 1.0000 - val_loss: 1.4408 - val_accuracy: 0.8736\n",
            "Epoch 87/150\n",
            "26/26 [==============================] - 0s 5ms/step - loss: 5.1886e-07 - accuracy: 1.0000 - val_loss: 1.4477 - val_accuracy: 0.8764\n",
            "Epoch 88/150\n",
            "26/26 [==============================] - 0s 5ms/step - loss: 6.0079e-07 - accuracy: 1.0000 - val_loss: 1.4554 - val_accuracy: 0.8764\n",
            "Epoch 89/150\n",
            "26/26 [==============================] - 0s 5ms/step - loss: 4.0857e-07 - accuracy: 1.0000 - val_loss: 1.4549 - val_accuracy: 0.8736\n",
            "Epoch 90/150\n",
            "26/26 [==============================] - 0s 5ms/step - loss: 0.0049 - accuracy: 0.9983 - val_loss: 1.5973 - val_accuracy: 0.8764\n",
            "Epoch 91/150\n",
            "26/26 [==============================] - 0s 9ms/step - loss: 5.7280e-04 - accuracy: 1.0000 - val_loss: 1.4403 - val_accuracy: 0.8764\n",
            "Epoch 92/150\n",
            "26/26 [==============================] - 0s 5ms/step - loss: 2.1632e-05 - accuracy: 1.0000 - val_loss: 1.3983 - val_accuracy: 0.8764\n",
            "Epoch 93/150\n",
            "26/26 [==============================] - 0s 5ms/step - loss: 6.9948e-07 - accuracy: 1.0000 - val_loss: 1.3837 - val_accuracy: 0.8791\n",
            "Epoch 94/150\n",
            "26/26 [==============================] - 0s 6ms/step - loss: 5.5421e-07 - accuracy: 1.0000 - val_loss: 1.3743 - val_accuracy: 0.8791\n",
            "Epoch 95/150\n",
            "26/26 [==============================] - 0s 6ms/step - loss: 4.7369e-07 - accuracy: 1.0000 - val_loss: 1.3775 - val_accuracy: 0.8764\n",
            "Epoch 96/150\n",
            "26/26 [==============================] - 0s 6ms/step - loss: 5.5427e-07 - accuracy: 1.0000 - val_loss: 1.3919 - val_accuracy: 0.8764\n",
            "Epoch 97/150\n",
            "26/26 [==============================] - 0s 6ms/step - loss: 1.7884e-07 - accuracy: 1.0000 - val_loss: 1.4077 - val_accuracy: 0.8791\n",
            "Epoch 98/150\n",
            "26/26 [==============================] - 0s 5ms/step - loss: 2.1084e-07 - accuracy: 1.0000 - val_loss: 1.4487 - val_accuracy: 0.8764\n",
            "Epoch 99/150\n",
            "26/26 [==============================] - 0s 5ms/step - loss: 0.0156 - accuracy: 0.9958 - val_loss: 1.5839 - val_accuracy: 0.8736\n",
            "Epoch 100/150\n",
            "26/26 [==============================] - 0s 6ms/step - loss: 3.2336e-05 - accuracy: 1.0000 - val_loss: 1.5236 - val_accuracy: 0.8791\n",
            "Epoch 101/150\n",
            "26/26 [==============================] - 0s 5ms/step - loss: 2.8734e-06 - accuracy: 1.0000 - val_loss: 1.5033 - val_accuracy: 0.8764\n",
            "Epoch 102/150\n",
            "26/26 [==============================] - 0s 5ms/step - loss: 7.3955e-07 - accuracy: 1.0000 - val_loss: 1.4827 - val_accuracy: 0.8764\n",
            "Epoch 103/150\n",
            "26/26 [==============================] - 0s 6ms/step - loss: 8.3018e-07 - accuracy: 1.0000 - val_loss: 1.4633 - val_accuracy: 0.8764\n",
            "Epoch 104/150\n",
            "26/26 [==============================] - 0s 5ms/step - loss: 3.3435e-07 - accuracy: 1.0000 - val_loss: 1.4479 - val_accuracy: 0.8791\n",
            "Epoch 105/150\n",
            "26/26 [==============================] - 0s 6ms/step - loss: 7.6310e-07 - accuracy: 1.0000 - val_loss: 1.4270 - val_accuracy: 0.8681\n",
            "Epoch 106/150\n",
            "26/26 [==============================] - 0s 5ms/step - loss: 1.6817e-07 - accuracy: 1.0000 - val_loss: 1.4404 - val_accuracy: 0.8764\n",
            "Epoch 107/150\n",
            "26/26 [==============================] - 0s 6ms/step - loss: 1.7502e-07 - accuracy: 1.0000 - val_loss: 1.4913 - val_accuracy: 0.8736\n",
            "Epoch 108/150\n",
            "26/26 [==============================] - 0s 5ms/step - loss: 3.4615e-07 - accuracy: 1.0000 - val_loss: 1.9766 - val_accuracy: 0.8709\n",
            "Epoch 109/150\n",
            "26/26 [==============================] - 0s 6ms/step - loss: 7.4247e-06 - accuracy: 1.0000 - val_loss: 1.4914 - val_accuracy: 0.8736\n",
            "Epoch 110/150\n",
            "26/26 [==============================] - 0s 5ms/step - loss: 1.4061e-07 - accuracy: 1.0000 - val_loss: 1.5067 - val_accuracy: 0.8736\n",
            "Epoch 111/150\n",
            "26/26 [==============================] - 0s 6ms/step - loss: 2.4225e-07 - accuracy: 1.0000 - val_loss: 1.5310 - val_accuracy: 0.8791\n",
            "Epoch 112/150\n",
            "26/26 [==============================] - 0s 5ms/step - loss: 4.0503e-07 - accuracy: 1.0000 - val_loss: 1.5136 - val_accuracy: 0.8791\n",
            "Epoch 113/150\n",
            "26/26 [==============================] - 0s 5ms/step - loss: 4.2420e-07 - accuracy: 1.0000 - val_loss: 1.5668 - val_accuracy: 0.8764\n",
            "Epoch 114/150\n",
            "26/26 [==============================] - 0s 5ms/step - loss: 1.5791e-07 - accuracy: 1.0000 - val_loss: 1.5917 - val_accuracy: 0.8709\n",
            "Epoch 115/150\n",
            "26/26 [==============================] - 0s 6ms/step - loss: 0.0039 - accuracy: 0.9977 - val_loss: 1.5511 - val_accuracy: 0.8736\n",
            "Epoch 116/150\n",
            "26/26 [==============================] - 0s 5ms/step - loss: 3.0047e-07 - accuracy: 1.0000 - val_loss: 1.5498 - val_accuracy: 0.8736\n",
            "Epoch 117/150\n",
            "26/26 [==============================] - 0s 5ms/step - loss: 9.7351e-07 - accuracy: 1.0000 - val_loss: 1.5493 - val_accuracy: 0.8709\n",
            "Epoch 118/150\n",
            "26/26 [==============================] - 0s 5ms/step - loss: 1.5436e-07 - accuracy: 1.0000 - val_loss: 1.5546 - val_accuracy: 0.8709\n",
            "Epoch 119/150\n",
            "26/26 [==============================] - 0s 5ms/step - loss: 7.5387e-08 - accuracy: 1.0000 - val_loss: 1.5591 - val_accuracy: 0.8736\n",
            "Epoch 120/150\n",
            "26/26 [==============================] - 0s 6ms/step - loss: 1.3430e-07 - accuracy: 1.0000 - val_loss: 1.5590 - val_accuracy: 0.8709\n",
            "Epoch 121/150\n",
            "26/26 [==============================] - 0s 6ms/step - loss: 4.3157e-07 - accuracy: 1.0000 - val_loss: 1.5448 - val_accuracy: 0.8764\n",
            "Epoch 122/150\n",
            "26/26 [==============================] - 0s 5ms/step - loss: 4.5266e-08 - accuracy: 1.0000 - val_loss: 1.5771 - val_accuracy: 0.8764\n",
            "Epoch 123/150\n",
            "26/26 [==============================] - 0s 5ms/step - loss: 3.4271e-08 - accuracy: 1.0000 - val_loss: 1.5758 - val_accuracy: 0.8736\n",
            "Epoch 124/150\n",
            "26/26 [==============================] - 0s 5ms/step - loss: 2.6205e-05 - accuracy: 1.0000 - val_loss: 1.5610 - val_accuracy: 0.8791\n",
            "Epoch 125/150\n",
            "26/26 [==============================] - 0s 5ms/step - loss: 3.5292e-07 - accuracy: 1.0000 - val_loss: 1.5616 - val_accuracy: 0.8764\n",
            "Epoch 126/150\n",
            "26/26 [==============================] - 0s 5ms/step - loss: 5.4675e-08 - accuracy: 1.0000 - val_loss: 1.5686 - val_accuracy: 0.8764\n",
            "Epoch 127/150\n",
            "26/26 [==============================] - 0s 5ms/step - loss: 7.7565e-08 - accuracy: 1.0000 - val_loss: 1.5866 - val_accuracy: 0.8791\n",
            "Epoch 128/150\n",
            "26/26 [==============================] - 0s 6ms/step - loss: 1.3843e-07 - accuracy: 1.0000 - val_loss: 1.5690 - val_accuracy: 0.8791\n",
            "Epoch 129/150\n",
            "26/26 [==============================] - 0s 6ms/step - loss: 4.8619e-08 - accuracy: 1.0000 - val_loss: 1.5736 - val_accuracy: 0.8736\n",
            "Epoch 130/150\n",
            "26/26 [==============================] - 0s 5ms/step - loss: 5.0347e-07 - accuracy: 1.0000 - val_loss: 1.6148 - val_accuracy: 0.8764\n",
            "Epoch 131/150\n",
            "26/26 [==============================] - 0s 5ms/step - loss: 6.7065e-07 - accuracy: 1.0000 - val_loss: 1.6071 - val_accuracy: 0.8764\n",
            "Epoch 132/150\n",
            "26/26 [==============================] - 0s 5ms/step - loss: 1.7562e-08 - accuracy: 1.0000 - val_loss: 1.6769 - val_accuracy: 0.8736\n",
            "Epoch 133/150\n",
            "26/26 [==============================] - 0s 5ms/step - loss: 6.5883e-08 - accuracy: 1.0000 - val_loss: 1.6273 - val_accuracy: 0.8764\n",
            "Epoch 134/150\n",
            "26/26 [==============================] - 0s 5ms/step - loss: 1.1287e-04 - accuracy: 1.0000 - val_loss: 1.7320 - val_accuracy: 0.8791\n",
            "Epoch 135/150\n",
            "26/26 [==============================] - 0s 9ms/step - loss: 5.5920e-07 - accuracy: 1.0000 - val_loss: 1.6429 - val_accuracy: 0.8819\n",
            "Epoch 136/150\n",
            "26/26 [==============================] - 0s 5ms/step - loss: 3.4280e-06 - accuracy: 1.0000 - val_loss: 1.6569 - val_accuracy: 0.8764\n",
            "Epoch 137/150\n",
            "26/26 [==============================] - 0s 6ms/step - loss: 1.5021e-07 - accuracy: 1.0000 - val_loss: 1.6453 - val_accuracy: 0.8709\n",
            "Epoch 138/150\n",
            "26/26 [==============================] - 0s 5ms/step - loss: 6.5659e-07 - accuracy: 1.0000 - val_loss: 1.6795 - val_accuracy: 0.8709\n",
            "Epoch 139/150\n",
            "26/26 [==============================] - 0s 5ms/step - loss: 5.6943e-06 - accuracy: 1.0000 - val_loss: 1.9354 - val_accuracy: 0.8516\n",
            "Epoch 140/150\n",
            "26/26 [==============================] - 0s 5ms/step - loss: 1.3910e-06 - accuracy: 1.0000 - val_loss: 1.6574 - val_accuracy: 0.8819\n",
            "Epoch 141/150\n",
            "26/26 [==============================] - 0s 5ms/step - loss: 3.8285e-08 - accuracy: 1.0000 - val_loss: 1.6639 - val_accuracy: 0.8819\n",
            "Epoch 142/150\n",
            "26/26 [==============================] - 0s 5ms/step - loss: 6.2603e-08 - accuracy: 1.0000 - val_loss: 1.6622 - val_accuracy: 0.8819\n",
            "Epoch 143/150\n",
            "26/26 [==============================] - 0s 5ms/step - loss: 2.0797e-06 - accuracy: 1.0000 - val_loss: 1.9898 - val_accuracy: 0.8489\n",
            "Epoch 144/150\n",
            "26/26 [==============================] - 0s 5ms/step - loss: 8.6620e-07 - accuracy: 1.0000 - val_loss: 1.6987 - val_accuracy: 0.8819\n",
            "Epoch 145/150\n",
            "26/26 [==============================] - 0s 5ms/step - loss: 9.4084e-08 - accuracy: 1.0000 - val_loss: 1.6980 - val_accuracy: 0.8819\n",
            "Epoch 146/150\n",
            "26/26 [==============================] - 0s 6ms/step - loss: 2.2521e-07 - accuracy: 1.0000 - val_loss: 1.6798 - val_accuracy: 0.8846\n",
            "Epoch 147/150\n",
            "26/26 [==============================] - 0s 5ms/step - loss: 7.2508e-08 - accuracy: 1.0000 - val_loss: 1.6749 - val_accuracy: 0.8819\n",
            "Epoch 148/150\n",
            "26/26 [==============================] - 0s 5ms/step - loss: 2.9249e-08 - accuracy: 1.0000 - val_loss: 1.6871 - val_accuracy: 0.8819\n",
            "Epoch 149/150\n",
            "26/26 [==============================] - 0s 6ms/step - loss: 4.8825e-08 - accuracy: 1.0000 - val_loss: 1.7139 - val_accuracy: 0.8846\n",
            "Epoch 150/150\n",
            "26/26 [==============================] - 0s 5ms/step - loss: 1.9902e-08 - accuracy: 1.0000 - val_loss: 1.7141 - val_accuracy: 0.8874\n"
          ],
          "name": "stdout"
        }
      ]
    },
    {
      "cell_type": "code",
      "metadata": {
        "id": "P0Fk-e8wA3jd",
        "colab": {
          "base_uri": "https://localhost:8080/",
          "height": 308
        },
        "outputId": "c1c2eda9-fe73-46b0-d3e7-00a18dc59beb"
      },
      "source": [
        "f, (ax1, ax2) = plt.subplots(1, 2, figsize=(12, 4))\n",
        "t = f.suptitle('Pre-trained CNN (Transfer Learning) Performance', fontsize=12)\n",
        "f.subplots_adjust(top=0.85, wspace=0.3)\n",
        "\n",
        "epoch_list = list(range(1,151))\n",
        "ax1.plot(epoch_list, history.history['accuracy'], label='Train Accuracy')\n",
        "ax1.plot(epoch_list, history.history['val_accuracy'], label='Validation Accuracy')\n",
        "ax1.set_xticks(np.arange(0, 151, 5))\n",
        "ax1.set_ylabel('Accuracy Value')\n",
        "ax1.set_xlabel('Epoch')\n",
        "ax1.set_title('Accuracy')\n",
        "l1 = ax1.legend(loc=\"best\")\n",
        "\n",
        "ax2.plot(epoch_list, history.history['loss'], label='Train Loss')\n",
        "ax2.plot(epoch_list, history.history['val_loss'], label='Validation Loss')\n",
        "ax2.set_xticks(np.arange(0, 151, 5))\n",
        "ax2.set_ylabel('Loss Value')\n",
        "ax2.set_xlabel('Epoch')\n",
        "ax2.set_title('Loss')\n",
        "l2 = ax2.legend(loc=\"best\")"
      ],
      "execution_count": 22,
      "outputs": [
        {
          "output_type": "display_data",
          "data": {
            "image/png": "[encoded data removed]",
            "text/plain": [
              "<Figure size 864x288 with 2 Axes>"
            ]
          },
          "metadata": {
            "tags": [],
            "needs_background": "light"
          }
        }
      ]
    },
    {
      "cell_type": "code",
      "metadata": {
        "id": "wHLV0XfKA3jd"
      },
      "source": [
        "model.save('1-pretrained_cnn.h5')"
      ],
      "execution_count": null,
      "outputs": []
    },
    {
      "cell_type": "code",
      "metadata": {
        "id": "eBjX3kbpA3je"
      },
      "source": [
        ""
      ],
      "execution_count": null,
      "outputs": []
    },
    {
      "cell_type": "code",
      "metadata": {
        "id": "3IaOWSbaA3je"
      },
      "source": [
        ""
      ],
      "execution_count": null,
      "outputs": []
    },
    {
      "cell_type": "code",
      "metadata": {
        "id": "Q7SzUeawA3jn"
      },
      "source": [
        ""
      ],
      "execution_count": null,
      "outputs": []
    }
  ]
}
