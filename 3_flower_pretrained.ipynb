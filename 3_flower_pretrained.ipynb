{
  "nbformat": 4,
  "nbformat_minor": 0,
  "metadata": {
    "colab": {
      "name": "3_flower_pretrained.ipynb",
      "provenance": [],
      "collapsed_sections": [],
      "authorship_tag": "ABX9TyOajaCrWFvA++PnJhUcZwWu",
      "include_colab_link": true
    },
    "kernelspec": {
      "name": "python3",
      "display_name": "Python 3"
    },
    "accelerator": "GPU"
  },
  "cells": [
    {
      "cell_type": "markdown",
      "metadata": {
        "id": "view-in-github",
        "colab_type": "text"
      },
      "source": [
        "<a href=\"https://colab.research.google.com/github/qwerlarlgus/CNN-Daisy-Dandelion/blob/main/3_flower_pretrained.ipynb\" target=\"_parent\"><img src=\"https://colab.research.google.com/assets/colab-badge.svg\" alt=\"Open In Colab\"/></a>"
      ]
    },
    {
      "cell_type": "code",
      "metadata": {
        "colab": {
          "base_uri": "https://localhost:8080/"
        },
        "id": "22mg_PXnCKsU",
        "outputId": "82b4b755-51b0-49e5-9f7c-e8efa701e456"
      },
      "source": [
        "from google.colab import drive\n",
        "drive.mount('/content/drive')"
      ],
      "execution_count": 20,
      "outputs": [
        {
          "output_type": "stream",
          "text": [
            "Drive already mounted at /content/drive; to attempt to forcibly remount, call drive.mount(\"/content/drive\", force_remount=True).\n"
          ],
          "name": "stdout"
        }
      ]
    },
    {
      "cell_type": "code",
      "metadata": {
        "id": "6giq8ls1A3jN"
      },
      "source": [
        "%matplotlib inline"
      ],
      "execution_count": 21,
      "outputs": []
    },
    {
      "cell_type": "code",
      "metadata": {
        "id": "B9GBtXmwA47m",
        "colab": {
          "base_uri": "https://localhost:8080/"
        },
        "outputId": "e76a600a-91a9-444c-a7c4-ec6185d50b5c"
      },
      "source": [
        "!ls -l"
      ],
      "execution_count": 22,
      "outputs": [
        {
          "output_type": "stream",
          "text": [
            "total 111768\n",
            "drwx------ 5 root root      4096 Jan 25 07:37 drive\n",
            "drwxr-xr-x 1 root root      4096 Jan 20 17:27 sample_data\n",
            "drwxr-xr-x 2 root root     36864 Jan 25 07:37 test_data\n",
            "drwxr-xr-x 2 root root    106496 Jan 25 07:37 training_data\n",
            "-rw------- 1 root root 114250866 Jan 25 07:37 training_data.zip\n",
            "drwxr-xr-x 2 root root     36864 Jan 25 07:37 validation_data\n"
          ],
          "name": "stdout"
        }
      ]
    },
    {
      "cell_type": "code",
      "metadata": {
        "id": "FWj06i8uA6OO"
      },
      "source": [
        "!cp ./drive/MyDrive/training_data.zip ."
      ],
      "execution_count": 23,
      "outputs": []
    },
    {
      "cell_type": "code",
      "metadata": {
        "id": "AEJfrotXA58E"
      },
      "source": [
        "!unzip training_data.zip\r\n"
      ],
      "execution_count": null,
      "outputs": []
    },
    {
      "cell_type": "code",
      "metadata": {
        "id": "KPy5I5SBA3jW"
      },
      "source": [
        "import glob\n",
        "import numpy as np\n",
        "import matplotlib.pyplot as plt\n",
        "from tensorflow.keras.preprocessing.image import ImageDataGenerator, load_img, img_to_array, array_to_img"
      ],
      "execution_count": 25,
      "outputs": []
    },
    {
      "cell_type": "code",
      "metadata": {
        "id": "eZImnfGOA3jX",
        "colab": {
          "base_uri": "https://localhost:8080/"
        },
        "outputId": "60e56697-1426-4bc7-d99c-19ef6c33b075"
      },
      "source": [
        "IMG_DIM = (150, 150)\n",
        "\n",
        "train_files = glob.glob('training_data/*')\n",
        "train_imgs = [img_to_array(load_img(img, target_size=IMG_DIM)) for img in train_files]\n",
        "train_imgs = np.array(train_imgs)\n",
        "train_labels = [fn.split('/')[1].split('.')[0].strip() for fn in train_files]\n",
        "\n",
        "validation_files = glob.glob('validation_data/*')\n",
        "validation_imgs = [img_to_array(load_img(img, target_size=IMG_DIM)) for img in validation_files]\n",
        "validation_imgs = np.array(validation_imgs)\n",
        "validation_labels = [fn.split('/')[1].split('.')[0].strip() for fn in validation_files]\n",
        "\n",
        "print('Train dataset shape:', train_imgs.shape, \n",
        "      '\\tValidation dataset shape:', validation_imgs.shape)"
      ],
      "execution_count": 26,
      "outputs": [
        {
          "output_type": "stream",
          "text": [
            "Train dataset shape: (3000, 150, 150, 3) \tValidation dataset shape: (1000, 150, 150, 3)\n"
          ],
          "name": "stdout"
        }
      ]
    },
    {
      "cell_type": "code",
      "metadata": {
        "id": "OiDa5o60A3jX"
      },
      "source": [
        "train_imgs_scaled = train_imgs.astype('float32')\n",
        "validation_imgs_scaled = validation_imgs.astype('float32')\n",
        "train_imgs_scaled /= 255\n",
        "validation_imgs_scaled /= 255"
      ],
      "execution_count": 27,
      "outputs": []
    },
    {
      "cell_type": "code",
      "metadata": {
        "id": "COLKZn79A3jY",
        "colab": {
          "base_uri": "https://localhost:8080/"
        },
        "outputId": "db7cf305-727e-48c5-ef15-9b7eb8ad0d68"
      },
      "source": [
        "batch_size = 50\n",
        "num_classes = 2\n",
        "epochs = 100\n",
        "input_shape = (150, 150, 3)\n",
        "\n",
        "from sklearn.preprocessing import LabelEncoder\n",
        "\n",
        "le = LabelEncoder()\n",
        "le.fit(train_labels)\n",
        "# encode wine type labels\n",
        "train_labels_enc = le.transform(train_labels)\n",
        "validation_labels_enc = le.transform(validation_labels)\n",
        "\n",
        "print(train_labels[0:5], train_labels_enc[0:5])"
      ],
      "execution_count": 28,
      "outputs": [
        {
          "output_type": "stream",
          "text": [
            "['cat', 'cat', 'cat', 'dog', 'cat'] [0 0 0 1 0]\n"
          ],
          "name": "stdout"
        }
      ]
    },
    {
      "cell_type": "code",
      "metadata": {
        "id": "j0wF41XlFEu9"
      },
      "source": [
        "train_datagen = ImageDataGenerator(rescale=1./255, zoom_range=0.3, rotation_range=50,  # rescale=1./255,\r\n",
        "                                   width_shift_range=0.2, height_shift_range=0.2, shear_range=0.2, \r\n",
        "                                   horizontal_flip=True, fill_mode='nearest')\r\n",
        "\r\n",
        "val_datagen = ImageDataGenerator(rescale=1./255) # rescale=1./255\r\n",
        "\r\n",
        "train_generator = train_datagen.flow(train_imgs, train_labels_enc, batch_size=30)\r\n",
        "val_generator = val_datagen.flow(validation_imgs, validation_labels_enc, batch_size=20)"
      ],
      "execution_count": 29,
      "outputs": []
    },
    {
      "cell_type": "code",
      "metadata": {
        "id": "9fVVMivMA3jZ",
        "colab": {
          "base_uri": "https://localhost:8080/"
        },
        "outputId": "04df835d-2546-4670-e0da-7469ccec6053"
      },
      "source": [
        "from tensorflow.keras.applications import vgg16\n",
        "from tensorflow.keras.models import Model\n",
        "import tensorflow.keras\n",
        "\n",
        "vgg = vgg16.VGG16(include_top=False, weights='imagenet',\n",
        "                                     input_shape=input_shape)\n",
        "\n",
        "output = vgg.layers[-1].output\n",
        "output = tensorflow.keras.layers.Flatten()(output)\n",
        "\n",
        "vgg_model = Model(vgg.input, output)\n",
        "vgg_model.trainable = False\n",
        "\n",
        "for layer in vgg_model.layers:\n",
        "    layer.trainable = False\n",
        "\n",
        "vgg_model.summary()\n"
      ],
      "execution_count": 30,
      "outputs": [
        {
          "output_type": "stream",
          "text": [
            "Model: \"model_1\"\n",
            "_________________________________________________________________\n",
            "Layer (type)                 Output Shape              Param #   \n",
            "=================================================================\n",
            "input_2 (InputLayer)         [(None, 150, 150, 3)]     0         \n",
            "_________________________________________________________________\n",
            "block1_conv1 (Conv2D)        (None, 150, 150, 64)      1792      \n",
            "_________________________________________________________________\n",
            "block1_conv2 (Conv2D)        (None, 150, 150, 64)      36928     \n",
            "_________________________________________________________________\n",
            "block1_pool (MaxPooling2D)   (None, 75, 75, 64)        0         \n",
            "_________________________________________________________________\n",
            "block2_conv1 (Conv2D)        (None, 75, 75, 128)       73856     \n",
            "_________________________________________________________________\n",
            "block2_conv2 (Conv2D)        (None, 75, 75, 128)       147584    \n",
            "_________________________________________________________________\n",
            "block2_pool (MaxPooling2D)   (None, 37, 37, 128)       0         \n",
            "_________________________________________________________________\n",
            "block3_conv1 (Conv2D)        (None, 37, 37, 256)       295168    \n",
            "_________________________________________________________________\n",
            "block3_conv2 (Conv2D)        (None, 37, 37, 256)       590080    \n",
            "_________________________________________________________________\n",
            "block3_conv3 (Conv2D)        (None, 37, 37, 256)       590080    \n",
            "_________________________________________________________________\n",
            "block3_pool (MaxPooling2D)   (None, 18, 18, 256)       0         \n",
            "_________________________________________________________________\n",
            "block4_conv1 (Conv2D)        (None, 18, 18, 512)       1180160   \n",
            "_________________________________________________________________\n",
            "block4_conv2 (Conv2D)        (None, 18, 18, 512)       2359808   \n",
            "_________________________________________________________________\n",
            "block4_conv3 (Conv2D)        (None, 18, 18, 512)       2359808   \n",
            "_________________________________________________________________\n",
            "block4_pool (MaxPooling2D)   (None, 9, 9, 512)         0         \n",
            "_________________________________________________________________\n",
            "block5_conv1 (Conv2D)        (None, 9, 9, 512)         2359808   \n",
            "_________________________________________________________________\n",
            "block5_conv2 (Conv2D)        (None, 9, 9, 512)         2359808   \n",
            "_________________________________________________________________\n",
            "block5_conv3 (Conv2D)        (None, 9, 9, 512)         2359808   \n",
            "_________________________________________________________________\n",
            "block5_pool (MaxPooling2D)   (None, 4, 4, 512)         0         \n",
            "_________________________________________________________________\n",
            "flatten_1 (Flatten)          (None, 8192)              0         \n",
            "=================================================================\n",
            "Total params: 14,714,688\n",
            "Trainable params: 0\n",
            "Non-trainable params: 14,714,688\n",
            "_________________________________________________________________\n"
          ],
          "name": "stdout"
        }
      ]
    },
    {
      "cell_type": "code",
      "metadata": {
        "id": "T9SDjC3EA3jZ",
        "colab": {
          "base_uri": "https://localhost:8080/",
          "height": 1000
        },
        "outputId": "a40ff384-88b3-4df9-c694-952b4a71d777"
      },
      "source": [
        "import pandas as pd\n",
        "pd.set_option('max_colwidth', -1)\n",
        "\n",
        "layers = [(layer, layer.name, layer.trainable) for layer in vgg_model.layers]\n",
        "pd.DataFrame(layers, columns=['Layer Type', 'Layer Name', 'Layer Trainable'])"
      ],
      "execution_count": 31,
      "outputs": [
        {
          "output_type": "stream",
          "text": [
            "/usr/local/lib/python3.6/dist-packages/ipykernel_launcher.py:2: FutureWarning: Passing a negative integer is deprecated in version 1.0 and will not be supported in future version. Instead, use None to not limit the column width.\n",
            "  \n"
          ],
          "name": "stderr"
        },
        {
          "output_type": "execute_result",
          "data": {
            "text/html": [
              "<div>\n",
              "<style scoped>\n",
              "    .dataframe tbody tr th:only-of-type {\n",
              "        vertical-align: middle;\n",
              "    }\n",
              "\n",
              "    .dataframe tbody tr th {\n",
              "        vertical-align: top;\n",
              "    }\n",
              "\n",
              "    .dataframe thead th {\n",
              "        text-align: right;\n",
              "    }\n",
              "</style>\n",
              "<table border=\"1\" class=\"dataframe\">\n",
              "  <thead>\n",
              "    <tr style=\"text-align: right;\">\n",
              "      <th></th>\n",
              "      <th>Layer Type</th>\n",
              "      <th>Layer Name</th>\n",
              "      <th>Layer Trainable</th>\n",
              "    </tr>\n",
              "  </thead>\n",
              "  <tbody>\n",
              "    <tr>\n",
              "      <th>0</th>\n",
              "      <td>&lt;tensorflow.python.keras.engine.input_layer.InputLayer object at 0x7f8daf646898&gt;</td>\n",
              "      <td>input_2</td>\n",
              "      <td>False</td>\n",
              "    </tr>\n",
              "    <tr>\n",
              "      <th>1</th>\n",
              "      <td>&lt;tensorflow.python.keras.layers.convolutional.Conv2D object at 0x7f8daf7b4940&gt;</td>\n",
              "      <td>block1_conv1</td>\n",
              "      <td>False</td>\n",
              "    </tr>\n",
              "    <tr>\n",
              "      <th>2</th>\n",
              "      <td>&lt;tensorflow.python.keras.layers.convolutional.Conv2D object at 0x7f8e17687860&gt;</td>\n",
              "      <td>block1_conv2</td>\n",
              "      <td>False</td>\n",
              "    </tr>\n",
              "    <tr>\n",
              "      <th>3</th>\n",
              "      <td>&lt;tensorflow.python.keras.layers.pooling.MaxPooling2D object at 0x7f8e16e0f0f0&gt;</td>\n",
              "      <td>block1_pool</td>\n",
              "      <td>False</td>\n",
              "    </tr>\n",
              "    <tr>\n",
              "      <th>4</th>\n",
              "      <td>&lt;tensorflow.python.keras.layers.convolutional.Conv2D object at 0x7f8e16e02fd0&gt;</td>\n",
              "      <td>block2_conv1</td>\n",
              "      <td>False</td>\n",
              "    </tr>\n",
              "    <tr>\n",
              "      <th>5</th>\n",
              "      <td>&lt;tensorflow.python.keras.layers.convolutional.Conv2D object at 0x7f8dafb118d0&gt;</td>\n",
              "      <td>block2_conv2</td>\n",
              "      <td>False</td>\n",
              "    </tr>\n",
              "    <tr>\n",
              "      <th>6</th>\n",
              "      <td>&lt;tensorflow.python.keras.layers.pooling.MaxPooling2D object at 0x7f8e16e6ae80&gt;</td>\n",
              "      <td>block2_pool</td>\n",
              "      <td>False</td>\n",
              "    </tr>\n",
              "    <tr>\n",
              "      <th>7</th>\n",
              "      <td>&lt;tensorflow.python.keras.layers.convolutional.Conv2D object at 0x7f8e51008ba8&gt;</td>\n",
              "      <td>block3_conv1</td>\n",
              "      <td>False</td>\n",
              "    </tr>\n",
              "    <tr>\n",
              "      <th>8</th>\n",
              "      <td>&lt;tensorflow.python.keras.layers.convolutional.Conv2D object at 0x7f8e16e6acf8&gt;</td>\n",
              "      <td>block3_conv2</td>\n",
              "      <td>False</td>\n",
              "    </tr>\n",
              "    <tr>\n",
              "      <th>9</th>\n",
              "      <td>&lt;tensorflow.python.keras.layers.convolutional.Conv2D object at 0x7f8e51008940&gt;</td>\n",
              "      <td>block3_conv3</td>\n",
              "      <td>False</td>\n",
              "    </tr>\n",
              "    <tr>\n",
              "      <th>10</th>\n",
              "      <td>&lt;tensorflow.python.keras.layers.pooling.MaxPooling2D object at 0x7f8e16e09470&gt;</td>\n",
              "      <td>block3_pool</td>\n",
              "      <td>False</td>\n",
              "    </tr>\n",
              "    <tr>\n",
              "      <th>11</th>\n",
              "      <td>&lt;tensorflow.python.keras.layers.convolutional.Conv2D object at 0x7f8e16e6ab00&gt;</td>\n",
              "      <td>block4_conv1</td>\n",
              "      <td>False</td>\n",
              "    </tr>\n",
              "    <tr>\n",
              "      <th>12</th>\n",
              "      <td>&lt;tensorflow.python.keras.layers.convolutional.Conv2D object at 0x7f8e16e71748&gt;</td>\n",
              "      <td>block4_conv2</td>\n",
              "      <td>False</td>\n",
              "    </tr>\n",
              "    <tr>\n",
              "      <th>13</th>\n",
              "      <td>&lt;tensorflow.python.keras.layers.convolutional.Conv2D object at 0x7f8e16e09eb8&gt;</td>\n",
              "      <td>block4_conv3</td>\n",
              "      <td>False</td>\n",
              "    </tr>\n",
              "    <tr>\n",
              "      <th>14</th>\n",
              "      <td>&lt;tensorflow.python.keras.layers.pooling.MaxPooling2D object at 0x7f8e16e18208&gt;</td>\n",
              "      <td>block4_pool</td>\n",
              "      <td>False</td>\n",
              "    </tr>\n",
              "    <tr>\n",
              "      <th>15</th>\n",
              "      <td>&lt;tensorflow.python.keras.layers.convolutional.Conv2D object at 0x7f8e16e640b8&gt;</td>\n",
              "      <td>block5_conv1</td>\n",
              "      <td>False</td>\n",
              "    </tr>\n",
              "    <tr>\n",
              "      <th>16</th>\n",
              "      <td>&lt;tensorflow.python.keras.layers.convolutional.Conv2D object at 0x7f8e16e18da0&gt;</td>\n",
              "      <td>block5_conv2</td>\n",
              "      <td>False</td>\n",
              "    </tr>\n",
              "    <tr>\n",
              "      <th>17</th>\n",
              "      <td>&lt;tensorflow.python.keras.layers.convolutional.Conv2D object at 0x7f8e16e09ef0&gt;</td>\n",
              "      <td>block5_conv3</td>\n",
              "      <td>False</td>\n",
              "    </tr>\n",
              "    <tr>\n",
              "      <th>18</th>\n",
              "      <td>&lt;tensorflow.python.keras.layers.pooling.MaxPooling2D object at 0x7f8e16e7ab00&gt;</td>\n",
              "      <td>block5_pool</td>\n",
              "      <td>False</td>\n",
              "    </tr>\n",
              "    <tr>\n",
              "      <th>19</th>\n",
              "      <td>&lt;tensorflow.python.keras.layers.core.Flatten object at 0x7f8e16e89668&gt;</td>\n",
              "      <td>flatten_1</td>\n",
              "      <td>False</td>\n",
              "    </tr>\n",
              "  </tbody>\n",
              "</table>\n",
              "</div>"
            ],
            "text/plain": [
              "                                                                          Layer Type  ... Layer Trainable\n",
              "0   <tensorflow.python.keras.engine.input_layer.InputLayer object at 0x7f8daf646898>  ...  False         \n",
              "1   <tensorflow.python.keras.layers.convolutional.Conv2D object at 0x7f8daf7b4940>    ...  False         \n",
              "2   <tensorflow.python.keras.layers.convolutional.Conv2D object at 0x7f8e17687860>    ...  False         \n",
              "3   <tensorflow.python.keras.layers.pooling.MaxPooling2D object at 0x7f8e16e0f0f0>    ...  False         \n",
              "4   <tensorflow.python.keras.layers.convolutional.Conv2D object at 0x7f8e16e02fd0>    ...  False         \n",
              "5   <tensorflow.python.keras.layers.convolutional.Conv2D object at 0x7f8dafb118d0>    ...  False         \n",
              "6   <tensorflow.python.keras.layers.pooling.MaxPooling2D object at 0x7f8e16e6ae80>    ...  False         \n",
              "7   <tensorflow.python.keras.layers.convolutional.Conv2D object at 0x7f8e51008ba8>    ...  False         \n",
              "8   <tensorflow.python.keras.layers.convolutional.Conv2D object at 0x7f8e16e6acf8>    ...  False         \n",
              "9   <tensorflow.python.keras.layers.convolutional.Conv2D object at 0x7f8e51008940>    ...  False         \n",
              "10  <tensorflow.python.keras.layers.pooling.MaxPooling2D object at 0x7f8e16e09470>    ...  False         \n",
              "11  <tensorflow.python.keras.layers.convolutional.Conv2D object at 0x7f8e16e6ab00>    ...  False         \n",
              "12  <tensorflow.python.keras.layers.convolutional.Conv2D object at 0x7f8e16e71748>    ...  False         \n",
              "13  <tensorflow.python.keras.layers.convolutional.Conv2D object at 0x7f8e16e09eb8>    ...  False         \n",
              "14  <tensorflow.python.keras.layers.pooling.MaxPooling2D object at 0x7f8e16e18208>    ...  False         \n",
              "15  <tensorflow.python.keras.layers.convolutional.Conv2D object at 0x7f8e16e640b8>    ...  False         \n",
              "16  <tensorflow.python.keras.layers.convolutional.Conv2D object at 0x7f8e16e18da0>    ...  False         \n",
              "17  <tensorflow.python.keras.layers.convolutional.Conv2D object at 0x7f8e16e09ef0>    ...  False         \n",
              "18  <tensorflow.python.keras.layers.pooling.MaxPooling2D object at 0x7f8e16e7ab00>    ...  False         \n",
              "19  <tensorflow.python.keras.layers.core.Flatten object at 0x7f8e16e89668>            ...  False         \n",
              "\n",
              "[20 rows x 3 columns]"
            ]
          },
          "metadata": {
            "tags": []
          },
          "execution_count": 31
        }
      ]
    },
    {
      "cell_type": "code",
      "metadata": {
        "id": "OvJvrtrgA3ja",
        "colab": {
          "base_uri": "https://localhost:8080/"
        },
        "outputId": "3e710211-6b1e-4924-ef0a-958376e96071"
      },
      "source": [
        "print(\"Trainable layers:\", vgg_model.trainable_weights)"
      ],
      "execution_count": 32,
      "outputs": [
        {
          "output_type": "stream",
          "text": [
            "Trainable layers: []\n"
          ],
          "name": "stdout"
        }
      ]
    },
    {
      "cell_type": "code",
      "metadata": {
        "id": "J_Zbyst4A3ja",
        "colab": {
          "base_uri": "https://localhost:8080/",
          "height": 304
        },
        "outputId": "cfe36e6e-5b24-4f67-910e-0d3999667102"
      },
      "source": [
        "bottleneck_feature_example = vgg.predict(train_imgs_scaled[0:1])\n",
        "print(bottleneck_feature_example.shape)\n",
        "plt.imshow(bottleneck_feature_example[0][:,:,0])"
      ],
      "execution_count": 33,
      "outputs": [
        {
          "output_type": "stream",
          "text": [
            "(1, 4, 4, 512)\n"
          ],
          "name": "stdout"
        },
        {
          "output_type": "execute_result",
          "data": {
            "text/plain": [
              "<matplotlib.image.AxesImage at 0x7f8dae49ff60>"
            ]
          },
          "metadata": {
            "tags": []
          },
          "execution_count": 33
        },
        {
          "output_type": "display_data",
          "data": {
            "image/png": "[encoded data removed]",
            "text/plain": [
              "<Figure size 432x288 with 1 Axes>"
            ]
          },
          "metadata": {
            "tags": [],
            "needs_background": "light"
          }
        }
      ]
    },
    {
      "cell_type": "code",
      "metadata": {
        "id": "_8LY2OOaA3jb"
      },
      "source": [
        "def get_bottleneck_features(model, input_imgs):\n",
        "    \n",
        "    features = model.predict(input_imgs, verbose=0)\n",
        "    return features"
      ],
      "execution_count": 34,
      "outputs": []
    },
    {
      "cell_type": "code",
      "metadata": {
        "id": "8sekjWocA3jb",
        "colab": {
          "base_uri": "https://localhost:8080/"
        },
        "outputId": "3017286e-3093-48fd-a65e-dbc0009e65b2"
      },
      "source": [
        "train_features_vgg = get_bottleneck_features(vgg_model, train_imgs_scaled)\n",
        "validation_features_vgg = get_bottleneck_features(vgg_model, validation_imgs_scaled)\n",
        "\n",
        "print('Train Bottleneck Features:', train_features_vgg.shape, \n",
        "      '\\tValidation Bottleneck Features:', validation_features_vgg.shape)"
      ],
      "execution_count": 35,
      "outputs": [
        {
          "output_type": "stream",
          "text": [
            "Train Bottleneck Features: (3000, 8192) \tValidation Bottleneck Features: (1000, 8192)\n"
          ],
          "name": "stdout"
        }
      ]
    },
    {
      "cell_type": "code",
      "metadata": {
        "id": "qyFijnDhGBjn",
        "colab": {
          "base_uri": "https://localhost:8080/"
        },
        "outputId": "b3e0c05d-848c-4740-d250-15a7363e1f96"
      },
      "source": [
        "from tensorflow.keras.layers import Conv2D, MaxPooling2D, Flatten, Dense, Dropout, InputLayer\r\n",
        "from tensorflow.keras.models import Sequential\r\n",
        "from tensorflow.keras import optimizers\r\n",
        "\r\n",
        "model = Sequential()\r\n",
        "model.add(vgg_model)\r\n",
        "model.add(Dense(512, activation='relu', input_dim=input_shape))\r\n",
        "model.add(Dropout(0.3))\r\n",
        "model.add(Dense(64, activation='relu'))\r\n",
        "model.add(Dropout(0.3))\r\n",
        "model.add(Dense(1, activation='sigmoid'))\r\n",
        "\r\n",
        "model.compile(loss='binary_crossentropy',\r\n",
        "              optimizer=optimizers.RMSprop(lr=2e-5),\r\n",
        "              metrics=['accuracy'])\r\n",
        "\r\n",
        "model.summary()"
      ],
      "execution_count": 36,
      "outputs": [
        {
          "output_type": "stream",
          "text": [
            "Model: \"sequential_1\"\n",
            "_________________________________________________________________\n",
            "Layer (type)                 Output Shape              Param #   \n",
            "=================================================================\n",
            "model_1 (Functional)         (None, 8192)              14714688  \n",
            "_________________________________________________________________\n",
            "dense_3 (Dense)              (None, 512)               4194816   \n",
            "_________________________________________________________________\n",
            "dropout_2 (Dropout)          (None, 512)               0         \n",
            "_________________________________________________________________\n",
            "dense_4 (Dense)              (None, 64)                32832     \n",
            "_________________________________________________________________\n",
            "dropout_3 (Dropout)          (None, 64)                0         \n",
            "_________________________________________________________________\n",
            "dense_5 (Dense)              (None, 1)                 65        \n",
            "=================================================================\n",
            "Total params: 18,942,401\n",
            "Trainable params: 4,227,713\n",
            "Non-trainable params: 14,714,688\n",
            "_________________________________________________________________\n"
          ],
          "name": "stdout"
        }
      ]
    },
    {
      "cell_type": "code",
      "metadata": {
        "id": "oXhFf4HLA3jc",
        "colab": {
          "base_uri": "https://localhost:8080/"
        },
        "outputId": "bb090cc7-21ea-4a7b-a02c-61fca49dc790"
      },
      "source": [
        "history = model.fit_generator(train_generator,  epochs=epochs,\r\n",
        "                              validation_data=val_generator,  verbose=1)"
      ],
      "execution_count": 37,
      "outputs": [
        {
          "output_type": "stream",
          "text": [
            "Epoch 1/100\n"
          ],
          "name": "stdout"
        },
        {
          "output_type": "stream",
          "text": [
            "/usr/local/lib/python3.6/dist-packages/tensorflow/python/keras/engine/training.py:1844: UserWarning: `Model.fit_generator` is deprecated and will be removed in a future version. Please use `Model.fit`, which supports generators.\n",
            "  warnings.warn('`Model.fit_generator` is deprecated and '\n"
          ],
          "name": "stderr"
        },
        {
          "output_type": "stream",
          "text": [
            "100/100 [==============================] - 19s 184ms/step - loss: 0.7523 - accuracy: 0.5215 - val_loss: 0.5286 - val_accuracy: 0.7920\n",
            "Epoch 2/100\n",
            "100/100 [==============================] - 18s 183ms/step - loss: 0.6255 - accuracy: 0.6519 - val_loss: 0.4275 - val_accuracy: 0.8270\n",
            "Epoch 3/100\n",
            "100/100 [==============================] - 18s 181ms/step - loss: 0.5705 - accuracy: 0.6991 - val_loss: 0.3875 - val_accuracy: 0.8410\n",
            "Epoch 4/100\n",
            "100/100 [==============================] - 18s 182ms/step - loss: 0.5359 - accuracy: 0.7312 - val_loss: 0.3608 - val_accuracy: 0.8630\n",
            "Epoch 5/100\n",
            "100/100 [==============================] - 18s 182ms/step - loss: 0.4873 - accuracy: 0.7592 - val_loss: 0.3539 - val_accuracy: 0.8540\n",
            "Epoch 6/100\n",
            "100/100 [==============================] - 18s 182ms/step - loss: 0.4668 - accuracy: 0.7793 - val_loss: 0.3238 - val_accuracy: 0.8660\n",
            "Epoch 7/100\n",
            "100/100 [==============================] - 18s 184ms/step - loss: 0.4533 - accuracy: 0.7852 - val_loss: 0.3331 - val_accuracy: 0.8560\n",
            "Epoch 8/100\n",
            "100/100 [==============================] - 18s 184ms/step - loss: 0.4403 - accuracy: 0.7889 - val_loss: 0.3029 - val_accuracy: 0.8740\n",
            "Epoch 9/100\n",
            "100/100 [==============================] - 18s 184ms/step - loss: 0.4468 - accuracy: 0.7965 - val_loss: 0.3092 - val_accuracy: 0.8780\n",
            "Epoch 10/100\n",
            "100/100 [==============================] - 18s 182ms/step - loss: 0.4337 - accuracy: 0.8034 - val_loss: 0.2996 - val_accuracy: 0.8760\n",
            "Epoch 11/100\n",
            "100/100 [==============================] - 18s 184ms/step - loss: 0.4330 - accuracy: 0.7927 - val_loss: 0.3045 - val_accuracy: 0.8720\n",
            "Epoch 12/100\n",
            "100/100 [==============================] - 18s 185ms/step - loss: 0.4381 - accuracy: 0.7973 - val_loss: 0.2844 - val_accuracy: 0.8770\n",
            "Epoch 13/100\n",
            "100/100 [==============================] - 18s 183ms/step - loss: 0.4273 - accuracy: 0.7952 - val_loss: 0.2827 - val_accuracy: 0.8770\n",
            "Epoch 14/100\n",
            "100/100 [==============================] - 18s 183ms/step - loss: 0.3802 - accuracy: 0.8286 - val_loss: 0.2840 - val_accuracy: 0.8750\n",
            "Epoch 15/100\n",
            "100/100 [==============================] - 18s 184ms/step - loss: 0.4216 - accuracy: 0.8007 - val_loss: 0.2735 - val_accuracy: 0.8780\n",
            "Epoch 16/100\n",
            "100/100 [==============================] - 18s 183ms/step - loss: 0.3955 - accuracy: 0.8115 - val_loss: 0.2738 - val_accuracy: 0.8790\n",
            "Epoch 17/100\n",
            "100/100 [==============================] - 18s 183ms/step - loss: 0.4090 - accuracy: 0.8148 - val_loss: 0.2722 - val_accuracy: 0.8840\n",
            "Epoch 18/100\n",
            "100/100 [==============================] - 18s 183ms/step - loss: 0.4097 - accuracy: 0.8040 - val_loss: 0.2700 - val_accuracy: 0.8840\n",
            "Epoch 19/100\n",
            "100/100 [==============================] - 18s 184ms/step - loss: 0.3919 - accuracy: 0.8206 - val_loss: 0.2776 - val_accuracy: 0.8800\n",
            "Epoch 20/100\n",
            "100/100 [==============================] - 18s 184ms/step - loss: 0.3933 - accuracy: 0.8273 - val_loss: 0.2807 - val_accuracy: 0.8840\n",
            "Epoch 21/100\n",
            "100/100 [==============================] - 18s 183ms/step - loss: 0.4013 - accuracy: 0.8131 - val_loss: 0.2627 - val_accuracy: 0.8920\n",
            "Epoch 22/100\n",
            "100/100 [==============================] - 18s 184ms/step - loss: 0.3672 - accuracy: 0.8405 - val_loss: 0.2709 - val_accuracy: 0.8840\n",
            "Epoch 23/100\n",
            "100/100 [==============================] - 18s 183ms/step - loss: 0.3600 - accuracy: 0.8381 - val_loss: 0.2724 - val_accuracy: 0.8880\n",
            "Epoch 24/100\n",
            "100/100 [==============================] - 18s 185ms/step - loss: 0.3803 - accuracy: 0.8253 - val_loss: 0.2682 - val_accuracy: 0.8890\n",
            "Epoch 25/100\n",
            "100/100 [==============================] - 18s 183ms/step - loss: 0.3813 - accuracy: 0.8273 - val_loss: 0.2634 - val_accuracy: 0.8930\n",
            "Epoch 26/100\n",
            "100/100 [==============================] - 18s 183ms/step - loss: 0.3724 - accuracy: 0.8418 - val_loss: 0.2635 - val_accuracy: 0.8890\n",
            "Epoch 27/100\n",
            "100/100 [==============================] - 18s 183ms/step - loss: 0.3634 - accuracy: 0.8464 - val_loss: 0.2642 - val_accuracy: 0.8880\n",
            "Epoch 28/100\n",
            "100/100 [==============================] - 18s 184ms/step - loss: 0.3776 - accuracy: 0.8237 - val_loss: 0.2553 - val_accuracy: 0.8890\n",
            "Epoch 29/100\n",
            "100/100 [==============================] - 19s 185ms/step - loss: 0.3920 - accuracy: 0.8215 - val_loss: 0.2595 - val_accuracy: 0.8970\n",
            "Epoch 30/100\n",
            "100/100 [==============================] - 18s 183ms/step - loss: 0.3745 - accuracy: 0.8351 - val_loss: 0.2652 - val_accuracy: 0.8870\n",
            "Epoch 31/100\n",
            "100/100 [==============================] - 18s 183ms/step - loss: 0.3898 - accuracy: 0.8206 - val_loss: 0.2558 - val_accuracy: 0.8910\n",
            "Epoch 32/100\n",
            "100/100 [==============================] - 18s 183ms/step - loss: 0.3745 - accuracy: 0.8318 - val_loss: 0.2540 - val_accuracy: 0.8970\n",
            "Epoch 33/100\n",
            "100/100 [==============================] - 18s 184ms/step - loss: 0.3590 - accuracy: 0.8423 - val_loss: 0.2540 - val_accuracy: 0.8920\n",
            "Epoch 34/100\n",
            "100/100 [==============================] - 18s 182ms/step - loss: 0.3430 - accuracy: 0.8389 - val_loss: 0.2565 - val_accuracy: 0.8950\n",
            "Epoch 35/100\n",
            "100/100 [==============================] - 18s 184ms/step - loss: 0.3644 - accuracy: 0.8418 - val_loss: 0.2506 - val_accuracy: 0.9010\n",
            "Epoch 36/100\n",
            "100/100 [==============================] - 18s 182ms/step - loss: 0.3508 - accuracy: 0.8401 - val_loss: 0.2622 - val_accuracy: 0.8900\n",
            "Epoch 37/100\n",
            "100/100 [==============================] - 18s 183ms/step - loss: 0.3870 - accuracy: 0.8172 - val_loss: 0.2618 - val_accuracy: 0.8890\n",
            "Epoch 38/100\n",
            "100/100 [==============================] - 18s 183ms/step - loss: 0.3369 - accuracy: 0.8525 - val_loss: 0.2595 - val_accuracy: 0.8920\n",
            "Epoch 39/100\n",
            "100/100 [==============================] - 18s 183ms/step - loss: 0.3610 - accuracy: 0.8414 - val_loss: 0.2509 - val_accuracy: 0.9020\n",
            "Epoch 40/100\n",
            "100/100 [==============================] - 18s 183ms/step - loss: 0.3520 - accuracy: 0.8483 - val_loss: 0.2616 - val_accuracy: 0.8940\n",
            "Epoch 41/100\n",
            "100/100 [==============================] - 18s 184ms/step - loss: 0.3439 - accuracy: 0.8590 - val_loss: 0.2555 - val_accuracy: 0.8960\n",
            "Epoch 42/100\n",
            "100/100 [==============================] - 18s 184ms/step - loss: 0.3444 - accuracy: 0.8456 - val_loss: 0.2500 - val_accuracy: 0.8990\n",
            "Epoch 43/100\n",
            "100/100 [==============================] - 18s 183ms/step - loss: 0.3456 - accuracy: 0.8428 - val_loss: 0.2605 - val_accuracy: 0.8880\n",
            "Epoch 44/100\n",
            "100/100 [==============================] - 18s 182ms/step - loss: 0.3402 - accuracy: 0.8547 - val_loss: 0.2534 - val_accuracy: 0.8920\n",
            "Epoch 45/100\n",
            "100/100 [==============================] - 18s 184ms/step - loss: 0.3371 - accuracy: 0.8531 - val_loss: 0.2472 - val_accuracy: 0.9010\n",
            "Epoch 46/100\n",
            "100/100 [==============================] - 18s 184ms/step - loss: 0.3419 - accuracy: 0.8428 - val_loss: 0.2461 - val_accuracy: 0.8980\n",
            "Epoch 47/100\n",
            "100/100 [==============================] - 18s 183ms/step - loss: 0.3352 - accuracy: 0.8619 - val_loss: 0.2503 - val_accuracy: 0.8930\n",
            "Epoch 48/100\n",
            "100/100 [==============================] - 18s 183ms/step - loss: 0.3533 - accuracy: 0.8522 - val_loss: 0.2541 - val_accuracy: 0.8990\n",
            "Epoch 49/100\n",
            "100/100 [==============================] - 18s 182ms/step - loss: 0.3368 - accuracy: 0.8590 - val_loss: 0.2474 - val_accuracy: 0.9040\n",
            "Epoch 50/100\n",
            "100/100 [==============================] - 18s 183ms/step - loss: 0.3450 - accuracy: 0.8406 - val_loss: 0.2446 - val_accuracy: 0.9050\n",
            "Epoch 51/100\n",
            "100/100 [==============================] - 18s 184ms/step - loss: 0.3239 - accuracy: 0.8529 - val_loss: 0.2471 - val_accuracy: 0.9000\n",
            "Epoch 52/100\n",
            "100/100 [==============================] - 18s 184ms/step - loss: 0.3373 - accuracy: 0.8566 - val_loss: 0.2430 - val_accuracy: 0.9070\n",
            "Epoch 53/100\n",
            "100/100 [==============================] - 18s 184ms/step - loss: 0.3437 - accuracy: 0.8491 - val_loss: 0.2409 - val_accuracy: 0.9090\n",
            "Epoch 54/100\n",
            "100/100 [==============================] - 18s 183ms/step - loss: 0.3402 - accuracy: 0.8590 - val_loss: 0.2452 - val_accuracy: 0.9060\n",
            "Epoch 55/100\n",
            "100/100 [==============================] - 18s 184ms/step - loss: 0.3505 - accuracy: 0.8474 - val_loss: 0.2505 - val_accuracy: 0.9010\n",
            "Epoch 56/100\n",
            "100/100 [==============================] - 18s 183ms/step - loss: 0.3388 - accuracy: 0.8502 - val_loss: 0.2529 - val_accuracy: 0.9010\n",
            "Epoch 57/100\n",
            "100/100 [==============================] - 18s 183ms/step - loss: 0.3421 - accuracy: 0.8525 - val_loss: 0.2456 - val_accuracy: 0.9080\n",
            "Epoch 58/100\n",
            "100/100 [==============================] - 18s 184ms/step - loss: 0.3356 - accuracy: 0.8502 - val_loss: 0.2525 - val_accuracy: 0.8970\n",
            "Epoch 59/100\n",
            "100/100 [==============================] - 18s 184ms/step - loss: 0.3345 - accuracy: 0.8622 - val_loss: 0.2510 - val_accuracy: 0.9020\n",
            "Epoch 60/100\n",
            "100/100 [==============================] - 18s 182ms/step - loss: 0.3493 - accuracy: 0.8447 - val_loss: 0.2424 - val_accuracy: 0.9050\n",
            "Epoch 61/100\n",
            "100/100 [==============================] - 18s 182ms/step - loss: 0.3395 - accuracy: 0.8449 - val_loss: 0.2437 - val_accuracy: 0.8980\n",
            "Epoch 62/100\n",
            "100/100 [==============================] - 19s 186ms/step - loss: 0.3126 - accuracy: 0.8561 - val_loss: 0.2550 - val_accuracy: 0.9000\n",
            "Epoch 63/100\n",
            "100/100 [==============================] - 18s 182ms/step - loss: 0.3414 - accuracy: 0.8369 - val_loss: 0.2610 - val_accuracy: 0.8940\n",
            "Epoch 64/100\n",
            "100/100 [==============================] - 18s 184ms/step - loss: 0.3026 - accuracy: 0.8696 - val_loss: 0.2576 - val_accuracy: 0.8960\n",
            "Epoch 65/100\n",
            "100/100 [==============================] - 18s 184ms/step - loss: 0.3318 - accuracy: 0.8649 - val_loss: 0.2429 - val_accuracy: 0.9070\n",
            "Epoch 66/100\n",
            "100/100 [==============================] - 18s 183ms/step - loss: 0.3397 - accuracy: 0.8519 - val_loss: 0.2479 - val_accuracy: 0.9060\n",
            "Epoch 67/100\n",
            "100/100 [==============================] - 18s 183ms/step - loss: 0.3379 - accuracy: 0.8535 - val_loss: 0.2453 - val_accuracy: 0.9120\n",
            "Epoch 68/100\n",
            "100/100 [==============================] - 18s 184ms/step - loss: 0.3373 - accuracy: 0.8487 - val_loss: 0.2605 - val_accuracy: 0.8910\n",
            "Epoch 69/100\n",
            "100/100 [==============================] - 18s 183ms/step - loss: 0.3284 - accuracy: 0.8631 - val_loss: 0.2440 - val_accuracy: 0.9090\n",
            "Epoch 70/100\n",
            "100/100 [==============================] - 18s 182ms/step - loss: 0.3314 - accuracy: 0.8497 - val_loss: 0.2468 - val_accuracy: 0.9040\n",
            "Epoch 71/100\n",
            "100/100 [==============================] - 18s 184ms/step - loss: 0.3332 - accuracy: 0.8641 - val_loss: 0.2596 - val_accuracy: 0.8930\n",
            "Epoch 72/100\n",
            "100/100 [==============================] - 18s 185ms/step - loss: 0.3166 - accuracy: 0.8651 - val_loss: 0.2429 - val_accuracy: 0.9070\n",
            "Epoch 73/100\n",
            "100/100 [==============================] - 18s 184ms/step - loss: 0.3209 - accuracy: 0.8638 - val_loss: 0.2547 - val_accuracy: 0.8930\n",
            "Epoch 74/100\n",
            "100/100 [==============================] - 18s 184ms/step - loss: 0.3022 - accuracy: 0.8651 - val_loss: 0.2400 - val_accuracy: 0.9070\n",
            "Epoch 75/100\n",
            "100/100 [==============================] - 18s 182ms/step - loss: 0.3110 - accuracy: 0.8700 - val_loss: 0.2392 - val_accuracy: 0.9090\n",
            "Epoch 76/100\n",
            "100/100 [==============================] - 18s 182ms/step - loss: 0.3404 - accuracy: 0.8537 - val_loss: 0.2407 - val_accuracy: 0.9020\n",
            "Epoch 77/100\n",
            "100/100 [==============================] - 18s 184ms/step - loss: 0.3287 - accuracy: 0.8566 - val_loss: 0.2402 - val_accuracy: 0.9070\n",
            "Epoch 78/100\n",
            "100/100 [==============================] - 18s 181ms/step - loss: 0.3147 - accuracy: 0.8655 - val_loss: 0.2624 - val_accuracy: 0.8900\n",
            "Epoch 79/100\n",
            "100/100 [==============================] - 18s 185ms/step - loss: 0.3282 - accuracy: 0.8509 - val_loss: 0.2415 - val_accuracy: 0.9050\n",
            "Epoch 80/100\n",
            "100/100 [==============================] - 18s 183ms/step - loss: 0.3240 - accuracy: 0.8588 - val_loss: 0.2354 - val_accuracy: 0.9090\n",
            "Epoch 81/100\n",
            "100/100 [==============================] - 18s 183ms/step - loss: 0.3204 - accuracy: 0.8554 - val_loss: 0.2412 - val_accuracy: 0.9070\n",
            "Epoch 82/100\n",
            "100/100 [==============================] - 18s 182ms/step - loss: 0.3304 - accuracy: 0.8619 - val_loss: 0.2412 - val_accuracy: 0.9030\n",
            "Epoch 83/100\n",
            "100/100 [==============================] - 18s 182ms/step - loss: 0.3193 - accuracy: 0.8630 - val_loss: 0.2500 - val_accuracy: 0.8980\n",
            "Epoch 84/100\n",
            "100/100 [==============================] - 18s 183ms/step - loss: 0.3169 - accuracy: 0.8628 - val_loss: 0.2503 - val_accuracy: 0.9010\n",
            "Epoch 85/100\n",
            "100/100 [==============================] - 18s 182ms/step - loss: 0.3142 - accuracy: 0.8625 - val_loss: 0.2701 - val_accuracy: 0.8860\n",
            "Epoch 86/100\n",
            "100/100 [==============================] - 18s 185ms/step - loss: 0.3059 - accuracy: 0.8753 - val_loss: 0.2520 - val_accuracy: 0.8970\n",
            "Epoch 87/100\n",
            "100/100 [==============================] - 18s 183ms/step - loss: 0.3307 - accuracy: 0.8592 - val_loss: 0.2713 - val_accuracy: 0.8880\n",
            "Epoch 88/100\n",
            "100/100 [==============================] - 18s 183ms/step - loss: 0.3176 - accuracy: 0.8704 - val_loss: 0.2559 - val_accuracy: 0.8930\n",
            "Epoch 89/100\n",
            "100/100 [==============================] - 18s 183ms/step - loss: 0.3001 - accuracy: 0.8646 - val_loss: 0.2478 - val_accuracy: 0.8990\n",
            "Epoch 90/100\n",
            "100/100 [==============================] - 18s 183ms/step - loss: 0.3386 - accuracy: 0.8579 - val_loss: 0.2517 - val_accuracy: 0.9030\n",
            "Epoch 91/100\n",
            "100/100 [==============================] - 18s 183ms/step - loss: 0.3426 - accuracy: 0.8462 - val_loss: 0.2430 - val_accuracy: 0.9080\n",
            "Epoch 92/100\n",
            "100/100 [==============================] - 18s 184ms/step - loss: 0.3060 - accuracy: 0.8723 - val_loss: 0.2415 - val_accuracy: 0.9080\n",
            "Epoch 93/100\n",
            "100/100 [==============================] - 18s 182ms/step - loss: 0.2832 - accuracy: 0.8769 - val_loss: 0.2415 - val_accuracy: 0.9120\n",
            "Epoch 94/100\n",
            "100/100 [==============================] - 18s 183ms/step - loss: 0.3179 - accuracy: 0.8612 - val_loss: 0.2413 - val_accuracy: 0.9090\n",
            "Epoch 95/100\n",
            "100/100 [==============================] - 18s 184ms/step - loss: 0.2873 - accuracy: 0.8815 - val_loss: 0.2389 - val_accuracy: 0.9070\n",
            "Epoch 96/100\n",
            "100/100 [==============================] - 18s 184ms/step - loss: 0.3306 - accuracy: 0.8632 - val_loss: 0.2429 - val_accuracy: 0.9050\n",
            "Epoch 97/100\n",
            "100/100 [==============================] - 18s 182ms/step - loss: 0.3019 - accuracy: 0.8632 - val_loss: 0.2494 - val_accuracy: 0.9070\n",
            "Epoch 98/100\n",
            "100/100 [==============================] - 18s 184ms/step - loss: 0.3175 - accuracy: 0.8536 - val_loss: 0.2446 - val_accuracy: 0.9080\n",
            "Epoch 99/100\n",
            "100/100 [==============================] - 18s 183ms/step - loss: 0.3018 - accuracy: 0.8734 - val_loss: 0.2455 - val_accuracy: 0.9060\n",
            "Epoch 100/100\n",
            "100/100 [==============================] - 18s 183ms/step - loss: 0.3215 - accuracy: 0.8546 - val_loss: 0.2527 - val_accuracy: 0.9000\n"
          ],
          "name": "stdout"
        }
      ]
    },
    {
      "cell_type": "code",
      "metadata": {
        "id": "P0Fk-e8wA3jd",
        "colab": {
          "base_uri": "https://localhost:8080/",
          "height": 307
        },
        "outputId": "42735fe1-aed8-43be-805a-b8f9f010a34c"
      },
      "source": [
        "f, (ax1, ax2) = plt.subplots(1, 2, figsize=(12, 4))\n",
        "t = f.suptitle('Pre-trained CNN (Transfer Learning) Performance', fontsize=12)\n",
        "f.subplots_adjust(top=0.85, wspace=0.3)\n",
        "\n",
        "epoch_list = list(range(1,101))\n",
        "ax1.plot(epoch_list, history.history['accuracy'], label='Train Accuracy')\n",
        "ax1.plot(epoch_list, history.history['val_accuracy'], label='Validation Accuracy')\n",
        "ax1.set_xticks(np.arange(0, 101, 5))\n",
        "ax1.set_ylabel('Accuracy Value')\n",
        "ax1.set_xlabel('Epoch')\n",
        "ax1.set_title('Accuracy')\n",
        "l1 = ax1.legend(loc=\"best\")\n",
        "\n",
        "ax2.plot(epoch_list, history.history['loss'], label='Train Loss')\n",
        "ax2.plot(epoch_list, history.history['val_loss'], label='Validation Loss')\n",
        "ax2.set_xticks(np.arange(0, 101, 5))\n",
        "ax2.set_ylabel('Loss Value')\n",
        "ax2.set_xlabel('Epoch')\n",
        "ax2.set_title('Loss')\n",
        "l2 = ax2.legend(loc=\"best\")"
      ],
      "execution_count": 38,
      "outputs": [
        {
          "output_type": "display_data",
          "data": {
            "image/png": "[encoded data removed]",
            "text/plain": [
              "<Figure size 864x288 with 2 Axes>"
            ]
          },
          "metadata": {
            "tags": [],
            "needs_background": "light"
          }
        }
      ]
    },
    {
      "cell_type": "code",
      "metadata": {
        "id": "wHLV0XfKA3jd"
      },
      "source": [
        "model.save('3-pre-aug-flower.h5')"
      ],
      "execution_count": 39,
      "outputs": []
    }
  ]
}