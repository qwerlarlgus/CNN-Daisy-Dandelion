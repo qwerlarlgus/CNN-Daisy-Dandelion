{
  "nbformat": 4,
  "nbformat_minor": 0,
  "metadata": {
    "kernelspec": {
      "display_name": "Python 3",
      "language": "python",
      "name": "python3"
    },
    "language_info": {
      "codemirror_mode": {
        "name": "ipython",
        "version": 3
      },
      "file_extension": ".py",
      "mimetype": "text/x-python",
      "name": "python",
      "nbconvert_exporter": "python",
      "pygments_lexer": "ipython3",
      "version": "3.7.6"
    },
    "colab": {
      "name": "4-2-aug-pretrained.ipynb",
      "provenance": [],
      "collapsed_sections": [],
      "include_colab_link": true
    },
    "accelerator": "GPU"
  },
  "cells": [
    {
      "cell_type": "markdown",
      "metadata": {
        "id": "view-in-github",
        "colab_type": "text"
      },
      "source": [
        "<a href=\"https://colab.research.google.com/github/JSJeong-me/CNN-Daisy-Dandelion/blob/main/1_2_aug_pretrained.ipynb\" target=\"_parent\"><img src=\"https://colab.research.google.com/assets/colab-badge.svg\" alt=\"Open In Colab\"/></a>"
      ]
    },
    {
      "cell_type": "code",
      "metadata": {
        "colab": {
          "base_uri": "https://localhost:8080/"
        },
        "id": "22mg_PXnCKsU",
        "outputId": "b8cf7dc8-b3e4-4d75-da10-efa3b99e3667"
      },
      "source": [
        "from google.colab import drive\n",
        "drive.mount('/content/drive')"
      ],
      "execution_count": null,
      "outputs": [
        {
          "output_type": "stream",
          "text": [
            "Mounted at /content/drive\n"
          ],
          "name": "stdout"
        }
      ]
    },
    {
      "cell_type": "code",
      "metadata": {
        "id": "6giq8ls1A3jN"
      },
      "source": [
        "%matplotlib inline"
      ],
      "execution_count": null,
      "outputs": []
    },
    {
      "cell_type": "code",
      "metadata": {
        "id": "B9GBtXmwA47m",
        "colab": {
          "base_uri": "https://localhost:8080/"
        },
        "outputId": "9d006653-2d45-48ff-c96b-7f7171c8055e"
      },
      "source": [
        "!ls -l"
      ],
      "execution_count": null,
      "outputs": [
        {
          "output_type": "stream",
          "text": [
            "total 110388\n",
            "drwx------ 5 root root      4096 Jan 25 00:53 drive\n",
            "drwxr-xr-x 1 root root      4096 Jan 20 17:27 sample_data\n",
            "-rw------- 1 root root 113023590 Jan 25 00:53 training_data.zip\n"
          ],
          "name": "stdout"
        }
      ]
    },
    {
      "cell_type": "code",
      "metadata": {
        "id": "FWj06i8uA6OO"
      },
      "source": [
        "!cp ./drive/MyDrive/training_data.zip ."
      ],
      "execution_count": null,
      "outputs": []
    },
    {
      "cell_type": "code",
      "metadata": {
        "id": "AEJfrotXA58E"
      },
      "source": [
        "!unzip training_data.zip\r\n"
      ],
      "execution_count": null,
      "outputs": []
    },
    {
      "cell_type": "code",
      "metadata": {
        "id": "O5M05p_pA5rd"
      },
      "source": [
        ""
      ],
      "execution_count": null,
      "outputs": []
    },
    {
      "cell_type": "code",
      "metadata": {
        "id": "KPy5I5SBA3jW"
      },
      "source": [
        "import glob\n",
        "import numpy as np\n",
        "import matplotlib.pyplot as plt\n",
        "from tensorflow.keras.preprocessing.image import ImageDataGenerator, load_img, img_to_array, array_to_img"
      ],
      "execution_count": null,
      "outputs": []
    },
    {
      "cell_type": "code",
      "metadata": {
        "id": "eZImnfGOA3jX",
        "colab": {
          "base_uri": "https://localhost:8080/"
        },
        "outputId": "9966ba89-813e-4092-d3a2-42accaf1f44d"
      },
      "source": [
        "IMG_DIM = (150, 150)\n",
        "\n",
        "train_files = glob.glob('training_data/*')\n",
        "train_imgs = [img_to_array(load_img(img, target_size=IMG_DIM)) for img in train_files]\n",
        "train_imgs = np.array(train_imgs)\n",
        "train_labels = [fn.split('/')[1].split('.')[0].strip() for fn in train_files]\n",
        "\n",
        "validation_files = glob.glob('validation_data/*')\n",
        "validation_imgs = [img_to_array(load_img(img, target_size=IMG_DIM)) for img in validation_files]\n",
        "validation_imgs = np.array(validation_imgs)\n",
        "validation_labels = [fn.split('/')[1].split('.')[0].strip() for fn in validation_files]\n",
        "\n",
        "print('Train dataset shape:', train_imgs.shape, \n",
        "      '\\tValidation dataset shape:', validation_imgs.shape)"
      ],
      "execution_count": null,
      "outputs": [
        {
          "output_type": "stream",
          "text": [
            "Train dataset shape: (3000, 150, 150, 3) \tValidation dataset shape: (1000, 150, 150, 3)\n"
          ],
          "name": "stdout"
        }
      ]
    },
    {
      "cell_type": "code",
      "metadata": {
        "id": "OiDa5o60A3jX"
      },
      "source": [
        "train_imgs_scaled = train_imgs.astype('float32')\n",
        "validation_imgs_scaled = validation_imgs.astype('float32')\n",
        "train_imgs_scaled /= 255\n",
        "validation_imgs_scaled /= 255"
      ],
      "execution_count": null,
      "outputs": []
    },
    {
      "cell_type": "code",
      "metadata": {
        "id": "COLKZn79A3jY",
        "colab": {
          "base_uri": "https://localhost:8080/"
        },
        "outputId": "5fc58c36-b5fc-4843-e47f-5a10857b3920"
      },
      "source": [
        "batch_size = 50\n",
        "num_classes = 2\n",
        "epochs = 100\n",
        "input_shape = (150, 150, 3)\n",
        "\n",
        "from sklearn.preprocessing import LabelEncoder\n",
        "\n",
        "le = LabelEncoder()\n",
        "le.fit(train_labels)\n",
        "# encode wine type labels\n",
        "train_labels_enc = le.transform(train_labels)\n",
        "validation_labels_enc = le.transform(validation_labels)\n",
        "\n",
        "print(train_labels[0:5], train_labels_enc[0:5])"
      ],
      "execution_count": null,
      "outputs": [
        {
          "output_type": "stream",
          "text": [
            "['cat', 'cat', 'cat', 'dog', 'cat'] [0 0 0 1 0]\n"
          ],
          "name": "stdout"
        }
      ]
    },
    {
      "cell_type": "code",
      "metadata": {
        "id": "Ieppy25xFE_N"
      },
      "source": [
        ""
      ],
      "execution_count": null,
      "outputs": []
    },
    {
      "cell_type": "code",
      "metadata": {
        "id": "j0wF41XlFEu9"
      },
      "source": [
        "train_datagen = ImageDataGenerator( zoom_range=0.3, rotation_range=50,  # rescale=1./255,\r\n",
        "                                   width_shift_range=0.2, height_shift_range=0.2, shear_range=0.2, \r\n",
        "                                   horizontal_flip=True, fill_mode='nearest')\r\n",
        "\r\n",
        "val_datagen = ImageDataGenerator() # rescale=1./255\r\n",
        "\r\n",
        "train_generator = train_datagen.flow(train_imgs, train_labels_enc, batch_size=30)\r\n",
        "val_generator = val_datagen.flow(validation_imgs, validation_labels_enc, batch_size=20)"
      ],
      "execution_count": null,
      "outputs": []
    },
    {
      "cell_type": "code",
      "metadata": {
        "id": "wDDCzCWzFEDf"
      },
      "source": [
        ""
      ],
      "execution_count": null,
      "outputs": []
    },
    {
      "cell_type": "code",
      "metadata": {
        "id": "9fVVMivMA3jZ",
        "colab": {
          "base_uri": "https://localhost:8080/"
        },
        "outputId": "51fd748e-6c1a-4cab-c8db-17d7af21efea"
      },
      "source": [
        "\n",
        "from tensorflow.keras.applications import vgg16\n",
        "from tensorflow.keras.models import Model\n",
        "import tensorflow.keras\n",
        "\n",
        "vgg = vgg16.VGG16(include_top=False, weights='imagenet',\n",
        "                                     input_shape=input_shape)\n",
        "\n",
        "output = vgg.layers[-1].output\n",
        "output = tensorflow.keras.layers.Flatten()(output)\n",
        "\n",
        "vgg_model = Model(vgg.input, output)\n",
        "vgg_model.trainable = False\n",
        "\n",
        "for layer in vgg_model.layers:\n",
        "    layer.trainable = False\n",
        "\n",
        "vgg_model.summary()\n"
      ],
      "execution_count": null,
      "outputs": [
        {
          "output_type": "stream",
          "text": [
            "Downloading data from https://storage.googleapis.com/tensorflow/keras-applications/vgg16/vgg16_weights_tf_dim_ordering_tf_kernels_notop.h5\n",
            "58892288/58889256 [==============================] - 0s 0us/step\n",
            "Model: \"model\"\n",
            "_________________________________________________________________\n",
            "Layer (type)                 Output Shape              Param #   \n",
            "=================================================================\n",
            "input_1 (InputLayer)         [(None, 150, 150, 3)]     0         \n",
            "_________________________________________________________________\n",
            "block1_conv1 (Conv2D)        (None, 150, 150, 64)      1792      \n",
            "_________________________________________________________________\n",
            "block1_conv2 (Conv2D)        (None, 150, 150, 64)      36928     \n",
            "_________________________________________________________________\n",
            "block1_pool (MaxPooling2D)   (None, 75, 75, 64)        0         \n",
            "_________________________________________________________________\n",
            "block2_conv1 (Conv2D)        (None, 75, 75, 128)       73856     \n",
            "_________________________________________________________________\n",
            "block2_conv2 (Conv2D)        (None, 75, 75, 128)       147584    \n",
            "_________________________________________________________________\n",
            "block2_pool (MaxPooling2D)   (None, 37, 37, 128)       0         \n",
            "_________________________________________________________________\n",
            "block3_conv1 (Conv2D)        (None, 37, 37, 256)       295168    \n",
            "_________________________________________________________________\n",
            "block3_conv2 (Conv2D)        (None, 37, 37, 256)       590080    \n",
            "_________________________________________________________________\n",
            "block3_conv3 (Conv2D)        (None, 37, 37, 256)       590080    \n",
            "_________________________________________________________________\n",
            "block3_pool (MaxPooling2D)   (None, 18, 18, 256)       0         \n",
            "_________________________________________________________________\n",
            "block4_conv1 (Conv2D)        (None, 18, 18, 512)       1180160   \n",
            "_________________________________________________________________\n",
            "block4_conv2 (Conv2D)        (None, 18, 18, 512)       2359808   \n",
            "_________________________________________________________________\n",
            "block4_conv3 (Conv2D)        (None, 18, 18, 512)       2359808   \n",
            "_________________________________________________________________\n",
            "block4_pool (MaxPooling2D)   (None, 9, 9, 512)         0         \n",
            "_________________________________________________________________\n",
            "block5_conv1 (Conv2D)        (None, 9, 9, 512)         2359808   \n",
            "_________________________________________________________________\n",
            "block5_conv2 (Conv2D)        (None, 9, 9, 512)         2359808   \n",
            "_________________________________________________________________\n",
            "block5_conv3 (Conv2D)        (None, 9, 9, 512)         2359808   \n",
            "_________________________________________________________________\n",
            "block5_pool (MaxPooling2D)   (None, 4, 4, 512)         0         \n",
            "_________________________________________________________________\n",
            "flatten (Flatten)            (None, 8192)              0         \n",
            "=================================================================\n",
            "Total params: 14,714,688\n",
            "Trainable params: 0\n",
            "Non-trainable params: 14,714,688\n",
            "_________________________________________________________________\n"
          ],
          "name": "stdout"
        }
      ]
    },
    {
      "cell_type": "code",
      "metadata": {
        "id": "T9SDjC3EA3jZ",
        "colab": {
          "base_uri": "https://localhost:8080/",
          "height": 1000
        },
        "outputId": "024b217d-471e-4dd7-ed41-9604efb59b80"
      },
      "source": [
        "import pandas as pd\n",
        "pd.set_option('max_colwidth', -1)\n",
        "\n",
        "layers = [(layer, layer.name, layer.trainable) for layer in vgg_model.layers]\n",
        "pd.DataFrame(layers, columns=['Layer Type', 'Layer Name', 'Layer Trainable'])"
      ],
      "execution_count": null,
      "outputs": [
        {
          "output_type": "stream",
          "text": [
            "/usr/local/lib/python3.6/dist-packages/ipykernel_launcher.py:2: FutureWarning: Passing a negative integer is deprecated in version 1.0 and will not be supported in future version. Instead, use None to not limit the column width.\n",
            "  \n"
          ],
          "name": "stderr"
        },
        {
          "output_type": "execute_result",
          "data": {
            "text/html": [
              "<div>\n",
              "<style scoped>\n",
              "    .dataframe tbody tr th:only-of-type {\n",
              "        vertical-align: middle;\n",
              "    }\n",
              "\n",
              "    .dataframe tbody tr th {\n",
              "        vertical-align: top;\n",
              "    }\n",
              "\n",
              "    .dataframe thead th {\n",
              "        text-align: right;\n",
              "    }\n",
              "</style>\n",
              "<table border=\"1\" class=\"dataframe\">\n",
              "  <thead>\n",
              "    <tr style=\"text-align: right;\">\n",
              "      <th></th>\n",
              "      <th>Layer Type</th>\n",
              "      <th>Layer Name</th>\n",
              "      <th>Layer Trainable</th>\n",
              "    </tr>\n",
              "  </thead>\n",
              "  <tbody>\n",
              "    <tr>\n",
              "      <th>0</th>\n",
              "      <td>&lt;tensorflow.python.keras.engine.input_layer.InputLayer object at 0x7fe01ed0f0f0&gt;</td>\n",
              "      <td>input_1</td>\n",
              "      <td>False</td>\n",
              "    </tr>\n",
              "    <tr>\n",
              "      <th>1</th>\n",
              "      <td>&lt;tensorflow.python.keras.layers.convolutional.Conv2D object at 0x7fe01ed2d668&gt;</td>\n",
              "      <td>block1_conv1</td>\n",
              "      <td>False</td>\n",
              "    </tr>\n",
              "    <tr>\n",
              "      <th>2</th>\n",
              "      <td>&lt;tensorflow.python.keras.layers.convolutional.Conv2D object at 0x7fe01e48a400&gt;</td>\n",
              "      <td>block1_conv2</td>\n",
              "      <td>False</td>\n",
              "    </tr>\n",
              "    <tr>\n",
              "      <th>3</th>\n",
              "      <td>&lt;tensorflow.python.keras.layers.pooling.MaxPooling2D object at 0x7fe01e4949e8&gt;</td>\n",
              "      <td>block1_pool</td>\n",
              "      <td>False</td>\n",
              "    </tr>\n",
              "    <tr>\n",
              "      <th>4</th>\n",
              "      <td>&lt;tensorflow.python.keras.layers.convolutional.Conv2D object at 0x7fe01e4bda90&gt;</td>\n",
              "      <td>block2_conv1</td>\n",
              "      <td>False</td>\n",
              "    </tr>\n",
              "    <tr>\n",
              "      <th>5</th>\n",
              "      <td>&lt;tensorflow.python.keras.layers.convolutional.Conv2D object at 0x7fe01e494198&gt;</td>\n",
              "      <td>block2_conv2</td>\n",
              "      <td>False</td>\n",
              "    </tr>\n",
              "    <tr>\n",
              "      <th>6</th>\n",
              "      <td>&lt;tensorflow.python.keras.layers.pooling.MaxPooling2D object at 0x7fe010241b00&gt;</td>\n",
              "      <td>block2_pool</td>\n",
              "      <td>False</td>\n",
              "    </tr>\n",
              "    <tr>\n",
              "      <th>7</th>\n",
              "      <td>&lt;tensorflow.python.keras.layers.convolutional.Conv2D object at 0x7fe010246d30&gt;</td>\n",
              "      <td>block3_conv1</td>\n",
              "      <td>False</td>\n",
              "    </tr>\n",
              "    <tr>\n",
              "      <th>8</th>\n",
              "      <td>&lt;tensorflow.python.keras.layers.convolutional.Conv2D object at 0x7fe01024df60&gt;</td>\n",
              "      <td>block3_conv2</td>\n",
              "      <td>False</td>\n",
              "    </tr>\n",
              "    <tr>\n",
              "      <th>9</th>\n",
              "      <td>&lt;tensorflow.python.keras.layers.convolutional.Conv2D object at 0x7fe01024da58&gt;</td>\n",
              "      <td>block3_conv3</td>\n",
              "      <td>False</td>\n",
              "    </tr>\n",
              "    <tr>\n",
              "      <th>10</th>\n",
              "      <td>&lt;tensorflow.python.keras.layers.pooling.MaxPooling2D object at 0x7fe010253e10&gt;</td>\n",
              "      <td>block3_pool</td>\n",
              "      <td>False</td>\n",
              "    </tr>\n",
              "    <tr>\n",
              "      <th>11</th>\n",
              "      <td>&lt;tensorflow.python.keras.layers.convolutional.Conv2D object at 0x7fe01025cac8&gt;</td>\n",
              "      <td>block4_conv1</td>\n",
              "      <td>False</td>\n",
              "    </tr>\n",
              "    <tr>\n",
              "      <th>12</th>\n",
              "      <td>&lt;tensorflow.python.keras.layers.convolutional.Conv2D object at 0x7fe010253128&gt;</td>\n",
              "      <td>block4_conv2</td>\n",
              "      <td>False</td>\n",
              "    </tr>\n",
              "    <tr>\n",
              "      <th>13</th>\n",
              "      <td>&lt;tensorflow.python.keras.layers.convolutional.Conv2D object at 0x7fe010263da0&gt;</td>\n",
              "      <td>block4_conv3</td>\n",
              "      <td>False</td>\n",
              "    </tr>\n",
              "    <tr>\n",
              "      <th>14</th>\n",
              "      <td>&lt;tensorflow.python.keras.layers.pooling.MaxPooling2D object at 0x7fe01026e4a8&gt;</td>\n",
              "      <td>block4_pool</td>\n",
              "      <td>False</td>\n",
              "    </tr>\n",
              "    <tr>\n",
              "      <th>15</th>\n",
              "      <td>&lt;tensorflow.python.keras.layers.convolutional.Conv2D object at 0x7fe010274400&gt;</td>\n",
              "      <td>block5_conv1</td>\n",
              "      <td>False</td>\n",
              "    </tr>\n",
              "    <tr>\n",
              "      <th>16</th>\n",
              "      <td>&lt;tensorflow.python.keras.layers.convolutional.Conv2D object at 0x7fe01026e9e8&gt;</td>\n",
              "      <td>block5_conv2</td>\n",
              "      <td>False</td>\n",
              "    </tr>\n",
              "    <tr>\n",
              "      <th>17</th>\n",
              "      <td>&lt;tensorflow.python.keras.layers.convolutional.Conv2D object at 0x7fe010274f28&gt;</td>\n",
              "      <td>block5_conv3</td>\n",
              "      <td>False</td>\n",
              "    </tr>\n",
              "    <tr>\n",
              "      <th>18</th>\n",
              "      <td>&lt;tensorflow.python.keras.layers.pooling.MaxPooling2D object at 0x7fe01027bfd0&gt;</td>\n",
              "      <td>block5_pool</td>\n",
              "      <td>False</td>\n",
              "    </tr>\n",
              "    <tr>\n",
              "      <th>19</th>\n",
              "      <td>&lt;tensorflow.python.keras.layers.core.Flatten object at 0x7fe01027b550&gt;</td>\n",
              "      <td>flatten</td>\n",
              "      <td>False</td>\n",
              "    </tr>\n",
              "  </tbody>\n",
              "</table>\n",
              "</div>"
            ],
            "text/plain": [
              "                                                                          Layer Type  ... Layer Trainable\n",
              "0   <tensorflow.python.keras.engine.input_layer.InputLayer object at 0x7fe01ed0f0f0>  ...  False         \n",
              "1   <tensorflow.python.keras.layers.convolutional.Conv2D object at 0x7fe01ed2d668>    ...  False         \n",
              "2   <tensorflow.python.keras.layers.convolutional.Conv2D object at 0x7fe01e48a400>    ...  False         \n",
              "3   <tensorflow.python.keras.layers.pooling.MaxPooling2D object at 0x7fe01e4949e8>    ...  False         \n",
              "4   <tensorflow.python.keras.layers.convolutional.Conv2D object at 0x7fe01e4bda90>    ...  False         \n",
              "5   <tensorflow.python.keras.layers.convolutional.Conv2D object at 0x7fe01e494198>    ...  False         \n",
              "6   <tensorflow.python.keras.layers.pooling.MaxPooling2D object at 0x7fe010241b00>    ...  False         \n",
              "7   <tensorflow.python.keras.layers.convolutional.Conv2D object at 0x7fe010246d30>    ...  False         \n",
              "8   <tensorflow.python.keras.layers.convolutional.Conv2D object at 0x7fe01024df60>    ...  False         \n",
              "9   <tensorflow.python.keras.layers.convolutional.Conv2D object at 0x7fe01024da58>    ...  False         \n",
              "10  <tensorflow.python.keras.layers.pooling.MaxPooling2D object at 0x7fe010253e10>    ...  False         \n",
              "11  <tensorflow.python.keras.layers.convolutional.Conv2D object at 0x7fe01025cac8>    ...  False         \n",
              "12  <tensorflow.python.keras.layers.convolutional.Conv2D object at 0x7fe010253128>    ...  False         \n",
              "13  <tensorflow.python.keras.layers.convolutional.Conv2D object at 0x7fe010263da0>    ...  False         \n",
              "14  <tensorflow.python.keras.layers.pooling.MaxPooling2D object at 0x7fe01026e4a8>    ...  False         \n",
              "15  <tensorflow.python.keras.layers.convolutional.Conv2D object at 0x7fe010274400>    ...  False         \n",
              "16  <tensorflow.python.keras.layers.convolutional.Conv2D object at 0x7fe01026e9e8>    ...  False         \n",
              "17  <tensorflow.python.keras.layers.convolutional.Conv2D object at 0x7fe010274f28>    ...  False         \n",
              "18  <tensorflow.python.keras.layers.pooling.MaxPooling2D object at 0x7fe01027bfd0>    ...  False         \n",
              "19  <tensorflow.python.keras.layers.core.Flatten object at 0x7fe01027b550>            ...  False         \n",
              "\n",
              "[20 rows x 3 columns]"
            ]
          },
          "metadata": {
            "tags": []
          },
          "execution_count": 13
        }
      ]
    },
    {
      "cell_type": "code",
      "metadata": {
        "id": "OvJvrtrgA3ja",
        "colab": {
          "base_uri": "https://localhost:8080/"
        },
        "outputId": "03a6d717-ff9c-404c-8674-1753eb0e7f5e"
      },
      "source": [
        "print(\"Trainable layers:\", vgg_model.trainable_weights)"
      ],
      "execution_count": null,
      "outputs": [
        {
          "output_type": "stream",
          "text": [
            "Trainable layers: []\n"
          ],
          "name": "stdout"
        }
      ]
    },
    {
      "cell_type": "code",
      "metadata": {
        "id": "J_Zbyst4A3ja",
        "colab": {
          "base_uri": "https://localhost:8080/",
          "height": 304
        },
        "outputId": "ec571699-639b-44f0-dd29-55d3e7e9cc2f"
      },
      "source": [
        "bottleneck_feature_example = vgg.predict(train_imgs_scaled[0:1])\n",
        "print(bottleneck_feature_example.shape)\n",
        "plt.imshow(bottleneck_feature_example[0][:,:,0])"
      ],
      "execution_count": null,
      "outputs": [
        {
          "output_type": "stream",
          "text": [
            "(1, 4, 4, 512)\n"
          ],
          "name": "stdout"
        },
        {
          "output_type": "execute_result",
          "data": {
            "text/plain": [
              "<matplotlib.image.AxesImage at 0x7fe0100bea20>"
            ]
          },
          "metadata": {
            "tags": []
          },
          "execution_count": 15
        },
        {
          "output_type": "display_data",
          "data": {
            "image/png": "[encoded data removed]",
            "text/plain": [
              "<Figure size 432x288 with 1 Axes>"
            ]
          },
          "metadata": {
            "tags": [],
            "needs_background": "light"
          }
        }
      ]
    },
    {
      "cell_type": "code",
      "metadata": {
        "id": "_8LY2OOaA3jb"
      },
      "source": [
        "def get_bottleneck_features(model, input_imgs):\n",
        "    \n",
        "    features = model.predict(input_imgs, verbose=0)\n",
        "    return features"
      ],
      "execution_count": null,
      "outputs": []
    },
    {
      "cell_type": "code",
      "metadata": {
        "id": "8sekjWocA3jb",
        "colab": {
          "base_uri": "https://localhost:8080/"
        },
        "outputId": "d2c661ac-978f-44c6-d7a8-fb0ff0d657ce"
      },
      "source": [
        "train_features_vgg = get_bottleneck_features(vgg_model, train_imgs_scaled)\n",
        "validation_features_vgg = get_bottleneck_features(vgg_model, validation_imgs_scaled)\n",
        "\n",
        "print('Train Bottleneck Features:', train_features_vgg.shape, \n",
        "      '\\tValidation Bottleneck Features:', validation_features_vgg.shape)"
      ],
      "execution_count": null,
      "outputs": [
        {
          "output_type": "stream",
          "text": [
            "Train Bottleneck Features: (3000, 8192) \tValidation Bottleneck Features: (1000, 8192)\n"
          ],
          "name": "stdout"
        }
      ]
    },
    {
      "cell_type": "code",
      "metadata": {
        "id": "unerLhrzF2HL"
      },
      "source": [
        ""
      ],
      "execution_count": null,
      "outputs": []
    },
    {
      "cell_type": "code",
      "metadata": {
        "id": "qyFijnDhGBjn",
        "colab": {
          "base_uri": "https://localhost:8080/"
        },
        "outputId": "dd35d792-1a11-41db-f016-b7b7fc9bf156"
      },
      "source": [
        "from tensorflow.keras.layers import Conv2D, MaxPooling2D, Flatten, Dense, Dropout, InputLayer\r\n",
        "from tensorflow.keras.models import Sequential\r\n",
        "from tensorflow.keras import optimizers\r\n",
        "\r\n",
        "model = Sequential()\r\n",
        "model.add(vgg_model)\r\n",
        "model.add(Dense(512, activation='relu', input_dim=input_shape))\r\n",
        "model.add(Dropout(0.3))\r\n",
        "model.add(Dense(64, activation='relu'))\r\n",
        "model.add(Dropout(0.3))\r\n",
        "model.add(Dense(1, activation='sigmoid'))\r\n",
        "\r\n",
        "model.compile(loss='binary_crossentropy',\r\n",
        "              optimizer=optimizers.RMSprop(lr=2e-5),\r\n",
        "              metrics=['accuracy'])\r\n",
        "\r\n",
        "model.summary()"
      ],
      "execution_count": null,
      "outputs": [
        {
          "output_type": "stream",
          "text": [
            "Model: \"sequential\"\n",
            "_________________________________________________________________\n",
            "Layer (type)                 Output Shape              Param #   \n",
            "=================================================================\n",
            "model (Functional)           (None, 8192)              14714688  \n",
            "_________________________________________________________________\n",
            "dense (Dense)                (None, 512)               4194816   \n",
            "_________________________________________________________________\n",
            "dropout (Dropout)            (None, 512)               0         \n",
            "_________________________________________________________________\n",
            "dense_1 (Dense)              (None, 64)                32832     \n",
            "_________________________________________________________________\n",
            "dropout_1 (Dropout)          (None, 64)                0         \n",
            "_________________________________________________________________\n",
            "dense_2 (Dense)              (None, 1)                 65        \n",
            "=================================================================\n",
            "Total params: 18,942,401\n",
            "Trainable params: 4,227,713\n",
            "Non-trainable params: 14,714,688\n",
            "_________________________________________________________________\n"
          ],
          "name": "stdout"
        }
      ]
    },
    {
      "cell_type": "code",
      "metadata": {
        "id": "oXhFf4HLA3jc",
        "colab": {
          "base_uri": "https://localhost:8080/"
        },
        "outputId": "b7379f62-2d92-479f-f605-7d9cbce83d86"
      },
      "source": [
        "history = model.fit_generator(train_generator,  epochs=epochs,\r\n",
        "                              validation_data=val_generator,  verbose=1)"
      ],
      "execution_count": null,
      "outputs": [
        {
          "output_type": "stream",
          "text": [
            "/usr/local/lib/python3.6/dist-packages/tensorflow/python/keras/engine/training.py:1844: UserWarning: `Model.fit_generator` is deprecated and will be removed in a future version. Please use `Model.fit`, which supports generators.\n",
            "  warnings.warn('`Model.fit_generator` is deprecated and '\n"
          ],
          "name": "stderr"
        },
        {
          "output_type": "stream",
          "text": [
            "Epoch 1/100\n",
            "100/100 [==============================] - 20s 187ms/step - loss: 6.5725 - accuracy: 0.5616 - val_loss: 1.2172 - val_accuracy: 0.8540\n",
            "Epoch 2/100\n",
            "100/100 [==============================] - 18s 179ms/step - loss: 2.9499 - accuracy: 0.7044 - val_loss: 0.8686 - val_accuracy: 0.8870\n",
            "Epoch 3/100\n",
            "100/100 [==============================] - 18s 179ms/step - loss: 2.2802 - accuracy: 0.7209 - val_loss: 0.6293 - val_accuracy: 0.8980\n",
            "Epoch 4/100\n",
            "100/100 [==============================] - 18s 180ms/step - loss: 1.7515 - accuracy: 0.7545 - val_loss: 0.5356 - val_accuracy: 0.9040\n",
            "Epoch 5/100\n",
            "100/100 [==============================] - 18s 183ms/step - loss: 1.3491 - accuracy: 0.7613 - val_loss: 0.4393 - val_accuracy: 0.9080\n",
            "Epoch 6/100\n",
            "100/100 [==============================] - 18s 183ms/step - loss: 1.2225 - accuracy: 0.7692 - val_loss: 0.3858 - val_accuracy: 0.9160\n",
            "Epoch 7/100\n",
            "100/100 [==============================] - 18s 183ms/step - loss: 0.9931 - accuracy: 0.7722 - val_loss: 0.3563 - val_accuracy: 0.9110\n",
            "Epoch 8/100\n",
            "100/100 [==============================] - 18s 182ms/step - loss: 0.9175 - accuracy: 0.7777 - val_loss: 0.3290 - val_accuracy: 0.9130\n",
            "Epoch 9/100\n",
            "100/100 [==============================] - 18s 181ms/step - loss: 0.8228 - accuracy: 0.7837 - val_loss: 0.2975 - val_accuracy: 0.9110\n",
            "Epoch 10/100\n",
            "100/100 [==============================] - 18s 183ms/step - loss: 0.6973 - accuracy: 0.7866 - val_loss: 0.2790 - val_accuracy: 0.9260\n",
            "Epoch 11/100\n",
            "100/100 [==============================] - 18s 182ms/step - loss: 0.6806 - accuracy: 0.7930 - val_loss: 0.2655 - val_accuracy: 0.9280\n",
            "Epoch 12/100\n",
            "100/100 [==============================] - 18s 183ms/step - loss: 0.6205 - accuracy: 0.8131 - val_loss: 0.2577 - val_accuracy: 0.9290\n",
            "Epoch 13/100\n",
            "100/100 [==============================] - 18s 182ms/step - loss: 0.5830 - accuracy: 0.8072 - val_loss: 0.2454 - val_accuracy: 0.9210\n",
            "Epoch 14/100\n",
            "100/100 [==============================] - 18s 183ms/step - loss: 0.6307 - accuracy: 0.8082 - val_loss: 0.2327 - val_accuracy: 0.9240\n",
            "Epoch 15/100\n",
            "100/100 [==============================] - 18s 182ms/step - loss: 0.4788 - accuracy: 0.8280 - val_loss: 0.2378 - val_accuracy: 0.9300\n",
            "Epoch 16/100\n",
            "100/100 [==============================] - 18s 181ms/step - loss: 0.5505 - accuracy: 0.8070 - val_loss: 0.2259 - val_accuracy: 0.9240\n",
            "Epoch 17/100\n",
            "100/100 [==============================] - 18s 181ms/step - loss: 0.4625 - accuracy: 0.8269 - val_loss: 0.2318 - val_accuracy: 0.9210\n",
            "Epoch 18/100\n",
            "100/100 [==============================] - 18s 182ms/step - loss: 0.4953 - accuracy: 0.8109 - val_loss: 0.2279 - val_accuracy: 0.9270\n",
            "Epoch 19/100\n",
            "100/100 [==============================] - 18s 180ms/step - loss: 0.4588 - accuracy: 0.8333 - val_loss: 0.2368 - val_accuracy: 0.9260\n",
            "Epoch 20/100\n",
            "100/100 [==============================] - 18s 181ms/step - loss: 0.4203 - accuracy: 0.8449 - val_loss: 0.2265 - val_accuracy: 0.9320\n",
            "Epoch 21/100\n",
            "100/100 [==============================] - 18s 181ms/step - loss: 0.5224 - accuracy: 0.8168 - val_loss: 0.2316 - val_accuracy: 0.9320\n",
            "Epoch 22/100\n",
            "100/100 [==============================] - 18s 182ms/step - loss: 0.4569 - accuracy: 0.8270 - val_loss: 0.2200 - val_accuracy: 0.9370\n",
            "Epoch 23/100\n",
            "100/100 [==============================] - 18s 182ms/step - loss: 0.4374 - accuracy: 0.8302 - val_loss: 0.2287 - val_accuracy: 0.9410\n",
            "Epoch 24/100\n",
            "100/100 [==============================] - 18s 181ms/step - loss: 0.4079 - accuracy: 0.8250 - val_loss: 0.2228 - val_accuracy: 0.9370\n",
            "Epoch 25/100\n",
            "100/100 [==============================] - 18s 181ms/step - loss: 0.4583 - accuracy: 0.8337 - val_loss: 0.2362 - val_accuracy: 0.9370\n",
            "Epoch 26/100\n",
            "100/100 [==============================] - 18s 181ms/step - loss: 0.4081 - accuracy: 0.8324 - val_loss: 0.2323 - val_accuracy: 0.9390\n",
            "Epoch 27/100\n",
            "100/100 [==============================] - 18s 180ms/step - loss: 0.4507 - accuracy: 0.8359 - val_loss: 0.2285 - val_accuracy: 0.9370\n",
            "Epoch 28/100\n",
            "100/100 [==============================] - 18s 180ms/step - loss: 0.4166 - accuracy: 0.8387 - val_loss: 0.2242 - val_accuracy: 0.9350\n",
            "Epoch 29/100\n",
            "100/100 [==============================] - 18s 180ms/step - loss: 0.4246 - accuracy: 0.8421 - val_loss: 0.2381 - val_accuracy: 0.9330\n",
            "Epoch 30/100\n",
            "100/100 [==============================] - 18s 180ms/step - loss: 0.3838 - accuracy: 0.8510 - val_loss: 0.2460 - val_accuracy: 0.9360\n",
            "Epoch 31/100\n",
            "100/100 [==============================] - 18s 180ms/step - loss: 0.4294 - accuracy: 0.8544 - val_loss: 0.2419 - val_accuracy: 0.9370\n",
            "Epoch 32/100\n",
            "100/100 [==============================] - 18s 181ms/step - loss: 0.3769 - accuracy: 0.8552 - val_loss: 0.2340 - val_accuracy: 0.9280\n",
            "Epoch 33/100\n",
            "100/100 [==============================] - 18s 180ms/step - loss: 0.4073 - accuracy: 0.8400 - val_loss: 0.2308 - val_accuracy: 0.9320\n",
            "Epoch 34/100\n",
            "100/100 [==============================] - 18s 180ms/step - loss: 0.3546 - accuracy: 0.8646 - val_loss: 0.2351 - val_accuracy: 0.9350\n",
            "Epoch 35/100\n",
            "100/100 [==============================] - 18s 179ms/step - loss: 0.3519 - accuracy: 0.8653 - val_loss: 0.2326 - val_accuracy: 0.9320\n",
            "Epoch 36/100\n",
            "100/100 [==============================] - 18s 181ms/step - loss: 0.3747 - accuracy: 0.8518 - val_loss: 0.2304 - val_accuracy: 0.9380\n",
            "Epoch 37/100\n",
            "100/100 [==============================] - 18s 180ms/step - loss: 0.3482 - accuracy: 0.8641 - val_loss: 0.2319 - val_accuracy: 0.9370\n",
            "Epoch 38/100\n",
            "100/100 [==============================] - 18s 181ms/step - loss: 0.3725 - accuracy: 0.8595 - val_loss: 0.2263 - val_accuracy: 0.9370\n",
            "Epoch 39/100\n",
            "100/100 [==============================] - 18s 180ms/step - loss: 0.3632 - accuracy: 0.8544 - val_loss: 0.2497 - val_accuracy: 0.9390\n",
            "Epoch 40/100\n",
            "100/100 [==============================] - 18s 181ms/step - loss: 0.3616 - accuracy: 0.8774 - val_loss: 0.2365 - val_accuracy: 0.9380\n",
            "Epoch 41/100\n",
            "100/100 [==============================] - 18s 180ms/step - loss: 0.3290 - accuracy: 0.8710 - val_loss: 0.2391 - val_accuracy: 0.9390\n",
            "Epoch 42/100\n",
            "100/100 [==============================] - 18s 180ms/step - loss: 0.3995 - accuracy: 0.8618 - val_loss: 0.2318 - val_accuracy: 0.9390\n",
            "Epoch 43/100\n",
            "100/100 [==============================] - 18s 180ms/step - loss: 0.3521 - accuracy: 0.8720 - val_loss: 0.2188 - val_accuracy: 0.9420\n",
            "Epoch 44/100\n",
            "100/100 [==============================] - 18s 180ms/step - loss: 0.3465 - accuracy: 0.8770 - val_loss: 0.2238 - val_accuracy: 0.9430\n",
            "Epoch 45/100\n",
            "100/100 [==============================] - 18s 180ms/step - loss: 0.3567 - accuracy: 0.8569 - val_loss: 0.2245 - val_accuracy: 0.9450\n",
            "Epoch 46/100\n",
            "100/100 [==============================] - 18s 180ms/step - loss: 0.3510 - accuracy: 0.8645 - val_loss: 0.2332 - val_accuracy: 0.9470\n",
            "Epoch 47/100\n",
            "100/100 [==============================] - 18s 181ms/step - loss: 0.4158 - accuracy: 0.8515 - val_loss: 0.2337 - val_accuracy: 0.9440\n",
            "Epoch 48/100\n",
            "100/100 [==============================] - 18s 180ms/step - loss: 0.3636 - accuracy: 0.8659 - val_loss: 0.2373 - val_accuracy: 0.9450\n",
            "Epoch 49/100\n",
            "100/100 [==============================] - 18s 180ms/step - loss: 0.3737 - accuracy: 0.8665 - val_loss: 0.2331 - val_accuracy: 0.9440\n",
            "Epoch 50/100\n",
            "100/100 [==============================] - 18s 179ms/step - loss: 0.3679 - accuracy: 0.8625 - val_loss: 0.2246 - val_accuracy: 0.9460\n",
            "Epoch 51/100\n",
            "100/100 [==============================] - 18s 179ms/step - loss: 0.3317 - accuracy: 0.8694 - val_loss: 0.2295 - val_accuracy: 0.9450\n",
            "Epoch 52/100\n",
            "100/100 [==============================] - 18s 179ms/step - loss: 0.3237 - accuracy: 0.8675 - val_loss: 0.2383 - val_accuracy: 0.9470\n",
            "Epoch 53/100\n",
            "100/100 [==============================] - 18s 179ms/step - loss: 0.3338 - accuracy: 0.8686 - val_loss: 0.2274 - val_accuracy: 0.9480\n",
            "Epoch 54/100\n",
            "100/100 [==============================] - 18s 180ms/step - loss: 0.3248 - accuracy: 0.8780 - val_loss: 0.2391 - val_accuracy: 0.9480\n",
            "Epoch 55/100\n",
            "100/100 [==============================] - 18s 181ms/step - loss: 0.3280 - accuracy: 0.8754 - val_loss: 0.2383 - val_accuracy: 0.9430\n",
            "Epoch 56/100\n",
            "100/100 [==============================] - 18s 181ms/step - loss: 0.3586 - accuracy: 0.8777 - val_loss: 0.2332 - val_accuracy: 0.9470\n",
            "Epoch 57/100\n",
            "100/100 [==============================] - 18s 181ms/step - loss: 0.3736 - accuracy: 0.8627 - val_loss: 0.2320 - val_accuracy: 0.9430\n",
            "Epoch 58/100\n",
            "100/100 [==============================] - 18s 182ms/step - loss: 0.3354 - accuracy: 0.8823 - val_loss: 0.2370 - val_accuracy: 0.9480\n",
            "Epoch 59/100\n",
            "100/100 [==============================] - 18s 181ms/step - loss: 0.3273 - accuracy: 0.8796 - val_loss: 0.2398 - val_accuracy: 0.9480\n",
            "Epoch 60/100\n",
            "100/100 [==============================] - 18s 179ms/step - loss: 0.3295 - accuracy: 0.8686 - val_loss: 0.2350 - val_accuracy: 0.9460\n",
            "Epoch 61/100\n",
            "100/100 [==============================] - 18s 179ms/step - loss: 0.3216 - accuracy: 0.8824 - val_loss: 0.2335 - val_accuracy: 0.9470\n",
            "Epoch 62/100\n",
            "100/100 [==============================] - 18s 179ms/step - loss: 0.3568 - accuracy: 0.8739 - val_loss: 0.2379 - val_accuracy: 0.9440\n",
            "Epoch 63/100\n",
            "100/100 [==============================] - 18s 179ms/step - loss: 0.3343 - accuracy: 0.8814 - val_loss: 0.2276 - val_accuracy: 0.9490\n",
            "Epoch 64/100\n",
            "100/100 [==============================] - 18s 178ms/step - loss: 0.3396 - accuracy: 0.8720 - val_loss: 0.2222 - val_accuracy: 0.9490\n",
            "Epoch 65/100\n",
            "100/100 [==============================] - 18s 179ms/step - loss: 0.3567 - accuracy: 0.8776 - val_loss: 0.2272 - val_accuracy: 0.9450\n",
            "Epoch 66/100\n",
            "100/100 [==============================] - 18s 178ms/step - loss: 0.3333 - accuracy: 0.8801 - val_loss: 0.2310 - val_accuracy: 0.9470\n",
            "Epoch 67/100\n",
            "100/100 [==============================] - 18s 181ms/step - loss: 0.3648 - accuracy: 0.8841 - val_loss: 0.2316 - val_accuracy: 0.9450\n",
            "Epoch 68/100\n",
            "100/100 [==============================] - 18s 180ms/step - loss: 0.3025 - accuracy: 0.8832 - val_loss: 0.2391 - val_accuracy: 0.9420\n",
            "Epoch 69/100\n",
            "100/100 [==============================] - 18s 179ms/step - loss: 0.3501 - accuracy: 0.8606 - val_loss: 0.2428 - val_accuracy: 0.9440\n",
            "Epoch 70/100\n",
            "100/100 [==============================] - 18s 179ms/step - loss: 0.3275 - accuracy: 0.8799 - val_loss: 0.2380 - val_accuracy: 0.9500\n",
            "Epoch 71/100\n",
            "100/100 [==============================] - 18s 180ms/step - loss: 0.3327 - accuracy: 0.8787 - val_loss: 0.2453 - val_accuracy: 0.9450\n",
            "Epoch 72/100\n",
            "100/100 [==============================] - 18s 181ms/step - loss: 0.3335 - accuracy: 0.8768 - val_loss: 0.2404 - val_accuracy: 0.9470\n",
            "Epoch 73/100\n",
            "100/100 [==============================] - 18s 180ms/step - loss: 0.3195 - accuracy: 0.8731 - val_loss: 0.2393 - val_accuracy: 0.9460\n",
            "Epoch 74/100\n",
            "100/100 [==============================] - 18s 180ms/step - loss: 0.3187 - accuracy: 0.8931 - val_loss: 0.2373 - val_accuracy: 0.9450\n",
            "Epoch 75/100\n",
            "100/100 [==============================] - 18s 181ms/step - loss: 0.3691 - accuracy: 0.8733 - val_loss: 0.2335 - val_accuracy: 0.9470\n",
            "Epoch 76/100\n",
            "100/100 [==============================] - 18s 180ms/step - loss: 0.3299 - accuracy: 0.8827 - val_loss: 0.2360 - val_accuracy: 0.9450\n",
            "Epoch 77/100\n",
            "100/100 [==============================] - 18s 180ms/step - loss: 0.3170 - accuracy: 0.8910 - val_loss: 0.2330 - val_accuracy: 0.9470\n",
            "Epoch 78/100\n",
            "100/100 [==============================] - 18s 179ms/step - loss: 0.3140 - accuracy: 0.8931 - val_loss: 0.2283 - val_accuracy: 0.9480\n",
            "Epoch 79/100\n",
            "100/100 [==============================] - 18s 179ms/step - loss: 0.3578 - accuracy: 0.8864 - val_loss: 0.2361 - val_accuracy: 0.9450\n",
            "Epoch 80/100\n",
            "100/100 [==============================] - 18s 180ms/step - loss: 0.3145 - accuracy: 0.8866 - val_loss: 0.2455 - val_accuracy: 0.9460\n",
            "Epoch 81/100\n",
            "100/100 [==============================] - 18s 180ms/step - loss: 0.3356 - accuracy: 0.8842 - val_loss: 0.2409 - val_accuracy: 0.9480\n",
            "Epoch 82/100\n",
            "100/100 [==============================] - 18s 179ms/step - loss: 0.3149 - accuracy: 0.8925 - val_loss: 0.2413 - val_accuracy: 0.9460\n",
            "Epoch 83/100\n",
            "100/100 [==============================] - 18s 179ms/step - loss: 0.2702 - accuracy: 0.8934 - val_loss: 0.2474 - val_accuracy: 0.9480\n",
            "Epoch 84/100\n",
            "100/100 [==============================] - 18s 179ms/step - loss: 0.3336 - accuracy: 0.8765 - val_loss: 0.2445 - val_accuracy: 0.9480\n",
            "Epoch 85/100\n",
            "100/100 [==============================] - 18s 179ms/step - loss: 0.2995 - accuracy: 0.8864 - val_loss: 0.2529 - val_accuracy: 0.9470\n",
            "Epoch 86/100\n",
            "100/100 [==============================] - 18s 180ms/step - loss: 0.3389 - accuracy: 0.8988 - val_loss: 0.2442 - val_accuracy: 0.9460\n",
            "Epoch 87/100\n",
            "100/100 [==============================] - 18s 180ms/step - loss: 0.2887 - accuracy: 0.9025 - val_loss: 0.2484 - val_accuracy: 0.9430\n",
            "Epoch 88/100\n",
            "100/100 [==============================] - 18s 180ms/step - loss: 0.3527 - accuracy: 0.8928 - val_loss: 0.2531 - val_accuracy: 0.9460\n",
            "Epoch 89/100\n",
            "100/100 [==============================] - 18s 180ms/step - loss: 0.3261 - accuracy: 0.8950 - val_loss: 0.2417 - val_accuracy: 0.9480\n",
            "Epoch 90/100\n",
            "100/100 [==============================] - 18s 180ms/step - loss: 0.2838 - accuracy: 0.8894 - val_loss: 0.2387 - val_accuracy: 0.9500\n",
            "Epoch 91/100\n",
            "100/100 [==============================] - 18s 179ms/step - loss: 0.3671 - accuracy: 0.8891 - val_loss: 0.2342 - val_accuracy: 0.9500\n",
            "Epoch 92/100\n",
            "100/100 [==============================] - 18s 181ms/step - loss: 0.3433 - accuracy: 0.8707 - val_loss: 0.2368 - val_accuracy: 0.9520\n",
            "Epoch 93/100\n",
            "100/100 [==============================] - 18s 179ms/step - loss: 0.3195 - accuracy: 0.8831 - val_loss: 0.2464 - val_accuracy: 0.9500\n",
            "Epoch 94/100\n",
            "100/100 [==============================] - 18s 180ms/step - loss: 0.2967 - accuracy: 0.8920 - val_loss: 0.2553 - val_accuracy: 0.9460\n",
            "Epoch 95/100\n",
            "100/100 [==============================] - 18s 180ms/step - loss: 0.3016 - accuracy: 0.8955 - val_loss: 0.2504 - val_accuracy: 0.9490\n",
            "Epoch 96/100\n",
            "100/100 [==============================] - 18s 179ms/step - loss: 0.2729 - accuracy: 0.8998 - val_loss: 0.2483 - val_accuracy: 0.9470\n",
            "Epoch 97/100\n",
            "100/100 [==============================] - 18s 179ms/step - loss: 0.2946 - accuracy: 0.8921 - val_loss: 0.2519 - val_accuracy: 0.9480\n",
            "Epoch 98/100\n",
            "100/100 [==============================] - 18s 179ms/step - loss: 0.3335 - accuracy: 0.8929 - val_loss: 0.2592 - val_accuracy: 0.9500\n",
            "Epoch 99/100\n",
            "100/100 [==============================] - 18s 180ms/step - loss: 0.3367 - accuracy: 0.8906 - val_loss: 0.2480 - val_accuracy: 0.9470\n",
            "Epoch 100/100\n",
            "100/100 [==============================] - 18s 181ms/step - loss: 0.3184 - accuracy: 0.8808 - val_loss: 0.2569 - val_accuracy: 0.9480\n"
          ],
          "name": "stdout"
        }
      ]
    },
    {
      "cell_type": "code",
      "metadata": {
        "id": "UV-VPb-lA3jc"
      },
      "source": [
        ""
      ],
      "execution_count": null,
      "outputs": []
    },
    {
      "cell_type": "code",
      "metadata": {
        "id": "P0Fk-e8wA3jd",
        "colab": {
          "base_uri": "https://localhost:8080/",
          "height": 308
        },
        "outputId": "067147b6-8f45-4161-9ffb-f25c4dff7768"
      },
      "source": [
        "f, (ax1, ax2) = plt.subplots(1, 2, figsize=(12, 4))\n",
        "t = f.suptitle('Pre-trained CNN (Transfer Learning) Performance', fontsize=12)\n",
        "f.subplots_adjust(top=0.85, wspace=0.3)\n",
        "\n",
        "epoch_list = list(range(1,101))\n",
        "ax1.plot(epoch_list, history.history['accuracy'], label='Train Accuracy')\n",
        "ax1.plot(epoch_list, history.history['val_accuracy'], label='Validation Accuracy')\n",
        "ax1.set_xticks(np.arange(0, 101, 5))\n",
        "ax1.set_ylabel('Accuracy Value')\n",
        "ax1.set_xlabel('Epoch')\n",
        "ax1.set_title('Accuracy')\n",
        "l1 = ax1.legend(loc=\"best\")\n",
        "\n",
        "ax2.plot(epoch_list, history.history['loss'], label='Train Loss')\n",
        "ax2.plot(epoch_list, history.history['val_loss'], label='Validation Loss')\n",
        "ax2.set_xticks(np.arange(0, 101, 5))\n",
        "ax2.set_ylabel('Loss Value')\n",
        "ax2.set_xlabel('Epoch')\n",
        "ax2.set_title('Loss')\n",
        "l2 = ax2.legend(loc=\"best\")"
      ],
      "execution_count": null,
      "outputs": [
        {
          "output_type": "display_data",
          "data": {
            "image/png": "[encoded data removed]",
            "text/plain": [
              "<Figure size 864x288 with 2 Axes>"
            ]
          },
          "metadata": {
            "tags": [],
            "needs_background": "light"
          }
        }
      ]
    },
    {
      "cell_type": "code",
      "metadata": {
        "id": "wHLV0XfKA3jd"
      },
      "source": [
        "model.save('4-2-pre-aug-vgg16.h5')"
      ],
      "execution_count": null,
      "outputs": []
    },
    {
      "cell_type": "code",
      "metadata": {
        "id": "eBjX3kbpA3je"
      },
      "source": [
        ""
      ],
      "execution_count": null,
      "outputs": []
    },
    {
      "cell_type": "code",
      "metadata": {
        "id": "3IaOWSbaA3je"
      },
      "source": [
        ""
      ],
      "execution_count": null,
      "outputs": []
    },
    {
      "cell_type": "code",
      "metadata": {
        "id": "Q7SzUeawA3jn"
      },
      "source": [
        ""
      ],
      "execution_count": null,
      "outputs": []
    }
  ]
}
