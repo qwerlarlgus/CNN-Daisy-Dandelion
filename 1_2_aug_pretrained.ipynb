{
  "nbformat": 4,
  "nbformat_minor": 0,
  "metadata": {
    "colab": {
      "name": "1_2_aug_pretrained.ipynb",
      "provenance": [],
      "authorship_tag": "ABX9TyOHvoBiQJ5bJD0lxPPi8dCu",
      "include_colab_link": true
    },
    "kernelspec": {
      "name": "python3",
      "display_name": "Python 3"
    },
    "accelerator": "GPU"
  },
  "cells": [
    {
      "cell_type": "markdown",
      "metadata": {
        "id": "view-in-github",
        "colab_type": "text"
      },
      "source": [
        "<a href=\"https://colab.research.google.com/github/qwerlarlgus/CNN-Daisy-Dandelion/blob/main/1_2_aug_pretrained.ipynb\" target=\"_parent\"><img src=\"https://colab.research.google.com/assets/colab-badge.svg\" alt=\"Open In Colab\"/></a>"
      ]
    },
    {
      "cell_type": "code",
      "metadata": {
        "colab": {
          "base_uri": "https://localhost:8080/"
        },
        "id": "22mg_PXnCKsU",
        "outputId": "037882a4-f002-4485-800a-eca56ee36848"
      },
      "source": [
        "from google.colab import drive\n",
        "drive.mount('/content/drive')"
      ],
      "execution_count": 1,
      "outputs": [
        {
          "output_type": "stream",
          "text": [
            "Mounted at /content/drive\n"
          ],
          "name": "stdout"
        }
      ]
    },
    {
      "cell_type": "code",
      "metadata": {
        "id": "6giq8ls1A3jN"
      },
      "source": [
        "%matplotlib inline"
      ],
      "execution_count": 2,
      "outputs": []
    },
    {
      "cell_type": "code",
      "metadata": {
        "id": "B9GBtXmwA47m",
        "colab": {
          "base_uri": "https://localhost:8080/"
        },
        "outputId": "fb3c5583-7c15-4bd4-c887-0396caa9605f"
      },
      "source": [
        "!ls -l"
      ],
      "execution_count": 3,
      "outputs": [
        {
          "output_type": "stream",
          "text": [
            "total 8\n",
            "drwx------ 5 root root 4096 Jan 25 07:14 drive\n",
            "drwxr-xr-x 1 root root 4096 Jan 20 17:27 sample_data\n"
          ],
          "name": "stdout"
        }
      ]
    },
    {
      "cell_type": "code",
      "metadata": {
        "id": "FWj06i8uA6OO"
      },
      "source": [
        "!cp ./drive/MyDrive/training_data.zip ."
      ],
      "execution_count": 4,
      "outputs": []
    },
    {
      "cell_type": "code",
      "metadata": {
        "id": "AEJfrotXA58E"
      },
      "source": [
        "!unzip training_data.zip\r\n"
      ],
      "execution_count": null,
      "outputs": []
    },
    {
      "cell_type": "code",
      "metadata": {
        "id": "O5M05p_pA5rd"
      },
      "source": [
        ""
      ],
      "execution_count": 5,
      "outputs": []
    },
    {
      "cell_type": "code",
      "metadata": {
        "id": "KPy5I5SBA3jW"
      },
      "source": [
        "import glob\n",
        "import numpy as np\n",
        "import matplotlib.pyplot as plt\n",
        "from tensorflow.keras.preprocessing.image import ImageDataGenerator, load_img, img_to_array, array_to_img"
      ],
      "execution_count": 6,
      "outputs": []
    },
    {
      "cell_type": "code",
      "metadata": {
        "id": "eZImnfGOA3jX",
        "colab": {
          "base_uri": "https://localhost:8080/"
        },
        "outputId": "e3482105-b158-4a0a-df01-b94190ad1b34"
      },
      "source": [
        "IMG_DIM = (150, 150)\n",
        "\n",
        "train_files = glob.glob('training_data/*')\n",
        "train_imgs = [img_to_array(load_img(img, target_size=IMG_DIM)) for img in train_files]\n",
        "train_imgs = np.array(train_imgs)\n",
        "train_labels = [fn.split('/')[1].split('.')[0].strip() for fn in train_files]\n",
        "\n",
        "validation_files = glob.glob('validation_data/*')\n",
        "validation_imgs = [img_to_array(load_img(img, target_size=IMG_DIM)) for img in validation_files]\n",
        "validation_imgs = np.array(validation_imgs)\n",
        "validation_labels = [fn.split('/')[1].split('.')[0].strip() for fn in validation_files]\n",
        "\n",
        "print('Train dataset shape:', train_imgs.shape, \n",
        "      '\\tValidation dataset shape:', validation_imgs.shape)"
      ],
      "execution_count": 7,
      "outputs": [
        {
          "output_type": "stream",
          "text": [
            "Train dataset shape: (3000, 150, 150, 3) \tValidation dataset shape: (1000, 150, 150, 3)\n"
          ],
          "name": "stdout"
        }
      ]
    },
    {
      "cell_type": "code",
      "metadata": {
        "id": "OiDa5o60A3jX"
      },
      "source": [
        "train_imgs_scaled = train_imgs.astype('float32')\n",
        "validation_imgs_scaled = validation_imgs.astype('float32')\n",
        "train_imgs_scaled /= 255\n",
        "validation_imgs_scaled /= 255"
      ],
      "execution_count": 8,
      "outputs": []
    },
    {
      "cell_type": "code",
      "metadata": {
        "id": "COLKZn79A3jY",
        "colab": {
          "base_uri": "https://localhost:8080/"
        },
        "outputId": "ab7cad71-b95d-4fc4-9250-661f9ee30256"
      },
      "source": [
        "batch_size = 50\n",
        "num_classes = 2\n",
        "epochs = 150\n",
        "input_shape = (150, 150, 3)\n",
        "\n",
        "from sklearn.preprocessing import LabelEncoder\n",
        "\n",
        "le = LabelEncoder()\n",
        "le.fit(train_labels)\n",
        "# encode wine type labels\n",
        "train_labels_enc = le.transform(train_labels)\n",
        "validation_labels_enc = le.transform(validation_labels)\n",
        "\n",
        "print(train_labels[0:5], train_labels_enc[0:5])"
      ],
      "execution_count": 9,
      "outputs": [
        {
          "output_type": "stream",
          "text": [
            "['cat', 'cat', 'cat', 'dog', 'cat'] [0 0 0 1 0]\n"
          ],
          "name": "stdout"
        }
      ]
    },
    {
      "cell_type": "code",
      "metadata": {
        "id": "Ieppy25xFE_N"
      },
      "source": [
        ""
      ],
      "execution_count": 9,
      "outputs": []
    },
    {
      "cell_type": "code",
      "metadata": {
        "id": "j0wF41XlFEu9"
      },
      "source": [
        "train_datagen = ImageDataGenerator( zoom_range=0.3, rotation_range=50,  # rescale=1./255,\r\n",
        "                                   width_shift_range=0.2, height_shift_range=0.2, shear_range=0.2, \r\n",
        "                                   horizontal_flip=True, fill_mode='nearest')\r\n",
        "\r\n",
        "val_datagen = ImageDataGenerator() # rescale=1./255\r\n",
        "\r\n",
        "train_generator = train_datagen.flow(train_imgs, train_labels_enc, batch_size=30)\r\n",
        "val_generator = val_datagen.flow(validation_imgs, validation_labels_enc, batch_size=20)"
      ],
      "execution_count": 10,
      "outputs": []
    },
    {
      "cell_type": "code",
      "metadata": {
        "id": "wDDCzCWzFEDf"
      },
      "source": [
        ""
      ],
      "execution_count": 10,
      "outputs": []
    },
    {
      "cell_type": "code",
      "metadata": {
        "id": "9fVVMivMA3jZ",
        "colab": {
          "base_uri": "https://localhost:8080/"
        },
        "outputId": "c68ee82f-6bc3-4515-8dfa-de283d4b842e"
      },
      "source": [
        "\n",
        "from tensorflow.keras.applications import vgg16\n",
        "from tensorflow.keras.models import Model\n",
        "import tensorflow.keras\n",
        "\n",
        "vgg = vgg16.VGG16(include_top=False, weights='imagenet',\n",
        "                                     input_shape=input_shape)\n",
        "\n",
        "output = vgg.layers[-1].output\n",
        "output = tensorflow.keras.layers.Flatten()(output)\n",
        "\n",
        "vgg_model = Model(vgg.input, output)\n",
        "vgg_model.trainable = False\n",
        "\n",
        "for layer in vgg_model.layers:\n",
        "    layer.trainable = False\n",
        "\n",
        "vgg_model.summary()\n"
      ],
      "execution_count": 11,
      "outputs": [
        {
          "output_type": "stream",
          "text": [
            "Downloading data from https://storage.googleapis.com/tensorflow/keras-applications/vgg16/vgg16_weights_tf_dim_ordering_tf_kernels_notop.h5\n",
            "58892288/58889256 [==============================] - 1s 0us/step\n",
            "Model: \"model\"\n",
            "_________________________________________________________________\n",
            "Layer (type)                 Output Shape              Param #   \n",
            "=================================================================\n",
            "input_1 (InputLayer)         [(None, 150, 150, 3)]     0         \n",
            "_________________________________________________________________\n",
            "block1_conv1 (Conv2D)        (None, 150, 150, 64)      1792      \n",
            "_________________________________________________________________\n",
            "block1_conv2 (Conv2D)        (None, 150, 150, 64)      36928     \n",
            "_________________________________________________________________\n",
            "block1_pool (MaxPooling2D)   (None, 75, 75, 64)        0         \n",
            "_________________________________________________________________\n",
            "block2_conv1 (Conv2D)        (None, 75, 75, 128)       73856     \n",
            "_________________________________________________________________\n",
            "block2_conv2 (Conv2D)        (None, 75, 75, 128)       147584    \n",
            "_________________________________________________________________\n",
            "block2_pool (MaxPooling2D)   (None, 37, 37, 128)       0         \n",
            "_________________________________________________________________\n",
            "block3_conv1 (Conv2D)        (None, 37, 37, 256)       295168    \n",
            "_________________________________________________________________\n",
            "block3_conv2 (Conv2D)        (None, 37, 37, 256)       590080    \n",
            "_________________________________________________________________\n",
            "block3_conv3 (Conv2D)        (None, 37, 37, 256)       590080    \n",
            "_________________________________________________________________\n",
            "block3_pool (MaxPooling2D)   (None, 18, 18, 256)       0         \n",
            "_________________________________________________________________\n",
            "block4_conv1 (Conv2D)        (None, 18, 18, 512)       1180160   \n",
            "_________________________________________________________________\n",
            "block4_conv2 (Conv2D)        (None, 18, 18, 512)       2359808   \n",
            "_________________________________________________________________\n",
            "block4_conv3 (Conv2D)        (None, 18, 18, 512)       2359808   \n",
            "_________________________________________________________________\n",
            "block4_pool (MaxPooling2D)   (None, 9, 9, 512)         0         \n",
            "_________________________________________________________________\n",
            "block5_conv1 (Conv2D)        (None, 9, 9, 512)         2359808   \n",
            "_________________________________________________________________\n",
            "block5_conv2 (Conv2D)        (None, 9, 9, 512)         2359808   \n",
            "_________________________________________________________________\n",
            "block5_conv3 (Conv2D)        (None, 9, 9, 512)         2359808   \n",
            "_________________________________________________________________\n",
            "block5_pool (MaxPooling2D)   (None, 4, 4, 512)         0         \n",
            "_________________________________________________________________\n",
            "flatten (Flatten)            (None, 8192)              0         \n",
            "=================================================================\n",
            "Total params: 14,714,688\n",
            "Trainable params: 0\n",
            "Non-trainable params: 14,714,688\n",
            "_________________________________________________________________\n"
          ],
          "name": "stdout"
        }
      ]
    },
    {
      "cell_type": "code",
      "metadata": {
        "id": "T9SDjC3EA3jZ",
        "colab": {
          "base_uri": "https://localhost:8080/",
          "height": 1000
        },
        "outputId": "dbcdbeaf-d071-41b2-c950-ce9415c53796"
      },
      "source": [
        "import pandas as pd\n",
        "pd.set_option('max_colwidth', -1)\n",
        "\n",
        "layers = [(layer, layer.name, layer.trainable) for layer in vgg_model.layers]\n",
        "pd.DataFrame(layers, columns=['Layer Type', 'Layer Name', 'Layer Trainable'])"
      ],
      "execution_count": 12,
      "outputs": [
        {
          "output_type": "stream",
          "text": [
            "/usr/local/lib/python3.6/dist-packages/ipykernel_launcher.py:2: FutureWarning: Passing a negative integer is deprecated in version 1.0 and will not be supported in future version. Instead, use None to not limit the column width.\n",
            "  \n"
          ],
          "name": "stderr"
        },
        {
          "output_type": "execute_result",
          "data": {
            "text/html": [
              "<div>\n",
              "<style scoped>\n",
              "    .dataframe tbody tr th:only-of-type {\n",
              "        vertical-align: middle;\n",
              "    }\n",
              "\n",
              "    .dataframe tbody tr th {\n",
              "        vertical-align: top;\n",
              "    }\n",
              "\n",
              "    .dataframe thead th {\n",
              "        text-align: right;\n",
              "    }\n",
              "</style>\n",
              "<table border=\"1\" class=\"dataframe\">\n",
              "  <thead>\n",
              "    <tr style=\"text-align: right;\">\n",
              "      <th></th>\n",
              "      <th>Layer Type</th>\n",
              "      <th>Layer Name</th>\n",
              "      <th>Layer Trainable</th>\n",
              "    </tr>\n",
              "  </thead>\n",
              "  <tbody>\n",
              "    <tr>\n",
              "      <th>0</th>\n",
              "      <td>&lt;tensorflow.python.keras.engine.input_layer.InputLayer object at 0x7f5d2e8fa7b8&gt;</td>\n",
              "      <td>input_1</td>\n",
              "      <td>False</td>\n",
              "    </tr>\n",
              "    <tr>\n",
              "      <th>1</th>\n",
              "      <td>&lt;tensorflow.python.keras.layers.convolutional.Conv2D object at 0x7f5d2e931f28&gt;</td>\n",
              "      <td>block1_conv1</td>\n",
              "      <td>False</td>\n",
              "    </tr>\n",
              "    <tr>\n",
              "      <th>2</th>\n",
              "      <td>&lt;tensorflow.python.keras.layers.convolutional.Conv2D object at 0x7f5d2e8def60&gt;</td>\n",
              "      <td>block1_conv2</td>\n",
              "      <td>False</td>\n",
              "    </tr>\n",
              "    <tr>\n",
              "      <th>3</th>\n",
              "      <td>&lt;tensorflow.python.keras.layers.pooling.MaxPooling2D object at 0x7f5d2003f2e8&gt;</td>\n",
              "      <td>block1_pool</td>\n",
              "      <td>False</td>\n",
              "    </tr>\n",
              "    <tr>\n",
              "      <th>4</th>\n",
              "      <td>&lt;tensorflow.python.keras.layers.convolutional.Conv2D object at 0x7f5d20043390&gt;</td>\n",
              "      <td>block2_conv1</td>\n",
              "      <td>False</td>\n",
              "    </tr>\n",
              "    <tr>\n",
              "      <th>5</th>\n",
              "      <td>&lt;tensorflow.python.keras.layers.convolutional.Conv2D object at 0x7f5d2003fb00&gt;</td>\n",
              "      <td>block2_conv2</td>\n",
              "      <td>False</td>\n",
              "    </tr>\n",
              "    <tr>\n",
              "      <th>6</th>\n",
              "      <td>&lt;tensorflow.python.keras.layers.pooling.MaxPooling2D object at 0x7f5d2004b6d8&gt;</td>\n",
              "      <td>block2_pool</td>\n",
              "      <td>False</td>\n",
              "    </tr>\n",
              "    <tr>\n",
              "      <th>7</th>\n",
              "      <td>&lt;tensorflow.python.keras.layers.convolutional.Conv2D object at 0x7f5d2004e630&gt;</td>\n",
              "      <td>block3_conv1</td>\n",
              "      <td>False</td>\n",
              "    </tr>\n",
              "    <tr>\n",
              "      <th>8</th>\n",
              "      <td>&lt;tensorflow.python.keras.layers.convolutional.Conv2D object at 0x7f5d2004e208&gt;</td>\n",
              "      <td>block3_conv2</td>\n",
              "      <td>False</td>\n",
              "    </tr>\n",
              "    <tr>\n",
              "      <th>9</th>\n",
              "      <td>&lt;tensorflow.python.keras.layers.convolutional.Conv2D object at 0x7f5d20058ac8&gt;</td>\n",
              "      <td>block3_conv3</td>\n",
              "      <td>False</td>\n",
              "    </tr>\n",
              "    <tr>\n",
              "      <th>10</th>\n",
              "      <td>&lt;tensorflow.python.keras.layers.pooling.MaxPooling2D object at 0x7f5d20060e10&gt;</td>\n",
              "      <td>block3_pool</td>\n",
              "      <td>False</td>\n",
              "    </tr>\n",
              "    <tr>\n",
              "      <th>11</th>\n",
              "      <td>&lt;tensorflow.python.keras.layers.convolutional.Conv2D object at 0x7f5d20067f60&gt;</td>\n",
              "      <td>block4_conv1</td>\n",
              "      <td>False</td>\n",
              "    </tr>\n",
              "    <tr>\n",
              "      <th>12</th>\n",
              "      <td>&lt;tensorflow.python.keras.layers.convolutional.Conv2D object at 0x7f5d20067278&gt;</td>\n",
              "      <td>block4_conv2</td>\n",
              "      <td>False</td>\n",
              "    </tr>\n",
              "    <tr>\n",
              "      <th>13</th>\n",
              "      <td>&lt;tensorflow.python.keras.layers.convolutional.Conv2D object at 0x7f5d2006e860&gt;</td>\n",
              "      <td>block4_conv3</td>\n",
              "      <td>False</td>\n",
              "    </tr>\n",
              "    <tr>\n",
              "      <th>14</th>\n",
              "      <td>&lt;tensorflow.python.keras.layers.pooling.MaxPooling2D object at 0x7f5cd6624518&gt;</td>\n",
              "      <td>block4_pool</td>\n",
              "      <td>False</td>\n",
              "    </tr>\n",
              "    <tr>\n",
              "      <th>15</th>\n",
              "      <td>&lt;tensorflow.python.keras.layers.convolutional.Conv2D object at 0x7f5cd6624710&gt;</td>\n",
              "      <td>block5_conv1</td>\n",
              "      <td>False</td>\n",
              "    </tr>\n",
              "    <tr>\n",
              "      <th>16</th>\n",
              "      <td>&lt;tensorflow.python.keras.layers.convolutional.Conv2D object at 0x7f5cd66296a0&gt;</td>\n",
              "      <td>block5_conv2</td>\n",
              "      <td>False</td>\n",
              "    </tr>\n",
              "    <tr>\n",
              "      <th>17</th>\n",
              "      <td>&lt;tensorflow.python.keras.layers.convolutional.Conv2D object at 0x7f5cd6630a58&gt;</td>\n",
              "      <td>block5_conv3</td>\n",
              "      <td>False</td>\n",
              "    </tr>\n",
              "    <tr>\n",
              "      <th>18</th>\n",
              "      <td>&lt;tensorflow.python.keras.layers.pooling.MaxPooling2D object at 0x7f5cd6636208&gt;</td>\n",
              "      <td>block5_pool</td>\n",
              "      <td>False</td>\n",
              "    </tr>\n",
              "    <tr>\n",
              "      <th>19</th>\n",
              "      <td>&lt;tensorflow.python.keras.layers.core.Flatten object at 0x7f5cd6630470&gt;</td>\n",
              "      <td>flatten</td>\n",
              "      <td>False</td>\n",
              "    </tr>\n",
              "  </tbody>\n",
              "</table>\n",
              "</div>"
            ],
            "text/plain": [
              "                                                                          Layer Type  ... Layer Trainable\n",
              "0   <tensorflow.python.keras.engine.input_layer.InputLayer object at 0x7f5d2e8fa7b8>  ...  False         \n",
              "1   <tensorflow.python.keras.layers.convolutional.Conv2D object at 0x7f5d2e931f28>    ...  False         \n",
              "2   <tensorflow.python.keras.layers.convolutional.Conv2D object at 0x7f5d2e8def60>    ...  False         \n",
              "3   <tensorflow.python.keras.layers.pooling.MaxPooling2D object at 0x7f5d2003f2e8>    ...  False         \n",
              "4   <tensorflow.python.keras.layers.convolutional.Conv2D object at 0x7f5d20043390>    ...  False         \n",
              "5   <tensorflow.python.keras.layers.convolutional.Conv2D object at 0x7f5d2003fb00>    ...  False         \n",
              "6   <tensorflow.python.keras.layers.pooling.MaxPooling2D object at 0x7f5d2004b6d8>    ...  False         \n",
              "7   <tensorflow.python.keras.layers.convolutional.Conv2D object at 0x7f5d2004e630>    ...  False         \n",
              "8   <tensorflow.python.keras.layers.convolutional.Conv2D object at 0x7f5d2004e208>    ...  False         \n",
              "9   <tensorflow.python.keras.layers.convolutional.Conv2D object at 0x7f5d20058ac8>    ...  False         \n",
              "10  <tensorflow.python.keras.layers.pooling.MaxPooling2D object at 0x7f5d20060e10>    ...  False         \n",
              "11  <tensorflow.python.keras.layers.convolutional.Conv2D object at 0x7f5d20067f60>    ...  False         \n",
              "12  <tensorflow.python.keras.layers.convolutional.Conv2D object at 0x7f5d20067278>    ...  False         \n",
              "13  <tensorflow.python.keras.layers.convolutional.Conv2D object at 0x7f5d2006e860>    ...  False         \n",
              "14  <tensorflow.python.keras.layers.pooling.MaxPooling2D object at 0x7f5cd6624518>    ...  False         \n",
              "15  <tensorflow.python.keras.layers.convolutional.Conv2D object at 0x7f5cd6624710>    ...  False         \n",
              "16  <tensorflow.python.keras.layers.convolutional.Conv2D object at 0x7f5cd66296a0>    ...  False         \n",
              "17  <tensorflow.python.keras.layers.convolutional.Conv2D object at 0x7f5cd6630a58>    ...  False         \n",
              "18  <tensorflow.python.keras.layers.pooling.MaxPooling2D object at 0x7f5cd6636208>    ...  False         \n",
              "19  <tensorflow.python.keras.layers.core.Flatten object at 0x7f5cd6630470>            ...  False         \n",
              "\n",
              "[20 rows x 3 columns]"
            ]
          },
          "metadata": {
            "tags": []
          },
          "execution_count": 12
        }
      ]
    },
    {
      "cell_type": "code",
      "metadata": {
        "id": "OvJvrtrgA3ja",
        "colab": {
          "base_uri": "https://localhost:8080/"
        },
        "outputId": "df16b05e-4db2-4f31-d04b-44985deee836"
      },
      "source": [
        "print(\"Trainable layers:\", vgg_model.trainable_weights)"
      ],
      "execution_count": 13,
      "outputs": [
        {
          "output_type": "stream",
          "text": [
            "Trainable layers: []\n"
          ],
          "name": "stdout"
        }
      ]
    },
    {
      "cell_type": "code",
      "metadata": {
        "id": "J_Zbyst4A3ja",
        "colab": {
          "base_uri": "https://localhost:8080/",
          "height": 304
        },
        "outputId": "45422189-199e-4f22-90c8-944e6f963c2c"
      },
      "source": [
        "bottleneck_feature_example = vgg.predict(train_imgs_scaled[0:1])\n",
        "print(bottleneck_feature_example.shape)\n",
        "plt.imshow(bottleneck_feature_example[0][:,:,0])"
      ],
      "execution_count": 14,
      "outputs": [
        {
          "output_type": "stream",
          "text": [
            "(1, 4, 4, 512)\n"
          ],
          "name": "stdout"
        },
        {
          "output_type": "execute_result",
          "data": {
            "text/plain": [
              "<matplotlib.image.AxesImage at 0x7f5cd605f358>"
            ]
          },
          "metadata": {
            "tags": []
          },
          "execution_count": 14
        },
        {
          "output_type": "display_data",
          "data": {
            "image/png": "[encoded data removed]",
            "text/plain": [
              "<Figure size 432x288 with 1 Axes>"
            ]
          },
          "metadata": {
            "tags": [],
            "needs_background": "light"
          }
        }
      ]
    },
    {
      "cell_type": "code",
      "metadata": {
        "id": "_8LY2OOaA3jb"
      },
      "source": [
        "def get_bottleneck_features(model, input_imgs):\n",
        "    \n",
        "    features = model.predict(input_imgs, verbose=0)\n",
        "    return features"
      ],
      "execution_count": 15,
      "outputs": []
    },
    {
      "cell_type": "code",
      "metadata": {
        "id": "8sekjWocA3jb",
        "colab": {
          "base_uri": "https://localhost:8080/"
        },
        "outputId": "d37472e3-a335-4be7-e870-ad050ea2a4a1"
      },
      "source": [
        "train_features_vgg = get_bottleneck_features(vgg_model, train_imgs_scaled)\n",
        "validation_features_vgg = get_bottleneck_features(vgg_model, validation_imgs_scaled)\n",
        "\n",
        "print('Train Bottleneck Features:', train_features_vgg.shape, \n",
        "      '\\tValidation Bottleneck Features:', validation_features_vgg.shape)"
      ],
      "execution_count": 16,
      "outputs": [
        {
          "output_type": "stream",
          "text": [
            "Train Bottleneck Features: (3000, 8192) \tValidation Bottleneck Features: (1000, 8192)\n"
          ],
          "name": "stdout"
        }
      ]
    },
    {
      "cell_type": "code",
      "metadata": {
        "id": "qyFijnDhGBjn",
        "colab": {
          "base_uri": "https://localhost:8080/"
        },
        "outputId": "d2eddbf7-d8b0-45a4-8a64-a52d913fba5c"
      },
      "source": [
        "from tensorflow.keras.layers import Conv2D, MaxPooling2D, Flatten, Dense, Dropout, InputLayer\r\n",
        "from tensorflow.keras.models import Sequential\r\n",
        "from tensorflow.keras import optimizers\r\n",
        "\r\n",
        "model = Sequential()\r\n",
        "model.add(vgg_model)\r\n",
        "model.add(Dense(512, activation='relu', input_dim=input_shape))\r\n",
        "model.add(Dropout(0.3))\r\n",
        "model.add(Dense(64, activation='relu'))\r\n",
        "model.add(Dropout(0.3))\r\n",
        "model.add(Dense(1, activation='sigmoid'))\r\n",
        "\r\n",
        "model.compile(loss='binary_crossentropy',\r\n",
        "              optimizer=optimizers.RMSprop(lr=2e-5),\r\n",
        "              metrics=['accuracy'])\r\n",
        "\r\n",
        "model.summary()"
      ],
      "execution_count": 17,
      "outputs": [
        {
          "output_type": "stream",
          "text": [
            "Model: \"sequential\"\n",
            "_________________________________________________________________\n",
            "Layer (type)                 Output Shape              Param #   \n",
            "=================================================================\n",
            "model (Functional)           (None, 8192)              14714688  \n",
            "_________________________________________________________________\n",
            "dense (Dense)                (None, 512)               4194816   \n",
            "_________________________________________________________________\n",
            "dropout (Dropout)            (None, 512)               0         \n",
            "_________________________________________________________________\n",
            "dense_1 (Dense)              (None, 64)                32832     \n",
            "_________________________________________________________________\n",
            "dropout_1 (Dropout)          (None, 64)                0         \n",
            "_________________________________________________________________\n",
            "dense_2 (Dense)              (None, 1)                 65        \n",
            "=================================================================\n",
            "Total params: 18,942,401\n",
            "Trainable params: 4,227,713\n",
            "Non-trainable params: 14,714,688\n",
            "_________________________________________________________________\n"
          ],
          "name": "stdout"
        }
      ]
    },
    {
      "cell_type": "code",
      "metadata": {
        "id": "oXhFf4HLA3jc",
        "colab": {
          "base_uri": "https://localhost:8080/"
        },
        "outputId": "9afbb3c1-3ad6-4b63-db3c-751c3313baef"
      },
      "source": [
        "history = model.fit_generator(train_generator,  epochs=epochs,\r\n",
        "                              validation_data=val_generator,  verbose=1)"
      ],
      "execution_count": 18,
      "outputs": [
        {
          "output_type": "stream",
          "text": [
            "Epoch 1/150\n"
          ],
          "name": "stdout"
        },
        {
          "output_type": "stream",
          "text": [
            "/usr/local/lib/python3.6/dist-packages/tensorflow/python/keras/engine/training.py:1844: UserWarning: `Model.fit_generator` is deprecated and will be removed in a future version. Please use `Model.fit`, which supports generators.\n",
            "  warnings.warn('`Model.fit_generator` is deprecated and '\n"
          ],
          "name": "stderr"
        },
        {
          "output_type": "stream",
          "text": [
            "100/100 [==============================] - 21s 191ms/step - loss: 6.4394 - accuracy: 0.5464 - val_loss: 1.2286 - val_accuracy: 0.8300\n",
            "Epoch 2/150\n",
            "100/100 [==============================] - 18s 184ms/step - loss: 2.4758 - accuracy: 0.7017 - val_loss: 0.7403 - val_accuracy: 0.8520\n",
            "Epoch 3/150\n",
            "100/100 [==============================] - 18s 185ms/step - loss: 1.8395 - accuracy: 0.7130 - val_loss: 0.4784 - val_accuracy: 0.8660\n",
            "Epoch 4/150\n",
            "100/100 [==============================] - 18s 184ms/step - loss: 1.2455 - accuracy: 0.7453 - val_loss: 0.3925 - val_accuracy: 0.8800\n",
            "Epoch 5/150\n",
            "100/100 [==============================] - 19s 185ms/step - loss: 1.1136 - accuracy: 0.7601 - val_loss: 0.3534 - val_accuracy: 0.8810\n",
            "Epoch 6/150\n",
            "100/100 [==============================] - 18s 182ms/step - loss: 1.0190 - accuracy: 0.7515 - val_loss: 0.2992 - val_accuracy: 0.8950\n",
            "Epoch 7/150\n",
            "100/100 [==============================] - 18s 183ms/step - loss: 0.9064 - accuracy: 0.7720 - val_loss: 0.2714 - val_accuracy: 0.8920\n",
            "Epoch 8/150\n",
            "100/100 [==============================] - 18s 182ms/step - loss: 0.7027 - accuracy: 0.7693 - val_loss: 0.2426 - val_accuracy: 0.9030\n",
            "Epoch 9/150\n",
            "100/100 [==============================] - 18s 182ms/step - loss: 0.6008 - accuracy: 0.7939 - val_loss: 0.2411 - val_accuracy: 0.8940\n",
            "Epoch 10/150\n",
            "100/100 [==============================] - 18s 183ms/step - loss: 0.5747 - accuracy: 0.7898 - val_loss: 0.2454 - val_accuracy: 0.8880\n",
            "Epoch 11/150\n",
            "100/100 [==============================] - 18s 183ms/step - loss: 0.6525 - accuracy: 0.7807 - val_loss: 0.2265 - val_accuracy: 0.9060\n",
            "Epoch 12/150\n",
            "100/100 [==============================] - 18s 183ms/step - loss: 0.5578 - accuracy: 0.8093 - val_loss: 0.2113 - val_accuracy: 0.9080\n",
            "Epoch 13/150\n",
            "100/100 [==============================] - 18s 183ms/step - loss: 0.5574 - accuracy: 0.8076 - val_loss: 0.2148 - val_accuracy: 0.9050\n",
            "Epoch 14/150\n",
            "100/100 [==============================] - 18s 183ms/step - loss: 0.4817 - accuracy: 0.8353 - val_loss: 0.2078 - val_accuracy: 0.9130\n",
            "Epoch 15/150\n",
            "100/100 [==============================] - 18s 182ms/step - loss: 0.5293 - accuracy: 0.8229 - val_loss: 0.2010 - val_accuracy: 0.9100\n",
            "Epoch 16/150\n",
            "100/100 [==============================] - 18s 184ms/step - loss: 0.4431 - accuracy: 0.8410 - val_loss: 0.2050 - val_accuracy: 0.9170\n",
            "Epoch 17/150\n",
            "100/100 [==============================] - 18s 182ms/step - loss: 0.4658 - accuracy: 0.8251 - val_loss: 0.2038 - val_accuracy: 0.9140\n",
            "Epoch 18/150\n",
            "100/100 [==============================] - 18s 182ms/step - loss: 0.4858 - accuracy: 0.8270 - val_loss: 0.1977 - val_accuracy: 0.9110\n",
            "Epoch 19/150\n",
            "100/100 [==============================] - 18s 184ms/step - loss: 0.4160 - accuracy: 0.8255 - val_loss: 0.1944 - val_accuracy: 0.9100\n",
            "Epoch 20/150\n",
            "100/100 [==============================] - 18s 184ms/step - loss: 0.3944 - accuracy: 0.8529 - val_loss: 0.2018 - val_accuracy: 0.9100\n",
            "Epoch 21/150\n",
            "100/100 [==============================] - 18s 182ms/step - loss: 0.4455 - accuracy: 0.8409 - val_loss: 0.1971 - val_accuracy: 0.9140\n",
            "Epoch 22/150\n",
            "100/100 [==============================] - 18s 182ms/step - loss: 0.3801 - accuracy: 0.8607 - val_loss: 0.2002 - val_accuracy: 0.9130\n",
            "Epoch 23/150\n",
            "100/100 [==============================] - 18s 182ms/step - loss: 0.4046 - accuracy: 0.8603 - val_loss: 0.1958 - val_accuracy: 0.9170\n",
            "Epoch 24/150\n",
            "100/100 [==============================] - 18s 184ms/step - loss: 0.3622 - accuracy: 0.8587 - val_loss: 0.1933 - val_accuracy: 0.9190\n",
            "Epoch 25/150\n",
            "100/100 [==============================] - 18s 185ms/step - loss: 0.3888 - accuracy: 0.8505 - val_loss: 0.1939 - val_accuracy: 0.9240\n",
            "Epoch 26/150\n",
            "100/100 [==============================] - 18s 182ms/step - loss: 0.4342 - accuracy: 0.8579 - val_loss: 0.1903 - val_accuracy: 0.9180\n",
            "Epoch 27/150\n",
            "100/100 [==============================] - 18s 182ms/step - loss: 0.3599 - accuracy: 0.8523 - val_loss: 0.1825 - val_accuracy: 0.9250\n",
            "Epoch 28/150\n",
            "100/100 [==============================] - 18s 182ms/step - loss: 0.3510 - accuracy: 0.8694 - val_loss: 0.1807 - val_accuracy: 0.9240\n",
            "Epoch 29/150\n",
            "100/100 [==============================] - 18s 183ms/step - loss: 0.3466 - accuracy: 0.8534 - val_loss: 0.1806 - val_accuracy: 0.9290\n",
            "Epoch 30/150\n",
            "100/100 [==============================] - 18s 183ms/step - loss: 0.4519 - accuracy: 0.8567 - val_loss: 0.1833 - val_accuracy: 0.9240\n",
            "Epoch 31/150\n",
            "100/100 [==============================] - 18s 182ms/step - loss: 0.3799 - accuracy: 0.8626 - val_loss: 0.1831 - val_accuracy: 0.9270\n",
            "Epoch 32/150\n",
            "100/100 [==============================] - 18s 182ms/step - loss: 0.4059 - accuracy: 0.8496 - val_loss: 0.1829 - val_accuracy: 0.9270\n",
            "Epoch 33/150\n",
            "100/100 [==============================] - 18s 183ms/step - loss: 0.3691 - accuracy: 0.8620 - val_loss: 0.1862 - val_accuracy: 0.9250\n",
            "Epoch 34/150\n",
            "100/100 [==============================] - 18s 183ms/step - loss: 0.3772 - accuracy: 0.8620 - val_loss: 0.1747 - val_accuracy: 0.9300\n",
            "Epoch 35/150\n",
            "100/100 [==============================] - 18s 183ms/step - loss: 0.3648 - accuracy: 0.8538 - val_loss: 0.1769 - val_accuracy: 0.9300\n",
            "Epoch 36/150\n",
            "100/100 [==============================] - 18s 182ms/step - loss: 0.3883 - accuracy: 0.8515 - val_loss: 0.1750 - val_accuracy: 0.9330\n",
            "Epoch 37/150\n",
            "100/100 [==============================] - 18s 183ms/step - loss: 0.3617 - accuracy: 0.8714 - val_loss: 0.1729 - val_accuracy: 0.9370\n",
            "Epoch 38/150\n",
            "100/100 [==============================] - 18s 183ms/step - loss: 0.3516 - accuracy: 0.8631 - val_loss: 0.1839 - val_accuracy: 0.9270\n",
            "Epoch 39/150\n",
            "100/100 [==============================] - 18s 183ms/step - loss: 0.3867 - accuracy: 0.8520 - val_loss: 0.1752 - val_accuracy: 0.9360\n",
            "Epoch 40/150\n",
            "100/100 [==============================] - 18s 183ms/step - loss: 0.3616 - accuracy: 0.8625 - val_loss: 0.1675 - val_accuracy: 0.9400\n",
            "Epoch 41/150\n",
            "100/100 [==============================] - 18s 181ms/step - loss: 0.2915 - accuracy: 0.8805 - val_loss: 0.1727 - val_accuracy: 0.9380\n",
            "Epoch 42/150\n",
            "100/100 [==============================] - 18s 182ms/step - loss: 0.3319 - accuracy: 0.8601 - val_loss: 0.1708 - val_accuracy: 0.9400\n",
            "Epoch 43/150\n",
            "100/100 [==============================] - 18s 182ms/step - loss: 0.3839 - accuracy: 0.8640 - val_loss: 0.1678 - val_accuracy: 0.9410\n",
            "Epoch 44/150\n",
            "100/100 [==============================] - 18s 182ms/step - loss: 0.3192 - accuracy: 0.8755 - val_loss: 0.1670 - val_accuracy: 0.9370\n",
            "Epoch 45/150\n",
            "100/100 [==============================] - 18s 182ms/step - loss: 0.3150 - accuracy: 0.8710 - val_loss: 0.1725 - val_accuracy: 0.9360\n",
            "Epoch 46/150\n",
            "100/100 [==============================] - 18s 183ms/step - loss: 0.3429 - accuracy: 0.8793 - val_loss: 0.1717 - val_accuracy: 0.9390\n",
            "Epoch 47/150\n",
            "100/100 [==============================] - 19s 185ms/step - loss: 0.3238 - accuracy: 0.8771 - val_loss: 0.1667 - val_accuracy: 0.9410\n",
            "Epoch 48/150\n",
            "100/100 [==============================] - 18s 182ms/step - loss: 0.3272 - accuracy: 0.8786 - val_loss: 0.1774 - val_accuracy: 0.9400\n",
            "Epoch 49/150\n",
            "100/100 [==============================] - 18s 182ms/step - loss: 0.3527 - accuracy: 0.8694 - val_loss: 0.1670 - val_accuracy: 0.9400\n",
            "Epoch 50/150\n",
            "100/100 [==============================] - 18s 183ms/step - loss: 0.3225 - accuracy: 0.8796 - val_loss: 0.1711 - val_accuracy: 0.9400\n",
            "Epoch 51/150\n",
            "100/100 [==============================] - 18s 183ms/step - loss: 0.3121 - accuracy: 0.8810 - val_loss: 0.1667 - val_accuracy: 0.9420\n",
            "Epoch 52/150\n",
            "100/100 [==============================] - 18s 183ms/step - loss: 0.2880 - accuracy: 0.8831 - val_loss: 0.1735 - val_accuracy: 0.9390\n",
            "Epoch 53/150\n",
            "100/100 [==============================] - 18s 182ms/step - loss: 0.3644 - accuracy: 0.8678 - val_loss: 0.1694 - val_accuracy: 0.9400\n",
            "Epoch 54/150\n",
            "100/100 [==============================] - 18s 182ms/step - loss: 0.3483 - accuracy: 0.8738 - val_loss: 0.1724 - val_accuracy: 0.9410\n",
            "Epoch 55/150\n",
            "100/100 [==============================] - 18s 183ms/step - loss: 0.3233 - accuracy: 0.8832 - val_loss: 0.1699 - val_accuracy: 0.9420\n",
            "Epoch 56/150\n",
            "100/100 [==============================] - 18s 183ms/step - loss: 0.3091 - accuracy: 0.8855 - val_loss: 0.1715 - val_accuracy: 0.9430\n",
            "Epoch 57/150\n",
            "100/100 [==============================] - 18s 182ms/step - loss: 0.2963 - accuracy: 0.8793 - val_loss: 0.1694 - val_accuracy: 0.9430\n",
            "Epoch 58/150\n",
            "100/100 [==============================] - 18s 181ms/step - loss: 0.3427 - accuracy: 0.8820 - val_loss: 0.1694 - val_accuracy: 0.9420\n",
            "Epoch 59/150\n",
            "100/100 [==============================] - 18s 182ms/step - loss: 0.3106 - accuracy: 0.8824 - val_loss: 0.1770 - val_accuracy: 0.9430\n",
            "Epoch 60/150\n",
            "100/100 [==============================] - 18s 183ms/step - loss: 0.2928 - accuracy: 0.8904 - val_loss: 0.1852 - val_accuracy: 0.9420\n",
            "Epoch 61/150\n",
            "100/100 [==============================] - 18s 181ms/step - loss: 0.2936 - accuracy: 0.8824 - val_loss: 0.1921 - val_accuracy: 0.9370\n",
            "Epoch 62/150\n",
            "100/100 [==============================] - 18s 182ms/step - loss: 0.3405 - accuracy: 0.8742 - val_loss: 0.1870 - val_accuracy: 0.9430\n",
            "Epoch 63/150\n",
            "100/100 [==============================] - 18s 182ms/step - loss: 0.3372 - accuracy: 0.8757 - val_loss: 0.1847 - val_accuracy: 0.9400\n",
            "Epoch 64/150\n",
            "100/100 [==============================] - 18s 183ms/step - loss: 0.3507 - accuracy: 0.8770 - val_loss: 0.1894 - val_accuracy: 0.9390\n",
            "Epoch 65/150\n",
            "100/100 [==============================] - 18s 182ms/step - loss: 0.3319 - accuracy: 0.8819 - val_loss: 0.1765 - val_accuracy: 0.9380\n",
            "Epoch 66/150\n",
            "100/100 [==============================] - 18s 182ms/step - loss: 0.3232 - accuracy: 0.8856 - val_loss: 0.1799 - val_accuracy: 0.9370\n",
            "Epoch 67/150\n",
            "100/100 [==============================] - 18s 182ms/step - loss: 0.3066 - accuracy: 0.8881 - val_loss: 0.1772 - val_accuracy: 0.9400\n",
            "Epoch 68/150\n",
            "100/100 [==============================] - 18s 182ms/step - loss: 0.2871 - accuracy: 0.8844 - val_loss: 0.1909 - val_accuracy: 0.9400\n",
            "Epoch 69/150\n",
            "100/100 [==============================] - 18s 183ms/step - loss: 0.3059 - accuracy: 0.8999 - val_loss: 0.2007 - val_accuracy: 0.9400\n",
            "Epoch 70/150\n",
            "100/100 [==============================] - 18s 181ms/step - loss: 0.2907 - accuracy: 0.8907 - val_loss: 0.1893 - val_accuracy: 0.9400\n",
            "Epoch 71/150\n",
            "100/100 [==============================] - 18s 181ms/step - loss: 0.2904 - accuracy: 0.8943 - val_loss: 0.1892 - val_accuracy: 0.9400\n",
            "Epoch 72/150\n",
            "100/100 [==============================] - 18s 182ms/step - loss: 0.2654 - accuracy: 0.9068 - val_loss: 0.1799 - val_accuracy: 0.9440\n",
            "Epoch 73/150\n",
            "100/100 [==============================] - 18s 182ms/step - loss: 0.2849 - accuracy: 0.8952 - val_loss: 0.1794 - val_accuracy: 0.9420\n",
            "Epoch 74/150\n",
            "100/100 [==============================] - 18s 182ms/step - loss: 0.3555 - accuracy: 0.8942 - val_loss: 0.1765 - val_accuracy: 0.9450\n",
            "Epoch 75/150\n",
            "100/100 [==============================] - 18s 182ms/step - loss: 0.2773 - accuracy: 0.9045 - val_loss: 0.1867 - val_accuracy: 0.9430\n",
            "Epoch 76/150\n",
            "100/100 [==============================] - 18s 181ms/step - loss: 0.3087 - accuracy: 0.8810 - val_loss: 0.1867 - val_accuracy: 0.9420\n",
            "Epoch 77/150\n",
            "100/100 [==============================] - 18s 182ms/step - loss: 0.3575 - accuracy: 0.8866 - val_loss: 0.1850 - val_accuracy: 0.9420\n",
            "Epoch 78/150\n",
            "100/100 [==============================] - 18s 183ms/step - loss: 0.3019 - accuracy: 0.8930 - val_loss: 0.1806 - val_accuracy: 0.9450\n",
            "Epoch 79/150\n",
            "100/100 [==============================] - 18s 181ms/step - loss: 0.3498 - accuracy: 0.8755 - val_loss: 0.1736 - val_accuracy: 0.9460\n",
            "Epoch 80/150\n",
            "100/100 [==============================] - 18s 181ms/step - loss: 0.3005 - accuracy: 0.8852 - val_loss: 0.1721 - val_accuracy: 0.9470\n",
            "Epoch 81/150\n",
            "100/100 [==============================] - 18s 183ms/step - loss: 0.3036 - accuracy: 0.8866 - val_loss: 0.1834 - val_accuracy: 0.9450\n",
            "Epoch 82/150\n",
            "100/100 [==============================] - 18s 183ms/step - loss: 0.2686 - accuracy: 0.8995 - val_loss: 0.1948 - val_accuracy: 0.9420\n",
            "Epoch 83/150\n",
            "100/100 [==============================] - 18s 184ms/step - loss: 0.2826 - accuracy: 0.8871 - val_loss: 0.1940 - val_accuracy: 0.9440\n",
            "Epoch 84/150\n",
            "100/100 [==============================] - 18s 182ms/step - loss: 0.3087 - accuracy: 0.8929 - val_loss: 0.2050 - val_accuracy: 0.9410\n",
            "Epoch 85/150\n",
            "100/100 [==============================] - 18s 183ms/step - loss: 0.3185 - accuracy: 0.8969 - val_loss: 0.1976 - val_accuracy: 0.9430\n",
            "Epoch 86/150\n",
            "100/100 [==============================] - 18s 181ms/step - loss: 0.2647 - accuracy: 0.8984 - val_loss: 0.1924 - val_accuracy: 0.9410\n",
            "Epoch 87/150\n",
            "100/100 [==============================] - 18s 183ms/step - loss: 0.2890 - accuracy: 0.8776 - val_loss: 0.1904 - val_accuracy: 0.9440\n",
            "Epoch 88/150\n",
            "100/100 [==============================] - 18s 182ms/step - loss: 0.2766 - accuracy: 0.9002 - val_loss: 0.1905 - val_accuracy: 0.9440\n",
            "Epoch 89/150\n",
            "100/100 [==============================] - 18s 181ms/step - loss: 0.3058 - accuracy: 0.8940 - val_loss: 0.2008 - val_accuracy: 0.9420\n",
            "Epoch 90/150\n",
            "100/100 [==============================] - 18s 182ms/step - loss: 0.3187 - accuracy: 0.8786 - val_loss: 0.1989 - val_accuracy: 0.9420\n",
            "Epoch 91/150\n",
            "100/100 [==============================] - 18s 183ms/step - loss: 0.2853 - accuracy: 0.8935 - val_loss: 0.1968 - val_accuracy: 0.9440\n",
            "Epoch 92/150\n",
            "100/100 [==============================] - 18s 182ms/step - loss: 0.2504 - accuracy: 0.9067 - val_loss: 0.2041 - val_accuracy: 0.9440\n",
            "Epoch 93/150\n",
            "100/100 [==============================] - 18s 182ms/step - loss: 0.2350 - accuracy: 0.9131 - val_loss: 0.2089 - val_accuracy: 0.9440\n",
            "Epoch 94/150\n",
            "100/100 [==============================] - 18s 183ms/step - loss: 0.2856 - accuracy: 0.9041 - val_loss: 0.1983 - val_accuracy: 0.9440\n",
            "Epoch 95/150\n",
            "100/100 [==============================] - 18s 183ms/step - loss: 0.2813 - accuracy: 0.9031 - val_loss: 0.2041 - val_accuracy: 0.9420\n",
            "Epoch 96/150\n",
            "100/100 [==============================] - 18s 183ms/step - loss: 0.2520 - accuracy: 0.8952 - val_loss: 0.2095 - val_accuracy: 0.9420\n",
            "Epoch 97/150\n",
            "100/100 [==============================] - 18s 182ms/step - loss: 0.3030 - accuracy: 0.9030 - val_loss: 0.2091 - val_accuracy: 0.9460\n",
            "Epoch 98/150\n",
            "100/100 [==============================] - 18s 183ms/step - loss: 0.2859 - accuracy: 0.9048 - val_loss: 0.1931 - val_accuracy: 0.9430\n",
            "Epoch 99/150\n",
            "100/100 [==============================] - 18s 182ms/step - loss: 0.2998 - accuracy: 0.9033 - val_loss: 0.1878 - val_accuracy: 0.9420\n",
            "Epoch 100/150\n",
            "100/100 [==============================] - 18s 184ms/step - loss: 0.2664 - accuracy: 0.9019 - val_loss: 0.1956 - val_accuracy: 0.9400\n",
            "Epoch 101/150\n",
            "100/100 [==============================] - 18s 182ms/step - loss: 0.2757 - accuracy: 0.8932 - val_loss: 0.1964 - val_accuracy: 0.9410\n",
            "Epoch 102/150\n",
            "100/100 [==============================] - 18s 182ms/step - loss: 0.2781 - accuracy: 0.9024 - val_loss: 0.2087 - val_accuracy: 0.9450\n",
            "Epoch 103/150\n",
            "100/100 [==============================] - 18s 183ms/step - loss: 0.2940 - accuracy: 0.8917 - val_loss: 0.2088 - val_accuracy: 0.9440\n",
            "Epoch 104/150\n",
            "100/100 [==============================] - 18s 183ms/step - loss: 0.2915 - accuracy: 0.9017 - val_loss: 0.1970 - val_accuracy: 0.9440\n",
            "Epoch 105/150\n",
            "100/100 [==============================] - 18s 181ms/step - loss: 0.2866 - accuracy: 0.8993 - val_loss: 0.1985 - val_accuracy: 0.9420\n",
            "Epoch 106/150\n",
            "100/100 [==============================] - 18s 181ms/step - loss: 0.2849 - accuracy: 0.8894 - val_loss: 0.2065 - val_accuracy: 0.9420\n",
            "Epoch 107/150\n",
            "100/100 [==============================] - 18s 182ms/step - loss: 0.2693 - accuracy: 0.8909 - val_loss: 0.2143 - val_accuracy: 0.9420\n",
            "Epoch 108/150\n",
            "100/100 [==============================] - 18s 182ms/step - loss: 0.2839 - accuracy: 0.8987 - val_loss: 0.2082 - val_accuracy: 0.9410\n",
            "Epoch 109/150\n",
            "100/100 [==============================] - 18s 181ms/step - loss: 0.2673 - accuracy: 0.9019 - val_loss: 0.1990 - val_accuracy: 0.9440\n",
            "Epoch 110/150\n",
            "100/100 [==============================] - 18s 181ms/step - loss: 0.2497 - accuracy: 0.9084 - val_loss: 0.2095 - val_accuracy: 0.9450\n",
            "Epoch 111/150\n",
            "100/100 [==============================] - 18s 181ms/step - loss: 0.2868 - accuracy: 0.8947 - val_loss: 0.1972 - val_accuracy: 0.9450\n",
            "Epoch 112/150\n",
            "100/100 [==============================] - 18s 181ms/step - loss: 0.2783 - accuracy: 0.8962 - val_loss: 0.1966 - val_accuracy: 0.9470\n",
            "Epoch 113/150\n",
            "100/100 [==============================] - 18s 182ms/step - loss: 0.2719 - accuracy: 0.8950 - val_loss: 0.2045 - val_accuracy: 0.9450\n",
            "Epoch 114/150\n",
            "100/100 [==============================] - 18s 185ms/step - loss: 0.2662 - accuracy: 0.8931 - val_loss: 0.2093 - val_accuracy: 0.9450\n",
            "Epoch 115/150\n",
            "100/100 [==============================] - 18s 183ms/step - loss: 0.2406 - accuracy: 0.9100 - val_loss: 0.2139 - val_accuracy: 0.9420\n",
            "Epoch 116/150\n",
            "100/100 [==============================] - 18s 182ms/step - loss: 0.2475 - accuracy: 0.9054 - val_loss: 0.2152 - val_accuracy: 0.9410\n",
            "Epoch 117/150\n",
            "100/100 [==============================] - 18s 182ms/step - loss: 0.3030 - accuracy: 0.9016 - val_loss: 0.2090 - val_accuracy: 0.9430\n",
            "Epoch 118/150\n",
            "100/100 [==============================] - 18s 182ms/step - loss: 0.2744 - accuracy: 0.8984 - val_loss: 0.2099 - val_accuracy: 0.9430\n",
            "Epoch 119/150\n",
            "100/100 [==============================] - 18s 181ms/step - loss: 0.3151 - accuracy: 0.8945 - val_loss: 0.1982 - val_accuracy: 0.9430\n",
            "Epoch 120/150\n",
            "100/100 [==============================] - 18s 181ms/step - loss: 0.2570 - accuracy: 0.9210 - val_loss: 0.2017 - val_accuracy: 0.9440\n",
            "Epoch 121/150\n",
            "100/100 [==============================] - 18s 182ms/step - loss: 0.2571 - accuracy: 0.9104 - val_loss: 0.2178 - val_accuracy: 0.9450\n",
            "Epoch 122/150\n",
            "100/100 [==============================] - 18s 182ms/step - loss: 0.3053 - accuracy: 0.9067 - val_loss: 0.2142 - val_accuracy: 0.9430\n",
            "Epoch 123/150\n",
            "100/100 [==============================] - 18s 183ms/step - loss: 0.2784 - accuracy: 0.8938 - val_loss: 0.2228 - val_accuracy: 0.9420\n",
            "Epoch 124/150\n",
            "100/100 [==============================] - 18s 180ms/step - loss: 0.2878 - accuracy: 0.9040 - val_loss: 0.2273 - val_accuracy: 0.9460\n",
            "Epoch 125/150\n",
            "100/100 [==============================] - 18s 180ms/step - loss: 0.2306 - accuracy: 0.9208 - val_loss: 0.2224 - val_accuracy: 0.9450\n",
            "Epoch 126/150\n",
            "100/100 [==============================] - 18s 183ms/step - loss: 0.2797 - accuracy: 0.8981 - val_loss: 0.2193 - val_accuracy: 0.9440\n",
            "Epoch 127/150\n",
            "100/100 [==============================] - 18s 182ms/step - loss: 0.2679 - accuracy: 0.9085 - val_loss: 0.2126 - val_accuracy: 0.9460\n",
            "Epoch 128/150\n",
            "100/100 [==============================] - 18s 183ms/step - loss: 0.2324 - accuracy: 0.9174 - val_loss: 0.2141 - val_accuracy: 0.9450\n",
            "Epoch 129/150\n",
            "100/100 [==============================] - 18s 182ms/step - loss: 0.3116 - accuracy: 0.9018 - val_loss: 0.2174 - val_accuracy: 0.9460\n",
            "Epoch 130/150\n",
            "100/100 [==============================] - 18s 183ms/step - loss: 0.2877 - accuracy: 0.9055 - val_loss: 0.2085 - val_accuracy: 0.9440\n",
            "Epoch 131/150\n",
            "100/100 [==============================] - 19s 185ms/step - loss: 0.2262 - accuracy: 0.9185 - val_loss: 0.2199 - val_accuracy: 0.9450\n",
            "Epoch 132/150\n",
            "100/100 [==============================] - 18s 185ms/step - loss: 0.2802 - accuracy: 0.9029 - val_loss: 0.2190 - val_accuracy: 0.9450\n",
            "Epoch 133/150\n",
            "100/100 [==============================] - 18s 184ms/step - loss: 0.3049 - accuracy: 0.9042 - val_loss: 0.2096 - val_accuracy: 0.9450\n",
            "Epoch 134/150\n",
            "100/100 [==============================] - 18s 182ms/step - loss: 0.3189 - accuracy: 0.8913 - val_loss: 0.2183 - val_accuracy: 0.9450\n",
            "Epoch 135/150\n",
            "100/100 [==============================] - 18s 182ms/step - loss: 0.2571 - accuracy: 0.9188 - val_loss: 0.2197 - val_accuracy: 0.9480\n",
            "Epoch 136/150\n",
            "100/100 [==============================] - 18s 182ms/step - loss: 0.2732 - accuracy: 0.9051 - val_loss: 0.2150 - val_accuracy: 0.9460\n",
            "Epoch 137/150\n",
            "100/100 [==============================] - 18s 182ms/step - loss: 0.2369 - accuracy: 0.9057 - val_loss: 0.2151 - val_accuracy: 0.9460\n",
            "Epoch 138/150\n",
            "100/100 [==============================] - 18s 182ms/step - loss: 0.2725 - accuracy: 0.9000 - val_loss: 0.2214 - val_accuracy: 0.9480\n",
            "Epoch 139/150\n",
            "100/100 [==============================] - 18s 182ms/step - loss: 0.2924 - accuracy: 0.9048 - val_loss: 0.2184 - val_accuracy: 0.9470\n",
            "Epoch 140/150\n",
            "100/100 [==============================] - 18s 182ms/step - loss: 0.2690 - accuracy: 0.9064 - val_loss: 0.2187 - val_accuracy: 0.9470\n",
            "Epoch 141/150\n",
            "100/100 [==============================] - 18s 181ms/step - loss: 0.2823 - accuracy: 0.9163 - val_loss: 0.2147 - val_accuracy: 0.9480\n",
            "Epoch 142/150\n",
            "100/100 [==============================] - 18s 181ms/step - loss: 0.2909 - accuracy: 0.9069 - val_loss: 0.2289 - val_accuracy: 0.9480\n",
            "Epoch 143/150\n",
            "100/100 [==============================] - 18s 182ms/step - loss: 0.2661 - accuracy: 0.9042 - val_loss: 0.2243 - val_accuracy: 0.9450\n",
            "Epoch 144/150\n",
            "100/100 [==============================] - 18s 183ms/step - loss: 0.2740 - accuracy: 0.9026 - val_loss: 0.2281 - val_accuracy: 0.9450\n",
            "Epoch 145/150\n",
            "100/100 [==============================] - 18s 182ms/step - loss: 0.2651 - accuracy: 0.9022 - val_loss: 0.2318 - val_accuracy: 0.9440\n",
            "Epoch 146/150\n",
            "100/100 [==============================] - 18s 183ms/step - loss: 0.2534 - accuracy: 0.9149 - val_loss: 0.2263 - val_accuracy: 0.9460\n",
            "Epoch 147/150\n",
            "100/100 [==============================] - 18s 181ms/step - loss: 0.2470 - accuracy: 0.9091 - val_loss: 0.2367 - val_accuracy: 0.9430\n",
            "Epoch 148/150\n",
            "100/100 [==============================] - 18s 181ms/step - loss: 0.2885 - accuracy: 0.9065 - val_loss: 0.2287 - val_accuracy: 0.9430\n",
            "Epoch 149/150\n",
            "100/100 [==============================] - 18s 183ms/step - loss: 0.2414 - accuracy: 0.9172 - val_loss: 0.2329 - val_accuracy: 0.9440\n",
            "Epoch 150/150\n",
            "100/100 [==============================] - 18s 183ms/step - loss: 0.2799 - accuracy: 0.9061 - val_loss: 0.2266 - val_accuracy: 0.9440\n"
          ],
          "name": "stdout"
        }
      ]
    },
    {
      "cell_type": "code",
      "metadata": {
        "id": "P0Fk-e8wA3jd",
        "colab": {
          "base_uri": "https://localhost:8080/",
          "height": 307
        },
        "outputId": "984fdbcb-01f7-4753-c838-319df7e74699"
      },
      "source": [
        "f, (ax1, ax2) = plt.subplots(1, 2, figsize=(12, 4))\n",
        "t = f.suptitle('Pre-trained CNN (Transfer Learning) Performance', fontsize=12)\n",
        "f.subplots_adjust(top=0.85, wspace=0.3)\n",
        "\n",
        "epoch_list = list(range(1,151))\n",
        "ax1.plot(epoch_list, history.history['accuracy'], label='Train Accuracy')\n",
        "ax1.plot(epoch_list, history.history['val_accuracy'], label='Validation Accuracy')\n",
        "ax1.set_xticks(np.arange(0, 151, 5))\n",
        "ax1.set_ylabel('Accuracy Value')\n",
        "ax1.set_xlabel('Epoch')\n",
        "ax1.set_title('Accuracy')\n",
        "l1 = ax1.legend(loc=\"best\")\n",
        "\n",
        "ax2.plot(epoch_list, history.history['loss'], label='Train Loss')\n",
        "ax2.plot(epoch_list, history.history['val_loss'], label='Validation Loss')\n",
        "ax2.set_xticks(np.arange(0, 151, 5))\n",
        "ax2.set_ylabel('Loss Value')\n",
        "ax2.set_xlabel('Epoch')\n",
        "ax2.set_title('Loss')\n",
        "l2 = ax2.legend(loc=\"best\")"
      ],
      "execution_count": 19,
      "outputs": [
        {
          "output_type": "display_data",
          "data": {
            "image/png": "[encoded data removed]",
            "text/plain": [
              "<Figure size 864x288 with 2 Axes>"
            ]
          },
          "metadata": {
            "tags": [],
            "needs_background": "light"
          }
        }
      ]
    },
    {
      "cell_type": "code",
      "metadata": {
        "id": "wHLV0XfKA3jd"
      },
      "source": [
        "model.save('1-2-pre-aug-flower.h5')"
      ],
      "execution_count": 22,
      "outputs": []
    },
    {
      "cell_type": "code",
      "metadata": {
        "id": "5KqNljqQj9xx"
      },
      "source": [
        ""
      ],
      "execution_count": null,
      "outputs": []
    }
  ]
}