{
  "nbformat": 4,
  "nbformat_minor": 0,
  "metadata": {
    "kernelspec": {
      "display_name": "Python 3",
      "language": "python",
      "name": "python3"
    },
    "language_info": {
      "codemirror_mode": {
        "name": "ipython",
        "version": 3
      },
      "file_extension": ".py",
      "mimetype": "text/x-python",
      "name": "python",
      "nbconvert_exporter": "python",
      "pygments_lexer": "ipython3",
      "version": "3.7.6"
    },
    "colab": {
      "name": "4-2-aug-pretrained.ipynb",
      "provenance": [],
      "collapsed_sections": [],
      "include_colab_link": true
    },
    "accelerator": "GPU"
  },
  "cells": [
    {
      "cell_type": "markdown",
      "metadata": {
        "id": "view-in-github",
        "colab_type": "text"
      },
      "source": [
        "<a href=\"https://colab.research.google.com/github/JSJeong-me/CNN-Daisy-Dandelion/blob/main/2_flower_aug.ipynb\" target=\"_parent\"><img src=\"https://colab.research.google.com/assets/colab-badge.svg\" alt=\"Open In Colab\"/></a>"
      ]
    },
    {
      "cell_type": "code",
      "metadata": {
        "colab": {
          "base_uri": "https://localhost:8080/"
        },
        "id": "22mg_PXnCKsU",
        "outputId": "8dcc6c38-d645-4781-a4d6-3be60be4dcf5"
      },
      "source": [
        "from google.colab import drive\n",
        "drive.mount('/content/drive')"
      ],
      "execution_count": 1,
      "outputs": [
        {
          "output_type": "stream",
          "text": [
            "Mounted at /content/drive\n"
          ],
          "name": "stdout"
        }
      ]
    },
    {
      "cell_type": "code",
      "metadata": {
        "id": "6giq8ls1A3jN"
      },
      "source": [
        "%matplotlib inline"
      ],
      "execution_count": 2,
      "outputs": []
    },
    {
      "cell_type": "code",
      "metadata": {
        "id": "B9GBtXmwA47m",
        "colab": {
          "base_uri": "https://localhost:8080/"
        },
        "outputId": "b1490181-19a1-45b0-a85e-79be23444ad3"
      },
      "source": [
        "!ls -l"
      ],
      "execution_count": 3,
      "outputs": [
        {
          "output_type": "stream",
          "text": [
            "total 8\n",
            "drwx------ 5 root root 4096 Jan 25 06:43 drive\n",
            "drwxr-xr-x 1 root root 4096 Jan 20 17:27 sample_data\n"
          ],
          "name": "stdout"
        }
      ]
    },
    {
      "cell_type": "code",
      "metadata": {
        "id": "FWj06i8uA6OO"
      },
      "source": [
        "!cp ./drive/MyDrive/flower.zip ."
      ],
      "execution_count": 4,
      "outputs": []
    },
    {
      "cell_type": "code",
      "metadata": {
        "id": "AEJfrotXA58E"
      },
      "source": [
        "!unzip flower.zip\r\n"
      ],
      "execution_count": null,
      "outputs": []
    },
    {
      "cell_type": "code",
      "metadata": {
        "id": "O5M05p_pA5rd"
      },
      "source": [
        ""
      ],
      "execution_count": null,
      "outputs": []
    },
    {
      "cell_type": "code",
      "metadata": {
        "id": "KPy5I5SBA3jW"
      },
      "source": [
        "import glob\n",
        "import numpy as np\n",
        "import matplotlib.pyplot as plt\n",
        "from tensorflow.keras.preprocessing.image import ImageDataGenerator, load_img, img_to_array, array_to_img"
      ],
      "execution_count": 6,
      "outputs": []
    },
    {
      "cell_type": "code",
      "metadata": {
        "id": "eZImnfGOA3jX",
        "colab": {
          "base_uri": "https://localhost:8080/"
        },
        "outputId": "d14290e8-1709-4a08-ab58-caae6cf2b0bd"
      },
      "source": [
        "IMG_DIM = (150, 150)\n",
        "\n",
        "train_files = glob.glob('training_data/*')\n",
        "train_imgs = [img_to_array(load_img(img, target_size=IMG_DIM)) for img in train_files]\n",
        "train_imgs = np.array(train_imgs)\n",
        "train_labels = [fn.split('/')[1].split('.')[0].strip() for fn in train_files]\n",
        "\n",
        "validation_files = glob.glob('validation_data/*')\n",
        "validation_imgs = [img_to_array(load_img(img, target_size=IMG_DIM)) for img in validation_files]\n",
        "validation_imgs = np.array(validation_imgs)\n",
        "validation_labels = [fn.split('/')[1].split('.')[0].strip() for fn in validation_files]\n",
        "\n",
        "print('Train dataset shape:', train_imgs.shape, \n",
        "      '\\tValidation dataset shape:', validation_imgs.shape)"
      ],
      "execution_count": 7,
      "outputs": [
        {
          "output_type": "stream",
          "text": [
            "Train dataset shape: (1275, 150, 150, 3) \tValidation dataset shape: (364, 150, 150, 3)\n"
          ],
          "name": "stdout"
        }
      ]
    },
    {
      "cell_type": "code",
      "metadata": {
        "id": "OiDa5o60A3jX"
      },
      "source": [
        "train_imgs_scaled = train_imgs.astype('float32')\n",
        "validation_imgs_scaled = validation_imgs.astype('float32')\n",
        "train_imgs_scaled /= 255\n",
        "validation_imgs_scaled /= 255"
      ],
      "execution_count": 8,
      "outputs": []
    },
    {
      "cell_type": "code",
      "metadata": {
        "id": "COLKZn79A3jY",
        "colab": {
          "base_uri": "https://localhost:8080/"
        },
        "outputId": "ff3d22b2-11e1-44f0-be79-a6af48493c0a"
      },
      "source": [
        "batch_size = 50\n",
        "num_classes = 2\n",
        "epochs = 100\n",
        "input_shape = (150, 150, 3)\n",
        "\n",
        "from sklearn.preprocessing import LabelEncoder\n",
        "\n",
        "le = LabelEncoder()\n",
        "le.fit(train_labels)\n",
        "# encode wine type labels\n",
        "train_labels_enc = le.transform(train_labels)\n",
        "validation_labels_enc = le.transform(validation_labels)\n",
        "\n",
        "print(train_labels[0:5], train_labels_enc[0:5])"
      ],
      "execution_count": 9,
      "outputs": [
        {
          "output_type": "stream",
          "text": [
            "['daisy', 'dandelion', 'dandelion', 'daisy', 'dandelion'] [0 1 1 0 1]\n"
          ],
          "name": "stdout"
        }
      ]
    },
    {
      "cell_type": "code",
      "metadata": {
        "id": "Ieppy25xFE_N"
      },
      "source": [
        ""
      ],
      "execution_count": null,
      "outputs": []
    },
    {
      "cell_type": "code",
      "metadata": {
        "id": "j0wF41XlFEu9"
      },
      "source": [
        "train_datagen = ImageDataGenerator(rescale=1./255, zoom_range=0.3, rotation_range=50,  # rescale=1./255,\r\n",
        "                                   width_shift_range=0.2, height_shift_range=0.2, shear_range=0.2, \r\n",
        "                                   horizontal_flip=True, fill_mode='nearest')\r\n",
        "\r\n",
        "val_datagen = ImageDataGenerator(rescale=1./255) # rescale=1./255\r\n",
        "\r\n",
        "train_generator = train_datagen.flow(train_imgs, train_labels_enc, batch_size=30)\r\n",
        "val_generator = val_datagen.flow(validation_imgs, validation_labels_enc, batch_size=20)"
      ],
      "execution_count": 10,
      "outputs": []
    },
    {
      "cell_type": "code",
      "metadata": {
        "id": "wDDCzCWzFEDf"
      },
      "source": [
        ""
      ],
      "execution_count": null,
      "outputs": []
    },
    {
      "cell_type": "code",
      "metadata": {
        "id": "9fVVMivMA3jZ",
        "colab": {
          "base_uri": "https://localhost:8080/"
        },
        "outputId": "06386b12-92e7-4da9-bee8-0a97234e40d2"
      },
      "source": [
        "\n",
        "from tensorflow.keras.applications import vgg16\n",
        "from tensorflow.keras.models import Model\n",
        "import tensorflow.keras\n",
        "\n",
        "vgg = vgg16.VGG16(include_top=False, weights='imagenet',\n",
        "                                     input_shape=input_shape)\n",
        "\n",
        "output = vgg.layers[-1].output\n",
        "output = tensorflow.keras.layers.Flatten()(output)\n",
        "\n",
        "vgg_model = Model(vgg.input, output)\n",
        "vgg_model.trainable = False\n",
        "\n",
        "for layer in vgg_model.layers:\n",
        "    layer.trainable = False\n",
        "\n",
        "vgg_model.summary()\n"
      ],
      "execution_count": 11,
      "outputs": [
        {
          "output_type": "stream",
          "text": [
            "Downloading data from https://storage.googleapis.com/tensorflow/keras-applications/vgg16/vgg16_weights_tf_dim_ordering_tf_kernels_notop.h5\n",
            "58892288/58889256 [==============================] - 1s 0us/step\n",
            "Model: \"model\"\n",
            "_________________________________________________________________\n",
            "Layer (type)                 Output Shape              Param #   \n",
            "=================================================================\n",
            "input_1 (InputLayer)         [(None, 150, 150, 3)]     0         \n",
            "_________________________________________________________________\n",
            "block1_conv1 (Conv2D)        (None, 150, 150, 64)      1792      \n",
            "_________________________________________________________________\n",
            "block1_conv2 (Conv2D)        (None, 150, 150, 64)      36928     \n",
            "_________________________________________________________________\n",
            "block1_pool (MaxPooling2D)   (None, 75, 75, 64)        0         \n",
            "_________________________________________________________________\n",
            "block2_conv1 (Conv2D)        (None, 75, 75, 128)       73856     \n",
            "_________________________________________________________________\n",
            "block2_conv2 (Conv2D)        (None, 75, 75, 128)       147584    \n",
            "_________________________________________________________________\n",
            "block2_pool (MaxPooling2D)   (None, 37, 37, 128)       0         \n",
            "_________________________________________________________________\n",
            "block3_conv1 (Conv2D)        (None, 37, 37, 256)       295168    \n",
            "_________________________________________________________________\n",
            "block3_conv2 (Conv2D)        (None, 37, 37, 256)       590080    \n",
            "_________________________________________________________________\n",
            "block3_conv3 (Conv2D)        (None, 37, 37, 256)       590080    \n",
            "_________________________________________________________________\n",
            "block3_pool (MaxPooling2D)   (None, 18, 18, 256)       0         \n",
            "_________________________________________________________________\n",
            "block4_conv1 (Conv2D)        (None, 18, 18, 512)       1180160   \n",
            "_________________________________________________________________\n",
            "block4_conv2 (Conv2D)        (None, 18, 18, 512)       2359808   \n",
            "_________________________________________________________________\n",
            "block4_conv3 (Conv2D)        (None, 18, 18, 512)       2359808   \n",
            "_________________________________________________________________\n",
            "block4_pool (MaxPooling2D)   (None, 9, 9, 512)         0         \n",
            "_________________________________________________________________\n",
            "block5_conv1 (Conv2D)        (None, 9, 9, 512)         2359808   \n",
            "_________________________________________________________________\n",
            "block5_conv2 (Conv2D)        (None, 9, 9, 512)         2359808   \n",
            "_________________________________________________________________\n",
            "block5_conv3 (Conv2D)        (None, 9, 9, 512)         2359808   \n",
            "_________________________________________________________________\n",
            "block5_pool (MaxPooling2D)   (None, 4, 4, 512)         0         \n",
            "_________________________________________________________________\n",
            "flatten (Flatten)            (None, 8192)              0         \n",
            "=================================================================\n",
            "Total params: 14,714,688\n",
            "Trainable params: 0\n",
            "Non-trainable params: 14,714,688\n",
            "_________________________________________________________________\n"
          ],
          "name": "stdout"
        }
      ]
    },
    {
      "cell_type": "code",
      "metadata": {
        "id": "T9SDjC3EA3jZ",
        "colab": {
          "base_uri": "https://localhost:8080/",
          "height": 719
        },
        "outputId": "f69e92c8-31df-4a2e-b1dd-89e5a1cb0b7f"
      },
      "source": [
        "import pandas as pd\n",
        "pd.set_option('max_colwidth', -1)\n",
        "\n",
        "layers = [(layer, layer.name, layer.trainable) for layer in vgg_model.layers]\n",
        "pd.DataFrame(layers, columns=['Layer Type', 'Layer Name', 'Layer Trainable'])"
      ],
      "execution_count": 12,
      "outputs": [
        {
          "output_type": "stream",
          "text": [
            "/usr/local/lib/python3.6/dist-packages/ipykernel_launcher.py:2: FutureWarning: Passing a negative integer is deprecated in version 1.0 and will not be supported in future version. Instead, use None to not limit the column width.\n",
            "  \n"
          ],
          "name": "stderr"
        },
        {
          "output_type": "execute_result",
          "data": {
            "text/html": [
              "<div>\n",
              "<style scoped>\n",
              "    .dataframe tbody tr th:only-of-type {\n",
              "        vertical-align: middle;\n",
              "    }\n",
              "\n",
              "    .dataframe tbody tr th {\n",
              "        vertical-align: top;\n",
              "    }\n",
              "\n",
              "    .dataframe thead th {\n",
              "        text-align: right;\n",
              "    }\n",
              "</style>\n",
              "<table border=\"1\" class=\"dataframe\">\n",
              "  <thead>\n",
              "    <tr style=\"text-align: right;\">\n",
              "      <th></th>\n",
              "      <th>Layer Type</th>\n",
              "      <th>Layer Name</th>\n",
              "      <th>Layer Trainable</th>\n",
              "    </tr>\n",
              "  </thead>\n",
              "  <tbody>\n",
              "    <tr>\n",
              "      <th>0</th>\n",
              "      <td>&lt;tensorflow.python.keras.engine.input_layer.InputLayer object at 0x7f8a1cbac7f0&gt;</td>\n",
              "      <td>input_1</td>\n",
              "      <td>False</td>\n",
              "    </tr>\n",
              "    <tr>\n",
              "      <th>1</th>\n",
              "      <td>&lt;tensorflow.python.keras.layers.convolutional.Conv2D object at 0x7f8a1c8e5400&gt;</td>\n",
              "      <td>block1_conv1</td>\n",
              "      <td>False</td>\n",
              "    </tr>\n",
              "    <tr>\n",
              "      <th>2</th>\n",
              "      <td>&lt;tensorflow.python.keras.layers.convolutional.Conv2D object at 0x7f8a1c8e5978&gt;</td>\n",
              "      <td>block1_conv2</td>\n",
              "      <td>False</td>\n",
              "    </tr>\n",
              "    <tr>\n",
              "      <th>3</th>\n",
              "      <td>&lt;tensorflow.python.keras.layers.pooling.MaxPooling2D object at 0x7f8a104f1710&gt;</td>\n",
              "      <td>block1_pool</td>\n",
              "      <td>False</td>\n",
              "    </tr>\n",
              "    <tr>\n",
              "      <th>4</th>\n",
              "      <td>&lt;tensorflow.python.keras.layers.convolutional.Conv2D object at 0x7f8a104f1f98&gt;</td>\n",
              "      <td>block2_conv1</td>\n",
              "      <td>False</td>\n",
              "    </tr>\n",
              "    <tr>\n",
              "      <th>5</th>\n",
              "      <td>&lt;tensorflow.python.keras.layers.convolutional.Conv2D object at 0x7f8a104f8a58&gt;</td>\n",
              "      <td>block2_conv2</td>\n",
              "      <td>False</td>\n",
              "    </tr>\n",
              "    <tr>\n",
              "      <th>6</th>\n",
              "      <td>&lt;tensorflow.python.keras.layers.pooling.MaxPooling2D object at 0x7f8a10501da0&gt;</td>\n",
              "      <td>block2_pool</td>\n",
              "      <td>False</td>\n",
              "    </tr>\n",
              "    <tr>\n",
              "      <th>7</th>\n",
              "      <td>&lt;tensorflow.python.keras.layers.convolutional.Conv2D object at 0x7f8a10501198&gt;</td>\n",
              "      <td>block3_conv1</td>\n",
              "      <td>False</td>\n",
              "    </tr>\n",
              "    <tr>\n",
              "      <th>8</th>\n",
              "      <td>&lt;tensorflow.python.keras.layers.convolutional.Conv2D object at 0x7f8a10506fd0&gt;</td>\n",
              "      <td>block3_conv2</td>\n",
              "      <td>False</td>\n",
              "    </tr>\n",
              "    <tr>\n",
              "      <th>9</th>\n",
              "      <td>&lt;tensorflow.python.keras.layers.convolutional.Conv2D object at 0x7f8a1050fef0&gt;</td>\n",
              "      <td>block3_conv3</td>\n",
              "      <td>False</td>\n",
              "    </tr>\n",
              "    <tr>\n",
              "      <th>10</th>\n",
              "      <td>&lt;tensorflow.python.keras.layers.pooling.MaxPooling2D object at 0x7f8a10516470&gt;</td>\n",
              "      <td>block3_pool</td>\n",
              "      <td>False</td>\n",
              "    </tr>\n",
              "    <tr>\n",
              "      <th>11</th>\n",
              "      <td>&lt;tensorflow.python.keras.layers.convolutional.Conv2D object at 0x7f8a10506160&gt;</td>\n",
              "      <td>block4_conv1</td>\n",
              "      <td>False</td>\n",
              "    </tr>\n",
              "    <tr>\n",
              "      <th>12</th>\n",
              "      <td>&lt;tensorflow.python.keras.layers.convolutional.Conv2D object at 0x7f8a1051c940&gt;</td>\n",
              "      <td>block4_conv2</td>\n",
              "      <td>False</td>\n",
              "    </tr>\n",
              "    <tr>\n",
              "      <th>13</th>\n",
              "      <td>&lt;tensorflow.python.keras.layers.convolutional.Conv2D object at 0x7f8a10523c88&gt;</td>\n",
              "      <td>block4_conv3</td>\n",
              "      <td>False</td>\n",
              "    </tr>\n",
              "    <tr>\n",
              "      <th>14</th>\n",
              "      <td>&lt;tensorflow.python.keras.layers.pooling.MaxPooling2D object at 0x7f8a105238d0&gt;</td>\n",
              "      <td>block4_pool</td>\n",
              "      <td>False</td>\n",
              "    </tr>\n",
              "    <tr>\n",
              "      <th>15</th>\n",
              "      <td>&lt;tensorflow.python.keras.layers.convolutional.Conv2D object at 0x7f8a104a9390&gt;</td>\n",
              "      <td>block5_conv1</td>\n",
              "      <td>False</td>\n",
              "    </tr>\n",
              "    <tr>\n",
              "      <th>16</th>\n",
              "      <td>&lt;tensorflow.python.keras.layers.convolutional.Conv2D object at 0x7f8a104ae6d8&gt;</td>\n",
              "      <td>block5_conv2</td>\n",
              "      <td>False</td>\n",
              "    </tr>\n",
              "    <tr>\n",
              "      <th>17</th>\n",
              "      <td>&lt;tensorflow.python.keras.layers.convolutional.Conv2D object at 0x7f8a104ae080&gt;</td>\n",
              "      <td>block5_conv3</td>\n",
              "      <td>False</td>\n",
              "    </tr>\n",
              "    <tr>\n",
              "      <th>18</th>\n",
              "      <td>&lt;tensorflow.python.keras.layers.pooling.MaxPooling2D object at 0x7f8a104b60b8&gt;</td>\n",
              "      <td>block5_pool</td>\n",
              "      <td>False</td>\n",
              "    </tr>\n",
              "    <tr>\n",
              "      <th>19</th>\n",
              "      <td>&lt;tensorflow.python.keras.layers.core.Flatten object at 0x7f8a104bf518&gt;</td>\n",
              "      <td>flatten</td>\n",
              "      <td>False</td>\n",
              "    </tr>\n",
              "  </tbody>\n",
              "</table>\n",
              "</div>"
            ],
            "text/plain": [
              "                                                                          Layer Type  ... Layer Trainable\n",
              "0   <tensorflow.python.keras.engine.input_layer.InputLayer object at 0x7f8a1cbac7f0>  ...  False         \n",
              "1   <tensorflow.python.keras.layers.convolutional.Conv2D object at 0x7f8a1c8e5400>    ...  False         \n",
              "2   <tensorflow.python.keras.layers.convolutional.Conv2D object at 0x7f8a1c8e5978>    ...  False         \n",
              "3   <tensorflow.python.keras.layers.pooling.MaxPooling2D object at 0x7f8a104f1710>    ...  False         \n",
              "4   <tensorflow.python.keras.layers.convolutional.Conv2D object at 0x7f8a104f1f98>    ...  False         \n",
              "5   <tensorflow.python.keras.layers.convolutional.Conv2D object at 0x7f8a104f8a58>    ...  False         \n",
              "6   <tensorflow.python.keras.layers.pooling.MaxPooling2D object at 0x7f8a10501da0>    ...  False         \n",
              "7   <tensorflow.python.keras.layers.convolutional.Conv2D object at 0x7f8a10501198>    ...  False         \n",
              "8   <tensorflow.python.keras.layers.convolutional.Conv2D object at 0x7f8a10506fd0>    ...  False         \n",
              "9   <tensorflow.python.keras.layers.convolutional.Conv2D object at 0x7f8a1050fef0>    ...  False         \n",
              "10  <tensorflow.python.keras.layers.pooling.MaxPooling2D object at 0x7f8a10516470>    ...  False         \n",
              "11  <tensorflow.python.keras.layers.convolutional.Conv2D object at 0x7f8a10506160>    ...  False         \n",
              "12  <tensorflow.python.keras.layers.convolutional.Conv2D object at 0x7f8a1051c940>    ...  False         \n",
              "13  <tensorflow.python.keras.layers.convolutional.Conv2D object at 0x7f8a10523c88>    ...  False         \n",
              "14  <tensorflow.python.keras.layers.pooling.MaxPooling2D object at 0x7f8a105238d0>    ...  False         \n",
              "15  <tensorflow.python.keras.layers.convolutional.Conv2D object at 0x7f8a104a9390>    ...  False         \n",
              "16  <tensorflow.python.keras.layers.convolutional.Conv2D object at 0x7f8a104ae6d8>    ...  False         \n",
              "17  <tensorflow.python.keras.layers.convolutional.Conv2D object at 0x7f8a104ae080>    ...  False         \n",
              "18  <tensorflow.python.keras.layers.pooling.MaxPooling2D object at 0x7f8a104b60b8>    ...  False         \n",
              "19  <tensorflow.python.keras.layers.core.Flatten object at 0x7f8a104bf518>            ...  False         \n",
              "\n",
              "[20 rows x 3 columns]"
            ]
          },
          "metadata": {
            "tags": []
          },
          "execution_count": 12
        }
      ]
    },
    {
      "cell_type": "code",
      "metadata": {
        "id": "OvJvrtrgA3ja",
        "colab": {
          "base_uri": "https://localhost:8080/"
        },
        "outputId": "f3ef934e-6d93-4f8e-e352-cefa122df771"
      },
      "source": [
        "print(\"Trainable layers:\", vgg_model.trainable_weights)"
      ],
      "execution_count": 13,
      "outputs": [
        {
          "output_type": "stream",
          "text": [
            "Trainable layers: []\n"
          ],
          "name": "stdout"
        }
      ]
    },
    {
      "cell_type": "code",
      "metadata": {
        "id": "J_Zbyst4A3ja",
        "colab": {
          "base_uri": "https://localhost:8080/",
          "height": 307
        },
        "outputId": "7504464a-1a72-4dc5-b2b1-69bbbdb9edaf"
      },
      "source": [
        "bottleneck_feature_example = vgg.predict(train_imgs_scaled[0:1])\n",
        "print(bottleneck_feature_example.shape)\n",
        "plt.imshow(bottleneck_feature_example[0][:,:,0])"
      ],
      "execution_count": 14,
      "outputs": [
        {
          "output_type": "stream",
          "text": [
            "(1, 4, 4, 512)\n"
          ],
          "name": "stdout"
        },
        {
          "output_type": "execute_result",
          "data": {
            "text/plain": [
              "<matplotlib.image.AxesImage at 0x7f89c40fadd8>"
            ]
          },
          "metadata": {
            "tags": []
          },
          "execution_count": 14
        },
        {
          "output_type": "display_data",
          "data": {
            "image/png": "[encoded data removed]",
            "text/plain": [
              "<Figure size 432x288 with 1 Axes>"
            ]
          },
          "metadata": {
            "tags": [],
            "needs_background": "light"
          }
        }
      ]
    },
    {
      "cell_type": "code",
      "metadata": {
        "id": "_8LY2OOaA3jb"
      },
      "source": [
        "def get_bottleneck_features(model, input_imgs):\n",
        "    \n",
        "    features = model.predict(input_imgs, verbose=0)\n",
        "    return features"
      ],
      "execution_count": 15,
      "outputs": []
    },
    {
      "cell_type": "code",
      "metadata": {
        "id": "8sekjWocA3jb",
        "colab": {
          "base_uri": "https://localhost:8080/"
        },
        "outputId": "12c9ea51-d189-4916-ad4b-231768d044ea"
      },
      "source": [
        "train_features_vgg = get_bottleneck_features(vgg_model, train_imgs_scaled)\n",
        "validation_features_vgg = get_bottleneck_features(vgg_model, validation_imgs_scaled)\n",
        "\n",
        "print('Train Bottleneck Features:', train_features_vgg.shape, \n",
        "      '\\tValidation Bottleneck Features:', validation_features_vgg.shape)"
      ],
      "execution_count": 16,
      "outputs": [
        {
          "output_type": "stream",
          "text": [
            "Train Bottleneck Features: (1275, 8192) \tValidation Bottleneck Features: (364, 8192)\n"
          ],
          "name": "stdout"
        }
      ]
    },
    {
      "cell_type": "code",
      "metadata": {
        "id": "unerLhrzF2HL"
      },
      "source": [
        ""
      ],
      "execution_count": null,
      "outputs": []
    },
    {
      "cell_type": "code",
      "metadata": {
        "id": "qyFijnDhGBjn",
        "colab": {
          "base_uri": "https://localhost:8080/"
        },
        "outputId": "6e1501b5-a906-433f-a50d-d9eeb60bc438"
      },
      "source": [
        "from tensorflow.keras.layers import Conv2D, MaxPooling2D, Flatten, Dense, Dropout, InputLayer\r\n",
        "from tensorflow.keras.models import Sequential\r\n",
        "from tensorflow.keras import optimizers\r\n",
        "\r\n",
        "model = Sequential()\r\n",
        "model.add(vgg_model)\r\n",
        "model.add(Dense(512, activation='relu', input_dim=input_shape))\r\n",
        "model.add(Dropout(0.3))\r\n",
        "model.add(Dense(64, activation='relu'))\r\n",
        "model.add(Dropout(0.3))\r\n",
        "model.add(Dense(1, activation='sigmoid'))\r\n",
        "\r\n",
        "model.compile(loss='binary_crossentropy',\r\n",
        "              optimizer=optimizers.RMSprop(lr=2e-5),\r\n",
        "              metrics=['accuracy'])\r\n",
        "\r\n",
        "model.summary()"
      ],
      "execution_count": 17,
      "outputs": [
        {
          "output_type": "stream",
          "text": [
            "Model: \"sequential\"\n",
            "_________________________________________________________________\n",
            "Layer (type)                 Output Shape              Param #   \n",
            "=================================================================\n",
            "model (Functional)           (None, 8192)              14714688  \n",
            "_________________________________________________________________\n",
            "dense (Dense)                (None, 512)               4194816   \n",
            "_________________________________________________________________\n",
            "dropout (Dropout)            (None, 512)               0         \n",
            "_________________________________________________________________\n",
            "dense_1 (Dense)              (None, 64)                32832     \n",
            "_________________________________________________________________\n",
            "dropout_1 (Dropout)          (None, 64)                0         \n",
            "_________________________________________________________________\n",
            "dense_2 (Dense)              (None, 1)                 65        \n",
            "=================================================================\n",
            "Total params: 18,942,401\n",
            "Trainable params: 4,227,713\n",
            "Non-trainable params: 14,714,688\n",
            "_________________________________________________________________\n"
          ],
          "name": "stdout"
        }
      ]
    },
    {
      "cell_type": "code",
      "metadata": {
        "id": "oXhFf4HLA3jc",
        "colab": {
          "base_uri": "https://localhost:8080/"
        },
        "outputId": "7a4ebd6e-a079-42cb-b1d5-d29ce6103c3e"
      },
      "source": [
        "history = model.fit_generator(train_generator,  epochs=epochs,\r\n",
        "                              validation_data=val_generator,  verbose=1)"
      ],
      "execution_count": 18,
      "outputs": [
        {
          "output_type": "stream",
          "text": [
            "/usr/local/lib/python3.6/dist-packages/tensorflow/python/keras/engine/training.py:1844: UserWarning: `Model.fit_generator` is deprecated and will be removed in a future version. Please use `Model.fit`, which supports generators.\n",
            "  warnings.warn('`Model.fit_generator` is deprecated and '\n"
          ],
          "name": "stderr"
        },
        {
          "output_type": "stream",
          "text": [
            "Epoch 1/100\n",
            "43/43 [==============================] - 11s 214ms/step - loss: 0.6828 - accuracy: 0.5896 - val_loss: 0.4907 - val_accuracy: 0.7912\n",
            "Epoch 2/100\n",
            "43/43 [==============================] - 8s 177ms/step - loss: 0.5372 - accuracy: 0.7470 - val_loss: 0.4308 - val_accuracy: 0.8187\n",
            "Epoch 3/100\n",
            "43/43 [==============================] - 8s 177ms/step - loss: 0.4766 - accuracy: 0.7702 - val_loss: 0.3903 - val_accuracy: 0.8379\n",
            "Epoch 4/100\n",
            "43/43 [==============================] - 8s 176ms/step - loss: 0.4697 - accuracy: 0.7890 - val_loss: 0.3689 - val_accuracy: 0.8407\n",
            "Epoch 5/100\n",
            "43/43 [==============================] - 7s 174ms/step - loss: 0.4304 - accuracy: 0.7934 - val_loss: 0.3574 - val_accuracy: 0.8516\n",
            "Epoch 6/100\n",
            "43/43 [==============================] - 8s 178ms/step - loss: 0.4026 - accuracy: 0.8217 - val_loss: 0.3430 - val_accuracy: 0.8544\n",
            "Epoch 7/100\n",
            "43/43 [==============================] - 8s 177ms/step - loss: 0.3967 - accuracy: 0.8084 - val_loss: 0.3373 - val_accuracy: 0.8516\n",
            "Epoch 8/100\n",
            "43/43 [==============================] - 8s 177ms/step - loss: 0.3578 - accuracy: 0.8337 - val_loss: 0.3276 - val_accuracy: 0.8516\n",
            "Epoch 9/100\n",
            "43/43 [==============================] - 8s 178ms/step - loss: 0.3540 - accuracy: 0.8427 - val_loss: 0.3184 - val_accuracy: 0.8681\n",
            "Epoch 10/100\n",
            "43/43 [==============================] - 8s 178ms/step - loss: 0.3313 - accuracy: 0.8515 - val_loss: 0.3175 - val_accuracy: 0.8654\n",
            "Epoch 11/100\n",
            "43/43 [==============================] - 8s 177ms/step - loss: 0.3291 - accuracy: 0.8552 - val_loss: 0.3111 - val_accuracy: 0.8599\n",
            "Epoch 12/100\n",
            "43/43 [==============================] - 8s 176ms/step - loss: 0.3211 - accuracy: 0.8645 - val_loss: 0.3084 - val_accuracy: 0.8736\n",
            "Epoch 13/100\n",
            "43/43 [==============================] - 8s 177ms/step - loss: 0.3273 - accuracy: 0.8599 - val_loss: 0.3109 - val_accuracy: 0.8681\n",
            "Epoch 14/100\n",
            "43/43 [==============================] - 8s 177ms/step - loss: 0.3425 - accuracy: 0.8525 - val_loss: 0.3078 - val_accuracy: 0.8764\n",
            "Epoch 15/100\n",
            "43/43 [==============================] - 8s 177ms/step - loss: 0.3039 - accuracy: 0.8682 - val_loss: 0.2986 - val_accuracy: 0.8709\n",
            "Epoch 16/100\n",
            "43/43 [==============================] - 8s 178ms/step - loss: 0.3166 - accuracy: 0.8644 - val_loss: 0.3056 - val_accuracy: 0.8764\n",
            "Epoch 17/100\n",
            "43/43 [==============================] - 8s 177ms/step - loss: 0.3012 - accuracy: 0.8599 - val_loss: 0.2972 - val_accuracy: 0.8709\n",
            "Epoch 18/100\n",
            "43/43 [==============================] - 8s 177ms/step - loss: 0.3133 - accuracy: 0.8681 - val_loss: 0.3050 - val_accuracy: 0.8681\n",
            "Epoch 19/100\n",
            "43/43 [==============================] - 8s 178ms/step - loss: 0.2756 - accuracy: 0.8782 - val_loss: 0.2936 - val_accuracy: 0.8736\n",
            "Epoch 20/100\n",
            "43/43 [==============================] - 8s 178ms/step - loss: 0.3126 - accuracy: 0.8549 - val_loss: 0.2942 - val_accuracy: 0.8764\n",
            "Epoch 21/100\n",
            "43/43 [==============================] - 8s 177ms/step - loss: 0.2953 - accuracy: 0.8587 - val_loss: 0.2916 - val_accuracy: 0.8764\n",
            "Epoch 22/100\n",
            "43/43 [==============================] - 8s 177ms/step - loss: 0.2896 - accuracy: 0.8776 - val_loss: 0.2860 - val_accuracy: 0.8791\n",
            "Epoch 23/100\n",
            "43/43 [==============================] - 8s 177ms/step - loss: 0.2907 - accuracy: 0.8680 - val_loss: 0.2799 - val_accuracy: 0.8764\n",
            "Epoch 24/100\n",
            "43/43 [==============================] - 8s 178ms/step - loss: 0.2786 - accuracy: 0.8777 - val_loss: 0.2782 - val_accuracy: 0.8819\n",
            "Epoch 25/100\n",
            "43/43 [==============================] - 8s 176ms/step - loss: 0.2789 - accuracy: 0.8837 - val_loss: 0.2836 - val_accuracy: 0.8846\n",
            "Epoch 26/100\n",
            "43/43 [==============================] - 8s 176ms/step - loss: 0.2755 - accuracy: 0.8793 - val_loss: 0.2958 - val_accuracy: 0.8681\n",
            "Epoch 27/100\n",
            "43/43 [==============================] - 8s 177ms/step - loss: 0.2791 - accuracy: 0.8776 - val_loss: 0.2795 - val_accuracy: 0.8791\n",
            "Epoch 28/100\n",
            "43/43 [==============================] - 8s 177ms/step - loss: 0.2625 - accuracy: 0.8886 - val_loss: 0.2771 - val_accuracy: 0.8764\n",
            "Epoch 29/100\n",
            "43/43 [==============================] - 8s 178ms/step - loss: 0.2890 - accuracy: 0.8649 - val_loss: 0.2799 - val_accuracy: 0.8846\n",
            "Epoch 30/100\n",
            "43/43 [==============================] - 8s 179ms/step - loss: 0.2624 - accuracy: 0.8967 - val_loss: 0.2793 - val_accuracy: 0.8819\n",
            "Epoch 31/100\n",
            "43/43 [==============================] - 8s 177ms/step - loss: 0.2452 - accuracy: 0.8902 - val_loss: 0.2790 - val_accuracy: 0.8764\n",
            "Epoch 32/100\n",
            "43/43 [==============================] - 8s 178ms/step - loss: 0.2785 - accuracy: 0.8731 - val_loss: 0.2791 - val_accuracy: 0.8764\n",
            "Epoch 33/100\n",
            "43/43 [==============================] - 8s 177ms/step - loss: 0.2686 - accuracy: 0.8879 - val_loss: 0.2770 - val_accuracy: 0.8846\n",
            "Epoch 34/100\n",
            "43/43 [==============================] - 8s 176ms/step - loss: 0.2672 - accuracy: 0.8958 - val_loss: 0.2772 - val_accuracy: 0.8874\n",
            "Epoch 35/100\n",
            "43/43 [==============================] - 8s 177ms/step - loss: 0.2639 - accuracy: 0.8858 - val_loss: 0.2766 - val_accuracy: 0.8819\n",
            "Epoch 36/100\n",
            "43/43 [==============================] - 8s 177ms/step - loss: 0.2667 - accuracy: 0.8729 - val_loss: 0.2769 - val_accuracy: 0.8846\n",
            "Epoch 37/100\n",
            "43/43 [==============================] - 8s 178ms/step - loss: 0.2571 - accuracy: 0.8831 - val_loss: 0.2757 - val_accuracy: 0.8846\n",
            "Epoch 38/100\n",
            "43/43 [==============================] - 8s 179ms/step - loss: 0.2667 - accuracy: 0.8749 - val_loss: 0.2790 - val_accuracy: 0.8764\n",
            "Epoch 39/100\n",
            "43/43 [==============================] - 8s 177ms/step - loss: 0.2787 - accuracy: 0.8735 - val_loss: 0.2780 - val_accuracy: 0.8791\n",
            "Epoch 40/100\n",
            "43/43 [==============================] - 8s 177ms/step - loss: 0.2780 - accuracy: 0.8701 - val_loss: 0.2704 - val_accuracy: 0.8956\n",
            "Epoch 41/100\n",
            "43/43 [==============================] - 8s 177ms/step - loss: 0.2608 - accuracy: 0.8759 - val_loss: 0.2720 - val_accuracy: 0.8874\n",
            "Epoch 42/100\n",
            "43/43 [==============================] - 8s 178ms/step - loss: 0.2648 - accuracy: 0.8802 - val_loss: 0.2740 - val_accuracy: 0.8874\n",
            "Epoch 43/100\n",
            "43/43 [==============================] - 8s 179ms/step - loss: 0.2453 - accuracy: 0.8864 - val_loss: 0.2811 - val_accuracy: 0.8709\n",
            "Epoch 44/100\n",
            "43/43 [==============================] - 8s 179ms/step - loss: 0.2495 - accuracy: 0.8776 - val_loss: 0.3013 - val_accuracy: 0.8681\n",
            "Epoch 45/100\n",
            "43/43 [==============================] - 8s 177ms/step - loss: 0.2491 - accuracy: 0.8887 - val_loss: 0.2735 - val_accuracy: 0.8874\n",
            "Epoch 46/100\n",
            "43/43 [==============================] - 8s 177ms/step - loss: 0.2302 - accuracy: 0.9027 - val_loss: 0.2719 - val_accuracy: 0.8819\n",
            "Epoch 47/100\n",
            "43/43 [==============================] - 8s 178ms/step - loss: 0.2395 - accuracy: 0.8895 - val_loss: 0.2704 - val_accuracy: 0.8901\n",
            "Epoch 48/100\n",
            "43/43 [==============================] - 8s 178ms/step - loss: 0.2443 - accuracy: 0.8958 - val_loss: 0.2762 - val_accuracy: 0.8846\n",
            "Epoch 49/100\n",
            "43/43 [==============================] - 8s 178ms/step - loss: 0.2523 - accuracy: 0.8763 - val_loss: 0.2710 - val_accuracy: 0.8846\n",
            "Epoch 50/100\n",
            "43/43 [==============================] - 8s 178ms/step - loss: 0.2405 - accuracy: 0.8842 - val_loss: 0.2882 - val_accuracy: 0.8791\n",
            "Epoch 51/100\n",
            "43/43 [==============================] - 8s 178ms/step - loss: 0.2369 - accuracy: 0.9033 - val_loss: 0.2830 - val_accuracy: 0.8791\n",
            "Epoch 52/100\n",
            "43/43 [==============================] - 8s 178ms/step - loss: 0.2365 - accuracy: 0.8986 - val_loss: 0.2697 - val_accuracy: 0.8846\n",
            "Epoch 53/100\n",
            "43/43 [==============================] - 8s 178ms/step - loss: 0.2228 - accuracy: 0.9010 - val_loss: 0.2692 - val_accuracy: 0.8929\n",
            "Epoch 54/100\n",
            "43/43 [==============================] - 8s 178ms/step - loss: 0.2688 - accuracy: 0.8698 - val_loss: 0.2728 - val_accuracy: 0.8901\n",
            "Epoch 55/100\n",
            "43/43 [==============================] - 8s 180ms/step - loss: 0.2165 - accuracy: 0.9054 - val_loss: 0.2791 - val_accuracy: 0.8791\n",
            "Epoch 56/100\n",
            "43/43 [==============================] - 8s 177ms/step - loss: 0.2327 - accuracy: 0.8910 - val_loss: 0.2742 - val_accuracy: 0.8901\n",
            "Epoch 57/100\n",
            "43/43 [==============================] - 8s 179ms/step - loss: 0.2142 - accuracy: 0.9030 - val_loss: 0.2797 - val_accuracy: 0.8846\n",
            "Epoch 58/100\n",
            "43/43 [==============================] - 8s 179ms/step - loss: 0.2340 - accuracy: 0.9064 - val_loss: 0.2824 - val_accuracy: 0.8874\n",
            "Epoch 59/100\n",
            "43/43 [==============================] - 8s 178ms/step - loss: 0.2261 - accuracy: 0.8972 - val_loss: 0.2752 - val_accuracy: 0.8901\n",
            "Epoch 60/100\n",
            "43/43 [==============================] - 8s 178ms/step - loss: 0.2365 - accuracy: 0.8987 - val_loss: 0.2702 - val_accuracy: 0.8874\n",
            "Epoch 61/100\n",
            "43/43 [==============================] - 8s 179ms/step - loss: 0.2274 - accuracy: 0.8920 - val_loss: 0.2690 - val_accuracy: 0.8901\n",
            "Epoch 62/100\n",
            "43/43 [==============================] - 8s 180ms/step - loss: 0.2557 - accuracy: 0.8877 - val_loss: 0.2707 - val_accuracy: 0.8846\n",
            "Epoch 63/100\n",
            "43/43 [==============================] - 8s 179ms/step - loss: 0.2465 - accuracy: 0.8906 - val_loss: 0.2722 - val_accuracy: 0.8901\n",
            "Epoch 64/100\n",
            "43/43 [==============================] - 8s 177ms/step - loss: 0.2349 - accuracy: 0.8983 - val_loss: 0.2786 - val_accuracy: 0.8764\n",
            "Epoch 65/100\n",
            "43/43 [==============================] - 8s 177ms/step - loss: 0.2444 - accuracy: 0.8985 - val_loss: 0.2860 - val_accuracy: 0.8736\n",
            "Epoch 66/100\n",
            "43/43 [==============================] - 8s 178ms/step - loss: 0.2373 - accuracy: 0.8952 - val_loss: 0.2684 - val_accuracy: 0.8956\n",
            "Epoch 67/100\n",
            "43/43 [==============================] - 8s 178ms/step - loss: 0.2157 - accuracy: 0.9112 - val_loss: 0.2722 - val_accuracy: 0.8846\n",
            "Epoch 68/100\n",
            "43/43 [==============================] - 8s 178ms/step - loss: 0.2232 - accuracy: 0.9119 - val_loss: 0.2762 - val_accuracy: 0.8874\n",
            "Epoch 69/100\n",
            "43/43 [==============================] - 8s 178ms/step - loss: 0.2391 - accuracy: 0.8942 - val_loss: 0.2803 - val_accuracy: 0.8791\n",
            "Epoch 70/100\n",
            "43/43 [==============================] - 8s 177ms/step - loss: 0.2350 - accuracy: 0.9051 - val_loss: 0.2722 - val_accuracy: 0.8901\n",
            "Epoch 71/100\n",
            "43/43 [==============================] - 8s 179ms/step - loss: 0.2164 - accuracy: 0.9123 - val_loss: 0.2933 - val_accuracy: 0.8819\n",
            "Epoch 72/100\n",
            "43/43 [==============================] - 8s 180ms/step - loss: 0.2256 - accuracy: 0.9105 - val_loss: 0.2784 - val_accuracy: 0.8791\n",
            "Epoch 73/100\n",
            "43/43 [==============================] - 8s 178ms/step - loss: 0.2175 - accuracy: 0.8958 - val_loss: 0.2845 - val_accuracy: 0.8846\n",
            "Epoch 74/100\n",
            "43/43 [==============================] - 8s 179ms/step - loss: 0.2414 - accuracy: 0.9002 - val_loss: 0.2787 - val_accuracy: 0.8901\n",
            "Epoch 75/100\n",
            "43/43 [==============================] - 8s 178ms/step - loss: 0.2414 - accuracy: 0.8936 - val_loss: 0.2739 - val_accuracy: 0.8901\n",
            "Epoch 76/100\n",
            "43/43 [==============================] - 8s 177ms/step - loss: 0.2215 - accuracy: 0.8966 - val_loss: 0.2793 - val_accuracy: 0.8846\n",
            "Epoch 77/100\n",
            "43/43 [==============================] - 8s 180ms/step - loss: 0.2224 - accuracy: 0.9053 - val_loss: 0.2758 - val_accuracy: 0.8984\n",
            "Epoch 78/100\n",
            "43/43 [==============================] - 8s 179ms/step - loss: 0.1876 - accuracy: 0.9292 - val_loss: 0.2763 - val_accuracy: 0.8874\n",
            "Epoch 79/100\n",
            "43/43 [==============================] - 8s 178ms/step - loss: 0.2030 - accuracy: 0.9103 - val_loss: 0.2802 - val_accuracy: 0.8846\n",
            "Epoch 80/100\n",
            "43/43 [==============================] - 8s 179ms/step - loss: 0.1863 - accuracy: 0.9204 - val_loss: 0.2795 - val_accuracy: 0.8874\n",
            "Epoch 81/100\n",
            "43/43 [==============================] - 8s 178ms/step - loss: 0.2231 - accuracy: 0.8961 - val_loss: 0.2877 - val_accuracy: 0.8874\n",
            "Epoch 82/100\n",
            "43/43 [==============================] - 8s 179ms/step - loss: 0.2314 - accuracy: 0.9036 - val_loss: 0.2820 - val_accuracy: 0.8846\n",
            "Epoch 83/100\n",
            "43/43 [==============================] - 8s 179ms/step - loss: 0.2078 - accuracy: 0.9154 - val_loss: 0.2770 - val_accuracy: 0.8874\n",
            "Epoch 84/100\n",
            "43/43 [==============================] - 8s 181ms/step - loss: 0.2286 - accuracy: 0.8997 - val_loss: 0.2765 - val_accuracy: 0.8846\n",
            "Epoch 85/100\n",
            "43/43 [==============================] - 8s 181ms/step - loss: 0.2100 - accuracy: 0.9006 - val_loss: 0.2820 - val_accuracy: 0.8901\n",
            "Epoch 86/100\n",
            "43/43 [==============================] - 8s 178ms/step - loss: 0.1956 - accuracy: 0.9133 - val_loss: 0.2775 - val_accuracy: 0.8901\n",
            "Epoch 87/100\n",
            "43/43 [==============================] - 8s 179ms/step - loss: 0.2050 - accuracy: 0.9052 - val_loss: 0.2807 - val_accuracy: 0.8846\n",
            "Epoch 88/100\n",
            "43/43 [==============================] - 8s 178ms/step - loss: 0.2059 - accuracy: 0.9235 - val_loss: 0.2793 - val_accuracy: 0.8846\n",
            "Epoch 89/100\n",
            "43/43 [==============================] - 8s 178ms/step - loss: 0.2091 - accuracy: 0.9114 - val_loss: 0.2784 - val_accuracy: 0.8874\n",
            "Epoch 90/100\n",
            "43/43 [==============================] - 8s 178ms/step - loss: 0.1911 - accuracy: 0.9076 - val_loss: 0.2908 - val_accuracy: 0.8929\n",
            "Epoch 91/100\n",
            "43/43 [==============================] - 8s 177ms/step - loss: 0.1956 - accuracy: 0.9186 - val_loss: 0.3025 - val_accuracy: 0.8791\n",
            "Epoch 92/100\n",
            "43/43 [==============================] - 8s 179ms/step - loss: 0.1928 - accuracy: 0.9274 - val_loss: 0.2820 - val_accuracy: 0.8874\n",
            "Epoch 93/100\n",
            "43/43 [==============================] - 8s 179ms/step - loss: 0.2014 - accuracy: 0.9213 - val_loss: 0.2799 - val_accuracy: 0.8956\n",
            "Epoch 94/100\n",
            "43/43 [==============================] - 8s 178ms/step - loss: 0.2117 - accuracy: 0.9052 - val_loss: 0.2833 - val_accuracy: 0.8929\n",
            "Epoch 95/100\n",
            "43/43 [==============================] - 8s 178ms/step - loss: 0.1845 - accuracy: 0.9269 - val_loss: 0.2851 - val_accuracy: 0.8956\n",
            "Epoch 96/100\n",
            "43/43 [==============================] - 8s 178ms/step - loss: 0.2086 - accuracy: 0.9122 - val_loss: 0.2901 - val_accuracy: 0.8956\n",
            "Epoch 97/100\n",
            "43/43 [==============================] - 8s 178ms/step - loss: 0.1808 - accuracy: 0.9317 - val_loss: 0.2881 - val_accuracy: 0.8929\n",
            "Epoch 98/100\n",
            "43/43 [==============================] - 8s 178ms/step - loss: 0.1572 - accuracy: 0.9439 - val_loss: 0.2842 - val_accuracy: 0.8929\n",
            "Epoch 99/100\n",
            "43/43 [==============================] - 8s 178ms/step - loss: 0.1898 - accuracy: 0.9153 - val_loss: 0.2879 - val_accuracy: 0.8901\n",
            "Epoch 100/100\n",
            "43/43 [==============================] - 8s 178ms/step - loss: 0.1882 - accuracy: 0.9222 - val_loss: 0.2785 - val_accuracy: 0.8929\n"
          ],
          "name": "stdout"
        }
      ]
    },
    {
      "cell_type": "code",
      "metadata": {
        "id": "UV-VPb-lA3jc"
      },
      "source": [
        ""
      ],
      "execution_count": null,
      "outputs": []
    },
    {
      "cell_type": "code",
      "metadata": {
        "id": "P0Fk-e8wA3jd",
        "colab": {
          "base_uri": "https://localhost:8080/",
          "height": 308
        },
        "outputId": "0e02cae7-dd41-4d2a-e911-81ada353da59"
      },
      "source": [
        "f, (ax1, ax2) = plt.subplots(1, 2, figsize=(12, 4))\n",
        "t = f.suptitle('Pre-trained CNN (Transfer Learning) Performance', fontsize=12)\n",
        "f.subplots_adjust(top=0.85, wspace=0.3)\n",
        "\n",
        "epoch_list = list(range(1,101))\n",
        "ax1.plot(epoch_list, history.history['accuracy'], label='Train Accuracy')\n",
        "ax1.plot(epoch_list, history.history['val_accuracy'], label='Validation Accuracy')\n",
        "ax1.set_xticks(np.arange(0, 101, 5))\n",
        "ax1.set_ylabel('Accuracy Value')\n",
        "ax1.set_xlabel('Epoch')\n",
        "ax1.set_title('Accuracy')\n",
        "l1 = ax1.legend(loc=\"best\")\n",
        "\n",
        "ax2.plot(epoch_list, history.history['loss'], label='Train Loss')\n",
        "ax2.plot(epoch_list, history.history['val_loss'], label='Validation Loss')\n",
        "ax2.set_xticks(np.arange(0, 101, 5))\n",
        "ax2.set_ylabel('Loss Value')\n",
        "ax2.set_xlabel('Epoch')\n",
        "ax2.set_title('Loss')\n",
        "l2 = ax2.legend(loc=\"best\")"
      ],
      "execution_count": 19,
      "outputs": [
        {
          "output_type": "display_data",
          "data": {
            "image/png": "[encoded data removed]",
            "text/plain": [
              "<Figure size 864x288 with 2 Axes>"
            ]
          },
          "metadata": {
            "tags": [],
            "needs_background": "light"
          }
        }
      ]
    },
    {
      "cell_type": "code",
      "metadata": {
        "id": "wHLV0XfKA3jd"
      },
      "source": [
        "model.save('2-flower.h5')"
      ],
      "execution_count": null,
      "outputs": []
    },
    {
      "cell_type": "code",
      "metadata": {
        "id": "eBjX3kbpA3je"
      },
      "source": [
        ""
      ],
      "execution_count": null,
      "outputs": []
    },
    {
      "cell_type": "code",
      "metadata": {
        "id": "3IaOWSbaA3je"
      },
      "source": [
        ""
      ],
      "execution_count": null,
      "outputs": []
    },
    {
      "cell_type": "code",
      "metadata": {
        "id": "Q7SzUeawA3jn"
      },
      "source": [
        ""
      ],
      "execution_count": null,
      "outputs": []
    }
  ]
}
