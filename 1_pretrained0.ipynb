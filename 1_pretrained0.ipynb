{
  "nbformat": 4,
  "nbformat_minor": 0,
  "metadata": {
    "accelerator": "GPU",
    "colab": {
      "name": "1_pretrained0.ipynb",
      "provenance": [],
      "collapsed_sections": [],
      "mount_file_id": "1NCFuDpvoOeUTWL2Cbggc_Ynp6Nme1DeN",
      "authorship_tag": "ABX9TyNnLcj5vL6NMPpwuEmlrTQ4",
      "include_colab_link": true
    },
    "kernelspec": {
      "display_name": "Python 3",
      "name": "python3"
    }
  },
  "cells": [
    {
      "cell_type": "markdown",
      "metadata": {
        "id": "view-in-github",
        "colab_type": "text"
      },
      "source": [
        "<a href=\"https://colab.research.google.com/github/qwerlarlgus/CNN-Daisy-Dandelion/blob/main/1_pretrained0.ipynb\" target=\"_parent\"><img src=\"https://colab.research.google.com/assets/colab-badge.svg\" alt=\"Open In Colab\"/></a>"
      ]
    },
    {
      "cell_type": "code",
      "metadata": {
        "colab": {
          "base_uri": "https://localhost:8080/"
        },
        "id": "22mg_PXnCKsU",
        "outputId": "3598ce76-a602-4aa5-fbdd-811ab524e9a2"
      },
      "source": [
        "from google.colab import drive\n",
        "drive.mount('/content/drive')"
      ],
      "execution_count": 1,
      "outputs": [
        {
          "output_type": "stream",
          "text": [
            "Mounted at /content/drive\n"
          ],
          "name": "stdout"
        }
      ]
    },
    {
      "cell_type": "code",
      "metadata": {
        "id": "6giq8ls1A3jN"
      },
      "source": [
        "%matplotlib inline"
      ],
      "execution_count": 2,
      "outputs": []
    },
    {
      "cell_type": "code",
      "metadata": {
        "colab": {
          "base_uri": "https://localhost:8080/"
        },
        "id": "4jFbvwjXVgWE",
        "outputId": "03b68f22-9ef4-4f24-9f6c-7afd32a996c0"
      },
      "source": [
        "!pwd"
      ],
      "execution_count": 3,
      "outputs": [
        {
          "output_type": "stream",
          "text": [
            "/content\n"
          ],
          "name": "stdout"
        }
      ]
    },
    {
      "cell_type": "code",
      "metadata": {
        "colab": {
          "base_uri": "https://localhost:8080/"
        },
        "id": "B9GBtXmwA47m",
        "outputId": "8a96e5c0-8344-489d-992d-42645ad4940e"
      },
      "source": [
        "!ls -l"
      ],
      "execution_count": 4,
      "outputs": [
        {
          "output_type": "stream",
          "text": [
            "total 8\n",
            "drwx------ 5 root root 4096 Jan 25 08:16 drive\n",
            "drwxr-xr-x 1 root root 4096 Jan 20 17:27 sample_data\n"
          ],
          "name": "stdout"
        }
      ]
    },
    {
      "cell_type": "code",
      "metadata": {
        "id": "FWj06i8uA6OO"
      },
      "source": [
        "!cp ./drive/MyDrive/Flower.zip ."
      ],
      "execution_count": 5,
      "outputs": []
    },
    {
      "cell_type": "code",
      "metadata": {
        "id": "AEJfrotXA58E"
      },
      "source": [
        "!unzip Flower.zip\r\n"
      ],
      "execution_count": null,
      "outputs": []
    },
    {
      "cell_type": "code",
      "metadata": {
        "id": "KPy5I5SBA3jW"
      },
      "source": [
        "import glob\n",
        "import numpy as np\n",
        "import matplotlib.pyplot as plt\n",
        "from tensorflow.keras.preprocessing.image import ImageDataGenerator, load_img, img_to_array, array_to_img"
      ],
      "execution_count": 7,
      "outputs": []
    },
    {
      "cell_type": "code",
      "metadata": {
        "colab": {
          "base_uri": "https://localhost:8080/"
        },
        "id": "eZImnfGOA3jX",
        "outputId": "f6046bbd-65fa-4da5-845a-409a7b5344c1"
      },
      "source": [
        "IMG_DIM = (150, 150)\n",
        "\n",
        "train_files = glob.glob('training_data/*')\n",
        "train_imgs = [img_to_array(load_img(img, target_size=IMG_DIM)) for img in train_files]\n",
        "train_imgs = np.array(train_imgs)\n",
        "train_labels = [fn.split('/')[1].split('.')[0].strip() for fn in train_files]\n",
        "\n",
        "validation_files = glob.glob('validation_data/*')\n",
        "validation_imgs = [img_to_array(load_img(img, target_size=IMG_DIM)) for img in validation_files]\n",
        "validation_imgs = np.array(validation_imgs)\n",
        "validation_labels = [fn.split('/')[1].split('.')[0].strip() for fn in validation_files]\n",
        "\n",
        "print('Train dataset shape:', train_imgs.shape, \n",
        "      '\\tValidation dataset shape:', validation_imgs.shape)"
      ],
      "execution_count": 8,
      "outputs": [
        {
          "output_type": "stream",
          "text": [
            "Train dataset shape: (1275, 150, 150, 3) \tValidation dataset shape: (364, 150, 150, 3)\n"
          ],
          "name": "stdout"
        }
      ]
    },
    {
      "cell_type": "code",
      "metadata": {
        "id": "OiDa5o60A3jX"
      },
      "source": [
        "train_imgs_scaled = train_imgs.astype('float32')\n",
        "validation_imgs_scaled = validation_imgs.astype('float32')\n",
        "train_imgs_scaled /= 255\n",
        "validation_imgs_scaled /= 255"
      ],
      "execution_count": 9,
      "outputs": []
    },
    {
      "cell_type": "code",
      "metadata": {
        "colab": {
          "base_uri": "https://localhost:8080/"
        },
        "id": "COLKZn79A3jY",
        "outputId": "99f97364-dab4-4d18-8b66-0d8ce06ef01d"
      },
      "source": [
        "batch_size = 50\n",
        "num_classes = 2\n",
        "epochs = 150\n",
        "input_shape = (150, 150, 3)\n",
        "\n",
        "from sklearn.preprocessing import LabelEncoder\n",
        "\n",
        "le = LabelEncoder()\n",
        "le.fit(train_labels)\n",
        "# encode wine type labels\n",
        "train_labels_enc = le.transform(train_labels)\n",
        "validation_labels_enc = le.transform(validation_labels)\n",
        "\n",
        "print(train_labels[0:5], train_labels_enc[0:5])"
      ],
      "execution_count": 10,
      "outputs": [
        {
          "output_type": "stream",
          "text": [
            "['daisy', 'dandelion', 'dandelion', 'daisy', 'dandelion'] [0 1 1 0 1]\n"
          ],
          "name": "stdout"
        }
      ]
    },
    {
      "cell_type": "code",
      "metadata": {
        "colab": {
          "base_uri": "https://localhost:8080/"
        },
        "id": "9fVVMivMA3jZ",
        "outputId": "5c981755-4c19-40ba-f4dc-1c21552fd140"
      },
      "source": [
        "\n",
        "from tensorflow.keras.applications import vgg16\n",
        "from tensorflow.keras.models import Model\n",
        "import tensorflow.keras\n",
        "\n",
        "vgg = vgg16.VGG16(include_top=False, weights='imagenet',\n",
        "                                     input_shape=input_shape)\n",
        "\n",
        "output = vgg.layers[-1].output\n",
        "output = tensorflow.keras.layers.Flatten()(output)\n",
        "\n",
        "vgg_model = Model(vgg.input, output)\n",
        "vgg_model.trainable = False\n",
        "\n",
        "for layer in vgg_model.layers:\n",
        "    layer.trainable = False\n",
        "\n",
        "vgg_model.summary()\n"
      ],
      "execution_count": 11,
      "outputs": [
        {
          "output_type": "stream",
          "text": [
            "Downloading data from https://storage.googleapis.com/tensorflow/keras-applications/vgg16/vgg16_weights_tf_dim_ordering_tf_kernels_notop.h5\n",
            "58892288/58889256 [==============================] - 0s 0us/step\n",
            "Model: \"model\"\n",
            "_________________________________________________________________\n",
            "Layer (type)                 Output Shape              Param #   \n",
            "=================================================================\n",
            "input_1 (InputLayer)         [(None, 150, 150, 3)]     0         \n",
            "_________________________________________________________________\n",
            "block1_conv1 (Conv2D)        (None, 150, 150, 64)      1792      \n",
            "_________________________________________________________________\n",
            "block1_conv2 (Conv2D)        (None, 150, 150, 64)      36928     \n",
            "_________________________________________________________________\n",
            "block1_pool (MaxPooling2D)   (None, 75, 75, 64)        0         \n",
            "_________________________________________________________________\n",
            "block2_conv1 (Conv2D)        (None, 75, 75, 128)       73856     \n",
            "_________________________________________________________________\n",
            "block2_conv2 (Conv2D)        (None, 75, 75, 128)       147584    \n",
            "_________________________________________________________________\n",
            "block2_pool (MaxPooling2D)   (None, 37, 37, 128)       0         \n",
            "_________________________________________________________________\n",
            "block3_conv1 (Conv2D)        (None, 37, 37, 256)       295168    \n",
            "_________________________________________________________________\n",
            "block3_conv2 (Conv2D)        (None, 37, 37, 256)       590080    \n",
            "_________________________________________________________________\n",
            "block3_conv3 (Conv2D)        (None, 37, 37, 256)       590080    \n",
            "_________________________________________________________________\n",
            "block3_pool (MaxPooling2D)   (None, 18, 18, 256)       0         \n",
            "_________________________________________________________________\n",
            "block4_conv1 (Conv2D)        (None, 18, 18, 512)       1180160   \n",
            "_________________________________________________________________\n",
            "block4_conv2 (Conv2D)        (None, 18, 18, 512)       2359808   \n",
            "_________________________________________________________________\n",
            "block4_conv3 (Conv2D)        (None, 18, 18, 512)       2359808   \n",
            "_________________________________________________________________\n",
            "block4_pool (MaxPooling2D)   (None, 9, 9, 512)         0         \n",
            "_________________________________________________________________\n",
            "block5_conv1 (Conv2D)        (None, 9, 9, 512)         2359808   \n",
            "_________________________________________________________________\n",
            "block5_conv2 (Conv2D)        (None, 9, 9, 512)         2359808   \n",
            "_________________________________________________________________\n",
            "block5_conv3 (Conv2D)        (None, 9, 9, 512)         2359808   \n",
            "_________________________________________________________________\n",
            "block5_pool (MaxPooling2D)   (None, 4, 4, 512)         0         \n",
            "_________________________________________________________________\n",
            "flatten (Flatten)            (None, 8192)              0         \n",
            "=================================================================\n",
            "Total params: 14,714,688\n",
            "Trainable params: 0\n",
            "Non-trainable params: 14,714,688\n",
            "_________________________________________________________________\n"
          ],
          "name": "stdout"
        }
      ]
    },
    {
      "cell_type": "code",
      "metadata": {
        "colab": {
          "base_uri": "https://localhost:8080/",
          "height": 1000
        },
        "id": "T9SDjC3EA3jZ",
        "outputId": "2b5cdeb7-333e-4746-b47f-5b9918e5cfb2"
      },
      "source": [
        "import pandas as pd\n",
        "pd.set_option('max_colwidth', -1)\n",
        "\n",
        "layers = [(layer, layer.name, layer.trainable) for layer in vgg_model.layers]\n",
        "pd.DataFrame(layers, columns=['Layer Type', 'Layer Name', 'Layer Trainable'])"
      ],
      "execution_count": 12,
      "outputs": [
        {
          "output_type": "stream",
          "text": [
            "/usr/local/lib/python3.6/dist-packages/ipykernel_launcher.py:2: FutureWarning: Passing a negative integer is deprecated in version 1.0 and will not be supported in future version. Instead, use None to not limit the column width.\n",
            "  \n"
          ],
          "name": "stderr"
        },
        {
          "output_type": "execute_result",
          "data": {
            "text/html": [
              "<div>\n",
              "<style scoped>\n",
              "    .dataframe tbody tr th:only-of-type {\n",
              "        vertical-align: middle;\n",
              "    }\n",
              "\n",
              "    .dataframe tbody tr th {\n",
              "        vertical-align: top;\n",
              "    }\n",
              "\n",
              "    .dataframe thead th {\n",
              "        text-align: right;\n",
              "    }\n",
              "</style>\n",
              "<table border=\"1\" class=\"dataframe\">\n",
              "  <thead>\n",
              "    <tr style=\"text-align: right;\">\n",
              "      <th></th>\n",
              "      <th>Layer Type</th>\n",
              "      <th>Layer Name</th>\n",
              "      <th>Layer Trainable</th>\n",
              "    </tr>\n",
              "  </thead>\n",
              "  <tbody>\n",
              "    <tr>\n",
              "      <th>0</th>\n",
              "      <td>&lt;tensorflow.python.keras.engine.input_layer.InputLayer object at 0x7efe449e4710&gt;</td>\n",
              "      <td>input_1</td>\n",
              "      <td>False</td>\n",
              "    </tr>\n",
              "    <tr>\n",
              "      <th>1</th>\n",
              "      <td>&lt;tensorflow.python.keras.layers.convolutional.Conv2D object at 0x7efe44998f60&gt;</td>\n",
              "      <td>block1_conv1</td>\n",
              "      <td>False</td>\n",
              "    </tr>\n",
              "    <tr>\n",
              "      <th>2</th>\n",
              "      <td>&lt;tensorflow.python.keras.layers.convolutional.Conv2D object at 0x7efe449c1f28&gt;</td>\n",
              "      <td>block1_conv2</td>\n",
              "      <td>False</td>\n",
              "    </tr>\n",
              "    <tr>\n",
              "      <th>3</th>\n",
              "      <td>&lt;tensorflow.python.keras.layers.pooling.MaxPooling2D object at 0x7efe306c1320&gt;</td>\n",
              "      <td>block1_pool</td>\n",
              "      <td>False</td>\n",
              "    </tr>\n",
              "    <tr>\n",
              "      <th>4</th>\n",
              "      <td>&lt;tensorflow.python.keras.layers.convolutional.Conv2D object at 0x7efe306c83c8&gt;</td>\n",
              "      <td>block2_conv1</td>\n",
              "      <td>False</td>\n",
              "    </tr>\n",
              "    <tr>\n",
              "      <th>5</th>\n",
              "      <td>&lt;tensorflow.python.keras.layers.convolutional.Conv2D object at 0x7efe306c8f98&gt;</td>\n",
              "      <td>block2_conv2</td>\n",
              "      <td>False</td>\n",
              "    </tr>\n",
              "    <tr>\n",
              "      <th>6</th>\n",
              "      <td>&lt;tensorflow.python.keras.layers.pooling.MaxPooling2D object at 0x7efe306cf710&gt;</td>\n",
              "      <td>block2_pool</td>\n",
              "      <td>False</td>\n",
              "    </tr>\n",
              "    <tr>\n",
              "      <th>7</th>\n",
              "      <td>&lt;tensorflow.python.keras.layers.convolutional.Conv2D object at 0x7efe306d4668&gt;</td>\n",
              "      <td>block3_conv1</td>\n",
              "      <td>False</td>\n",
              "    </tr>\n",
              "    <tr>\n",
              "      <th>8</th>\n",
              "      <td>&lt;tensorflow.python.keras.layers.convolutional.Conv2D object at 0x7efe306d4080&gt;</td>\n",
              "      <td>block3_conv2</td>\n",
              "      <td>False</td>\n",
              "    </tr>\n",
              "    <tr>\n",
              "      <th>9</th>\n",
              "      <td>&lt;tensorflow.python.keras.layers.convolutional.Conv2D object at 0x7efe306dada0&gt;</td>\n",
              "      <td>block3_conv3</td>\n",
              "      <td>False</td>\n",
              "    </tr>\n",
              "    <tr>\n",
              "      <th>10</th>\n",
              "      <td>&lt;tensorflow.python.keras.layers.pooling.MaxPooling2D object at 0x7efe306e3e48&gt;</td>\n",
              "      <td>block3_pool</td>\n",
              "      <td>False</td>\n",
              "    </tr>\n",
              "    <tr>\n",
              "      <th>11</th>\n",
              "      <td>&lt;tensorflow.python.keras.layers.convolutional.Conv2D object at 0x7efe306e7f98&gt;</td>\n",
              "      <td>block4_conv1</td>\n",
              "      <td>False</td>\n",
              "    </tr>\n",
              "    <tr>\n",
              "      <th>12</th>\n",
              "      <td>&lt;tensorflow.python.keras.layers.convolutional.Conv2D object at 0x7efe306e7550&gt;</td>\n",
              "      <td>block4_conv2</td>\n",
              "      <td>False</td>\n",
              "    </tr>\n",
              "    <tr>\n",
              "      <th>13</th>\n",
              "      <td>&lt;tensorflow.python.keras.layers.convolutional.Conv2D object at 0x7efe44188cc0&gt;</td>\n",
              "      <td>block4_conv3</td>\n",
              "      <td>False</td>\n",
              "    </tr>\n",
              "    <tr>\n",
              "      <th>14</th>\n",
              "      <td>&lt;tensorflow.python.keras.layers.pooling.MaxPooling2D object at 0x7efe3066f550&gt;</td>\n",
              "      <td>block4_pool</td>\n",
              "      <td>False</td>\n",
              "    </tr>\n",
              "    <tr>\n",
              "      <th>15</th>\n",
              "      <td>&lt;tensorflow.python.keras.layers.convolutional.Conv2D object at 0x7efe3066f048&gt;</td>\n",
              "      <td>block5_conv1</td>\n",
              "      <td>False</td>\n",
              "    </tr>\n",
              "    <tr>\n",
              "      <th>16</th>\n",
              "      <td>&lt;tensorflow.python.keras.layers.convolutional.Conv2D object at 0x7efe306daac8&gt;</td>\n",
              "      <td>block5_conv2</td>\n",
              "      <td>False</td>\n",
              "    </tr>\n",
              "    <tr>\n",
              "      <th>17</th>\n",
              "      <td>&lt;tensorflow.python.keras.layers.convolutional.Conv2D object at 0x7efe3067da90&gt;</td>\n",
              "      <td>block5_conv3</td>\n",
              "      <td>False</td>\n",
              "    </tr>\n",
              "    <tr>\n",
              "      <th>18</th>\n",
              "      <td>&lt;tensorflow.python.keras.layers.pooling.MaxPooling2D object at 0x7efe306894a8&gt;</td>\n",
              "      <td>block5_pool</td>\n",
              "      <td>False</td>\n",
              "    </tr>\n",
              "    <tr>\n",
              "      <th>19</th>\n",
              "      <td>&lt;tensorflow.python.keras.layers.core.Flatten object at 0x7efe3067d978&gt;</td>\n",
              "      <td>flatten</td>\n",
              "      <td>False</td>\n",
              "    </tr>\n",
              "  </tbody>\n",
              "</table>\n",
              "</div>"
            ],
            "text/plain": [
              "                                                                          Layer Type  ... Layer Trainable\n",
              "0   <tensorflow.python.keras.engine.input_layer.InputLayer object at 0x7efe449e4710>  ...  False         \n",
              "1   <tensorflow.python.keras.layers.convolutional.Conv2D object at 0x7efe44998f60>    ...  False         \n",
              "2   <tensorflow.python.keras.layers.convolutional.Conv2D object at 0x7efe449c1f28>    ...  False         \n",
              "3   <tensorflow.python.keras.layers.pooling.MaxPooling2D object at 0x7efe306c1320>    ...  False         \n",
              "4   <tensorflow.python.keras.layers.convolutional.Conv2D object at 0x7efe306c83c8>    ...  False         \n",
              "5   <tensorflow.python.keras.layers.convolutional.Conv2D object at 0x7efe306c8f98>    ...  False         \n",
              "6   <tensorflow.python.keras.layers.pooling.MaxPooling2D object at 0x7efe306cf710>    ...  False         \n",
              "7   <tensorflow.python.keras.layers.convolutional.Conv2D object at 0x7efe306d4668>    ...  False         \n",
              "8   <tensorflow.python.keras.layers.convolutional.Conv2D object at 0x7efe306d4080>    ...  False         \n",
              "9   <tensorflow.python.keras.layers.convolutional.Conv2D object at 0x7efe306dada0>    ...  False         \n",
              "10  <tensorflow.python.keras.layers.pooling.MaxPooling2D object at 0x7efe306e3e48>    ...  False         \n",
              "11  <tensorflow.python.keras.layers.convolutional.Conv2D object at 0x7efe306e7f98>    ...  False         \n",
              "12  <tensorflow.python.keras.layers.convolutional.Conv2D object at 0x7efe306e7550>    ...  False         \n",
              "13  <tensorflow.python.keras.layers.convolutional.Conv2D object at 0x7efe44188cc0>    ...  False         \n",
              "14  <tensorflow.python.keras.layers.pooling.MaxPooling2D object at 0x7efe3066f550>    ...  False         \n",
              "15  <tensorflow.python.keras.layers.convolutional.Conv2D object at 0x7efe3066f048>    ...  False         \n",
              "16  <tensorflow.python.keras.layers.convolutional.Conv2D object at 0x7efe306daac8>    ...  False         \n",
              "17  <tensorflow.python.keras.layers.convolutional.Conv2D object at 0x7efe3067da90>    ...  False         \n",
              "18  <tensorflow.python.keras.layers.pooling.MaxPooling2D object at 0x7efe306894a8>    ...  False         \n",
              "19  <tensorflow.python.keras.layers.core.Flatten object at 0x7efe3067d978>            ...  False         \n",
              "\n",
              "[20 rows x 3 columns]"
            ]
          },
          "metadata": {
            "tags": []
          },
          "execution_count": 12
        }
      ]
    },
    {
      "cell_type": "code",
      "metadata": {
        "colab": {
          "base_uri": "https://localhost:8080/"
        },
        "id": "OvJvrtrgA3ja",
        "outputId": "abb19e38-a943-43f3-9fac-95da5a45a750"
      },
      "source": [
        "print(\"Trainable layers:\", vgg_model.trainable_weights)"
      ],
      "execution_count": 13,
      "outputs": [
        {
          "output_type": "stream",
          "text": [
            "Trainable layers: []\n"
          ],
          "name": "stdout"
        }
      ]
    },
    {
      "cell_type": "code",
      "metadata": {
        "colab": {
          "base_uri": "https://localhost:8080/",
          "height": 304
        },
        "id": "J_Zbyst4A3ja",
        "outputId": "85990f7e-20f0-40c8-f1a9-3aa506565ae0"
      },
      "source": [
        "bottleneck_feature_example = vgg.predict(train_imgs_scaled[0:1])\n",
        "print(bottleneck_feature_example.shape)\n",
        "plt.imshow(bottleneck_feature_example[0][:,:,0])"
      ],
      "execution_count": 14,
      "outputs": [
        {
          "output_type": "stream",
          "text": [
            "(1, 4, 4, 512)\n"
          ],
          "name": "stdout"
        },
        {
          "output_type": "execute_result",
          "data": {
            "text/plain": [
              "<matplotlib.image.AxesImage at 0x7efe300ab3c8>"
            ]
          },
          "metadata": {
            "tags": []
          },
          "execution_count": 14
        },
        {
          "output_type": "display_data",
          "data": {
            "image/png": "[encoded data removed]",
            "text/plain": [
              "<Figure size 432x288 with 1 Axes>"
            ]
          },
          "metadata": {
            "tags": [],
            "needs_background": "light"
          }
        }
      ]
    },
    {
      "cell_type": "code",
      "metadata": {
        "id": "_8LY2OOaA3jb"
      },
      "source": [
        "def get_bottleneck_features(model, input_imgs):\n",
        "    \n",
        "    features = model.predict(input_imgs, verbose=0)\n",
        "    return features"
      ],
      "execution_count": 15,
      "outputs": []
    },
    {
      "cell_type": "code",
      "metadata": {
        "colab": {
          "base_uri": "https://localhost:8080/"
        },
        "id": "8sekjWocA3jb",
        "outputId": "6768102e-0c24-434a-fed5-4d19c7231d00"
      },
      "source": [
        "train_features_vgg = get_bottleneck_features(vgg_model, train_imgs_scaled)\n",
        "validation_features_vgg = get_bottleneck_features(vgg_model, validation_imgs_scaled)\n",
        "\n",
        "print('Train Bottleneck Features:', train_features_vgg.shape, \n",
        "      '\\tValidation Bottleneck Features:', validation_features_vgg.shape)"
      ],
      "execution_count": 16,
      "outputs": [
        {
          "output_type": "stream",
          "text": [
            "Train Bottleneck Features: (1275, 8192) \tValidation Bottleneck Features: (364, 8192)\n"
          ],
          "name": "stdout"
        }
      ]
    },
    {
      "cell_type": "code",
      "metadata": {
        "colab": {
          "base_uri": "https://localhost:8080/"
        },
        "id": "oXhFf4HLA3jc",
        "outputId": "743c16f2-3243-405b-9a95-d739c408facc"
      },
      "source": [
        "from tensorflow.keras.layers import Conv2D, MaxPooling2D, Flatten, Dense, Dropout, InputLayer\n",
        "from tensorflow.keras.models import Sequential\n",
        "from tensorflow.keras import optimizers\n",
        "\n",
        "input_shape = vgg_model.output_shape[1]\n",
        "\n",
        "model = Sequential()\n",
        "model.add(InputLayer(input_shape=(input_shape,)))\n",
        "model.add(Dense(512, activation='relu', input_dim=input_shape))\n",
        "model.add(Dropout(0.3))\n",
        "model.add(Dense(64, activation='relu'))\n",
        "model.add(Dropout(0.3))\n",
        "model.add(Dense(1, activation='sigmoid'))\n",
        "\n",
        "model.compile(loss='binary_crossentropy',\n",
        "              optimizer=optimizers.RMSprop(lr=1e-4),\n",
        "              metrics=['accuracy'])\n",
        "\n",
        "model.summary()"
      ],
      "execution_count": 17,
      "outputs": [
        {
          "output_type": "stream",
          "text": [
            "Model: \"sequential\"\n",
            "_________________________________________________________________\n",
            "Layer (type)                 Output Shape              Param #   \n",
            "=================================================================\n",
            "dense (Dense)                (None, 512)               4194816   \n",
            "_________________________________________________________________\n",
            "dropout (Dropout)            (None, 512)               0         \n",
            "_________________________________________________________________\n",
            "dense_1 (Dense)              (None, 64)                32832     \n",
            "_________________________________________________________________\n",
            "dropout_1 (Dropout)          (None, 64)                0         \n",
            "_________________________________________________________________\n",
            "dense_2 (Dense)              (None, 1)                 65        \n",
            "=================================================================\n",
            "Total params: 4,227,713\n",
            "Trainable params: 4,227,713\n",
            "Non-trainable params: 0\n",
            "_________________________________________________________________\n"
          ],
          "name": "stdout"
        }
      ]
    },
    {
      "cell_type": "code",
      "metadata": {
        "colab": {
          "base_uri": "https://localhost:8080/"
        },
        "id": "UV-VPb-lA3jc",
        "outputId": "90ef6a79-9345-480d-d4af-a64e59237ec2"
      },
      "source": [
        "history = model.fit(x=train_features_vgg, y=train_labels_enc,\n",
        "                    validation_data=(validation_features_vgg, validation_labels_enc),\n",
        "                    batch_size=batch_size,\n",
        "                    epochs=epochs,\n",
        "                    verbose=1)"
      ],
      "execution_count": 18,
      "outputs": [
        {
          "output_type": "stream",
          "text": [
            "Epoch 1/150\n",
            "26/26 [==============================] - 1s 20ms/step - loss: 0.6111 - accuracy: 0.6813 - val_loss: 0.3522 - val_accuracy: 0.8516\n",
            "Epoch 2/150\n",
            "26/26 [==============================] - 0s 6ms/step - loss: 0.3520 - accuracy: 0.8512 - val_loss: 0.3302 - val_accuracy: 0.8626\n",
            "Epoch 3/150\n",
            "26/26 [==============================] - 0s 10ms/step - loss: 0.2956 - accuracy: 0.8668 - val_loss: 0.3087 - val_accuracy: 0.8626\n",
            "Epoch 4/150\n",
            "26/26 [==============================] - 0s 6ms/step - loss: 0.2222 - accuracy: 0.9109 - val_loss: 0.2978 - val_accuracy: 0.8709\n",
            "Epoch 5/150\n",
            "26/26 [==============================] - 0s 6ms/step - loss: 0.2248 - accuracy: 0.9131 - val_loss: 0.3501 - val_accuracy: 0.8297\n",
            "Epoch 6/150\n",
            "26/26 [==============================] - 0s 6ms/step - loss: 0.1895 - accuracy: 0.9250 - val_loss: 0.2981 - val_accuracy: 0.8736\n",
            "Epoch 7/150\n",
            "26/26 [==============================] - 0s 6ms/step - loss: 0.1801 - accuracy: 0.9242 - val_loss: 0.3825 - val_accuracy: 0.8516\n",
            "Epoch 8/150\n",
            "26/26 [==============================] - 0s 6ms/step - loss: 0.1732 - accuracy: 0.9340 - val_loss: 0.3320 - val_accuracy: 0.8571\n",
            "Epoch 9/150\n",
            "26/26 [==============================] - 0s 6ms/step - loss: 0.1396 - accuracy: 0.9499 - val_loss: 0.3177 - val_accuracy: 0.8846\n",
            "Epoch 10/150\n",
            "26/26 [==============================] - 0s 6ms/step - loss: 0.1137 - accuracy: 0.9543 - val_loss: 0.3396 - val_accuracy: 0.8599\n",
            "Epoch 11/150\n",
            "26/26 [==============================] - 0s 6ms/step - loss: 0.1028 - accuracy: 0.9676 - val_loss: 0.3987 - val_accuracy: 0.8434\n",
            "Epoch 12/150\n",
            "26/26 [==============================] - 0s 6ms/step - loss: 0.0746 - accuracy: 0.9766 - val_loss: 0.3424 - val_accuracy: 0.8709\n",
            "Epoch 13/150\n",
            "26/26 [==============================] - 0s 6ms/step - loss: 0.0743 - accuracy: 0.9808 - val_loss: 0.3723 - val_accuracy: 0.8791\n",
            "Epoch 14/150\n",
            "26/26 [==============================] - 0s 6ms/step - loss: 0.0712 - accuracy: 0.9761 - val_loss: 0.3853 - val_accuracy: 0.8681\n",
            "Epoch 15/150\n",
            "26/26 [==============================] - 0s 6ms/step - loss: 0.0657 - accuracy: 0.9799 - val_loss: 0.6855 - val_accuracy: 0.7610\n",
            "Epoch 16/150\n",
            "26/26 [==============================] - 0s 6ms/step - loss: 0.0733 - accuracy: 0.9796 - val_loss: 0.3902 - val_accuracy: 0.8736\n",
            "Epoch 17/150\n",
            "26/26 [==============================] - 0s 7ms/step - loss: 0.0495 - accuracy: 0.9847 - val_loss: 0.4174 - val_accuracy: 0.8819\n",
            "Epoch 18/150\n",
            "26/26 [==============================] - 0s 6ms/step - loss: 0.0385 - accuracy: 0.9890 - val_loss: 0.8165 - val_accuracy: 0.8324\n",
            "Epoch 19/150\n",
            "26/26 [==============================] - 0s 8ms/step - loss: 0.0638 - accuracy: 0.9771 - val_loss: 0.5554 - val_accuracy: 0.8791\n",
            "Epoch 20/150\n",
            "26/26 [==============================] - 0s 6ms/step - loss: 0.0392 - accuracy: 0.9876 - val_loss: 0.4437 - val_accuracy: 0.8736\n",
            "Epoch 21/150\n",
            "26/26 [==============================] - 0s 6ms/step - loss: 0.0290 - accuracy: 0.9942 - val_loss: 0.4434 - val_accuracy: 0.8709\n",
            "Epoch 22/150\n",
            "26/26 [==============================] - 0s 6ms/step - loss: 0.0184 - accuracy: 0.9960 - val_loss: 0.4358 - val_accuracy: 0.8709\n",
            "Epoch 23/150\n",
            "26/26 [==============================] - 0s 7ms/step - loss: 0.0189 - accuracy: 0.9941 - val_loss: 0.5216 - val_accuracy: 0.8571\n",
            "Epoch 24/150\n",
            "26/26 [==============================] - 0s 7ms/step - loss: 0.0140 - accuracy: 0.9988 - val_loss: 0.4990 - val_accuracy: 0.8736\n",
            "Epoch 25/150\n",
            "26/26 [==============================] - 0s 6ms/step - loss: 0.0203 - accuracy: 0.9945 - val_loss: 0.5453 - val_accuracy: 0.8654\n",
            "Epoch 26/150\n",
            "26/26 [==============================] - 0s 6ms/step - loss: 0.0115 - accuracy: 0.9995 - val_loss: 0.5279 - val_accuracy: 0.8709\n",
            "Epoch 27/150\n",
            "26/26 [==============================] - 0s 6ms/step - loss: 0.0123 - accuracy: 0.9965 - val_loss: 0.5117 - val_accuracy: 0.8764\n",
            "Epoch 28/150\n",
            "26/26 [==============================] - 0s 6ms/step - loss: 0.0071 - accuracy: 0.9996 - val_loss: 0.6068 - val_accuracy: 0.8736\n",
            "Epoch 29/150\n",
            "26/26 [==============================] - 0s 6ms/step - loss: 0.0086 - accuracy: 0.9986 - val_loss: 0.6117 - val_accuracy: 0.8736\n",
            "Epoch 30/150\n",
            "26/26 [==============================] - 0s 6ms/step - loss: 0.0046 - accuracy: 1.0000 - val_loss: 0.5963 - val_accuracy: 0.8819\n",
            "Epoch 31/150\n",
            "26/26 [==============================] - 0s 6ms/step - loss: 0.0063 - accuracy: 0.9994 - val_loss: 0.6411 - val_accuracy: 0.8819\n",
            "Epoch 32/150\n",
            "26/26 [==============================] - 0s 6ms/step - loss: 0.0033 - accuracy: 1.0000 - val_loss: 0.7158 - val_accuracy: 0.8791\n",
            "Epoch 33/150\n",
            "26/26 [==============================] - 0s 6ms/step - loss: 0.0089 - accuracy: 0.9988 - val_loss: 0.6486 - val_accuracy: 0.8791\n",
            "Epoch 34/150\n",
            "26/26 [==============================] - 0s 6ms/step - loss: 0.0058 - accuracy: 1.0000 - val_loss: 0.7528 - val_accuracy: 0.8764\n",
            "Epoch 35/150\n",
            "26/26 [==============================] - 0s 7ms/step - loss: 0.0068 - accuracy: 0.9982 - val_loss: 0.6896 - val_accuracy: 0.8736\n",
            "Epoch 36/150\n",
            "26/26 [==============================] - 0s 6ms/step - loss: 0.0016 - accuracy: 1.0000 - val_loss: 0.6727 - val_accuracy: 0.8764\n",
            "Epoch 37/150\n",
            "26/26 [==============================] - 0s 7ms/step - loss: 0.0010 - accuracy: 1.0000 - val_loss: 0.8110 - val_accuracy: 0.8571\n",
            "Epoch 38/150\n",
            "26/26 [==============================] - 0s 6ms/step - loss: 0.0030 - accuracy: 0.9998 - val_loss: 0.7257 - val_accuracy: 0.8626\n",
            "Epoch 39/150\n",
            "26/26 [==============================] - 0s 6ms/step - loss: 9.9488e-04 - accuracy: 1.0000 - val_loss: 0.7216 - val_accuracy: 0.8764\n",
            "Epoch 40/150\n",
            "26/26 [==============================] - 0s 6ms/step - loss: 8.0882e-04 - accuracy: 1.0000 - val_loss: 0.7221 - val_accuracy: 0.8846\n",
            "Epoch 41/150\n",
            "26/26 [==============================] - 0s 6ms/step - loss: 0.0029 - accuracy: 0.9991 - val_loss: 0.7262 - val_accuracy: 0.8709\n",
            "Epoch 42/150\n",
            "26/26 [==============================] - 0s 6ms/step - loss: 0.0017 - accuracy: 1.0000 - val_loss: 0.7514 - val_accuracy: 0.8791\n",
            "Epoch 43/150\n",
            "26/26 [==============================] - 0s 6ms/step - loss: 9.5387e-04 - accuracy: 0.9998 - val_loss: 0.7853 - val_accuracy: 0.8874\n",
            "Epoch 44/150\n",
            "26/26 [==============================] - 0s 6ms/step - loss: 9.2584e-04 - accuracy: 1.0000 - val_loss: 0.7742 - val_accuracy: 0.8791\n",
            "Epoch 45/150\n",
            "26/26 [==============================] - 0s 8ms/step - loss: 5.5155e-04 - accuracy: 1.0000 - val_loss: 0.8228 - val_accuracy: 0.8709\n",
            "Epoch 46/150\n",
            "26/26 [==============================] - 0s 7ms/step - loss: 5.2857e-04 - accuracy: 1.0000 - val_loss: 0.8332 - val_accuracy: 0.8709\n",
            "Epoch 47/150\n",
            "26/26 [==============================] - 0s 10ms/step - loss: 0.0015 - accuracy: 1.0000 - val_loss: 0.7999 - val_accuracy: 0.8681\n",
            "Epoch 48/150\n",
            "26/26 [==============================] - 0s 6ms/step - loss: 3.3467e-04 - accuracy: 1.0000 - val_loss: 0.8149 - val_accuracy: 0.8681\n",
            "Epoch 49/150\n",
            "26/26 [==============================] - 0s 6ms/step - loss: 2.5579e-04 - accuracy: 1.0000 - val_loss: 1.0983 - val_accuracy: 0.8764\n",
            "Epoch 50/150\n",
            "26/26 [==============================] - 0s 6ms/step - loss: 0.0053 - accuracy: 0.9971 - val_loss: 0.8477 - val_accuracy: 0.8736\n",
            "Epoch 51/150\n",
            "26/26 [==============================] - 0s 6ms/step - loss: 5.6935e-04 - accuracy: 1.0000 - val_loss: 0.8679 - val_accuracy: 0.8736\n",
            "Epoch 52/150\n",
            "26/26 [==============================] - 0s 7ms/step - loss: 2.0812e-04 - accuracy: 1.0000 - val_loss: 0.9250 - val_accuracy: 0.8764\n",
            "Epoch 53/150\n",
            "26/26 [==============================] - 0s 6ms/step - loss: 0.0011 - accuracy: 1.0000 - val_loss: 0.9276 - val_accuracy: 0.8681\n",
            "Epoch 54/150\n",
            "26/26 [==============================] - 0s 6ms/step - loss: 1.8017e-04 - accuracy: 1.0000 - val_loss: 0.9410 - val_accuracy: 0.8681\n",
            "Epoch 55/150\n",
            "26/26 [==============================] - 0s 6ms/step - loss: 1.7110e-04 - accuracy: 1.0000 - val_loss: 0.9495 - val_accuracy: 0.8681\n",
            "Epoch 56/150\n",
            "26/26 [==============================] - 0s 6ms/step - loss: 1.9418e-04 - accuracy: 1.0000 - val_loss: 0.9505 - val_accuracy: 0.8736\n",
            "Epoch 57/150\n",
            "26/26 [==============================] - 0s 6ms/step - loss: 3.4536e-04 - accuracy: 1.0000 - val_loss: 0.9428 - val_accuracy: 0.8681\n",
            "Epoch 58/150\n",
            "26/26 [==============================] - 0s 6ms/step - loss: 1.5919e-04 - accuracy: 1.0000 - val_loss: 0.9721 - val_accuracy: 0.8709\n",
            "Epoch 59/150\n",
            "26/26 [==============================] - 0s 6ms/step - loss: 2.9559e-04 - accuracy: 1.0000 - val_loss: 1.0102 - val_accuracy: 0.8764\n",
            "Epoch 60/150\n",
            "26/26 [==============================] - 0s 6ms/step - loss: 1.9201e-04 - accuracy: 1.0000 - val_loss: 1.0124 - val_accuracy: 0.8791\n",
            "Epoch 61/150\n",
            "26/26 [==============================] - 0s 6ms/step - loss: 3.5176e-04 - accuracy: 1.0000 - val_loss: 1.0255 - val_accuracy: 0.8681\n",
            "Epoch 62/150\n",
            "26/26 [==============================] - 0s 6ms/step - loss: 5.1850e-05 - accuracy: 1.0000 - val_loss: 1.0351 - val_accuracy: 0.8736\n",
            "Epoch 63/150\n",
            "26/26 [==============================] - 0s 6ms/step - loss: 5.3039e-05 - accuracy: 1.0000 - val_loss: 1.1067 - val_accuracy: 0.8736\n",
            "Epoch 64/150\n",
            "26/26 [==============================] - 0s 7ms/step - loss: 2.9838e-04 - accuracy: 1.0000 - val_loss: 1.0729 - val_accuracy: 0.8819\n",
            "Epoch 65/150\n",
            "26/26 [==============================] - 0s 6ms/step - loss: 1.1721e-04 - accuracy: 1.0000 - val_loss: 1.0667 - val_accuracy: 0.8764\n",
            "Epoch 66/150\n",
            "26/26 [==============================] - 0s 7ms/step - loss: 7.5799e-05 - accuracy: 1.0000 - val_loss: 1.0634 - val_accuracy: 0.8681\n",
            "Epoch 67/150\n",
            "26/26 [==============================] - 0s 6ms/step - loss: 8.2852e-05 - accuracy: 1.0000 - val_loss: 1.0728 - val_accuracy: 0.8764\n",
            "Epoch 68/150\n",
            "26/26 [==============================] - 0s 6ms/step - loss: 1.2868e-04 - accuracy: 1.0000 - val_loss: 1.0916 - val_accuracy: 0.8736\n",
            "Epoch 69/150\n",
            "26/26 [==============================] - 0s 6ms/step - loss: 8.3066e-05 - accuracy: 1.0000 - val_loss: 1.1025 - val_accuracy: 0.8764\n",
            "Epoch 70/150\n",
            "26/26 [==============================] - 0s 6ms/step - loss: 1.2690e-05 - accuracy: 1.0000 - val_loss: 1.2161 - val_accuracy: 0.8626\n",
            "Epoch 71/150\n",
            "26/26 [==============================] - 0s 6ms/step - loss: 0.0011 - accuracy: 1.0000 - val_loss: 1.1633 - val_accuracy: 0.8791\n",
            "Epoch 72/150\n",
            "26/26 [==============================] - 0s 6ms/step - loss: 2.1896e-05 - accuracy: 1.0000 - val_loss: 1.1521 - val_accuracy: 0.8626\n",
            "Epoch 73/150\n",
            "26/26 [==============================] - 0s 8ms/step - loss: 1.9674e-04 - accuracy: 1.0000 - val_loss: 1.1724 - val_accuracy: 0.8681\n",
            "Epoch 74/150\n",
            "26/26 [==============================] - 0s 7ms/step - loss: 1.7045e-05 - accuracy: 1.0000 - val_loss: 1.2303 - val_accuracy: 0.8654\n",
            "Epoch 75/150\n",
            "26/26 [==============================] - 0s 6ms/step - loss: 1.3637e-05 - accuracy: 1.0000 - val_loss: 1.2555 - val_accuracy: 0.8709\n",
            "Epoch 76/150\n",
            "26/26 [==============================] - 0s 7ms/step - loss: 3.4179e-05 - accuracy: 1.0000 - val_loss: 1.2355 - val_accuracy: 0.8626\n",
            "Epoch 77/150\n",
            "26/26 [==============================] - 0s 6ms/step - loss: 3.3012e-05 - accuracy: 1.0000 - val_loss: 1.2303 - val_accuracy: 0.8764\n",
            "Epoch 78/150\n",
            "26/26 [==============================] - 0s 6ms/step - loss: 1.7820e-04 - accuracy: 1.0000 - val_loss: 1.2263 - val_accuracy: 0.8764\n",
            "Epoch 79/150\n",
            "26/26 [==============================] - 0s 6ms/step - loss: 1.9617e-05 - accuracy: 1.0000 - val_loss: 1.2227 - val_accuracy: 0.8736\n",
            "Epoch 80/150\n",
            "26/26 [==============================] - 0s 6ms/step - loss: 1.6788e-05 - accuracy: 1.0000 - val_loss: 1.3210 - val_accuracy: 0.8846\n",
            "Epoch 81/150\n",
            "26/26 [==============================] - 0s 6ms/step - loss: 1.0463e-04 - accuracy: 1.0000 - val_loss: 1.2524 - val_accuracy: 0.8791\n",
            "Epoch 82/150\n",
            "26/26 [==============================] - 0s 7ms/step - loss: 1.0341e-04 - accuracy: 1.0000 - val_loss: 1.1920 - val_accuracy: 0.8736\n",
            "Epoch 83/150\n",
            "26/26 [==============================] - 0s 6ms/step - loss: 8.8478e-06 - accuracy: 1.0000 - val_loss: 1.1954 - val_accuracy: 0.8736\n",
            "Epoch 84/150\n",
            "26/26 [==============================] - 0s 6ms/step - loss: 1.0582e-04 - accuracy: 1.0000 - val_loss: 1.2800 - val_accuracy: 0.8626\n",
            "Epoch 85/150\n",
            "26/26 [==============================] - 0s 6ms/step - loss: 5.1954e-05 - accuracy: 1.0000 - val_loss: 1.3103 - val_accuracy: 0.8681\n",
            "Epoch 86/150\n",
            "26/26 [==============================] - 0s 6ms/step - loss: 1.8859e-05 - accuracy: 1.0000 - val_loss: 1.3077 - val_accuracy: 0.8681\n",
            "Epoch 87/150\n",
            "26/26 [==============================] - 0s 6ms/step - loss: 1.6919e-05 - accuracy: 1.0000 - val_loss: 1.3332 - val_accuracy: 0.8736\n",
            "Epoch 88/150\n",
            "26/26 [==============================] - 0s 6ms/step - loss: 6.4162e-05 - accuracy: 1.0000 - val_loss: 1.3577 - val_accuracy: 0.8764\n",
            "Epoch 89/150\n",
            "26/26 [==============================] - 0s 6ms/step - loss: 3.9760e-06 - accuracy: 1.0000 - val_loss: 1.3610 - val_accuracy: 0.8736\n",
            "Epoch 90/150\n",
            "26/26 [==============================] - 0s 6ms/step - loss: 1.1274e-04 - accuracy: 1.0000 - val_loss: 1.3436 - val_accuracy: 0.8736\n",
            "Epoch 91/150\n",
            "26/26 [==============================] - 0s 10ms/step - loss: 5.4085e-06 - accuracy: 1.0000 - val_loss: 1.3467 - val_accuracy: 0.8764\n",
            "Epoch 92/150\n",
            "26/26 [==============================] - 0s 6ms/step - loss: 6.6061e-06 - accuracy: 1.0000 - val_loss: 1.3385 - val_accuracy: 0.8709\n",
            "Epoch 93/150\n",
            "26/26 [==============================] - 0s 6ms/step - loss: 1.8852e-06 - accuracy: 1.0000 - val_loss: 1.3482 - val_accuracy: 0.8736\n",
            "Epoch 94/150\n",
            "26/26 [==============================] - 0s 7ms/step - loss: 2.4434e-06 - accuracy: 1.0000 - val_loss: 1.3726 - val_accuracy: 0.8736\n",
            "Epoch 95/150\n",
            "26/26 [==============================] - 0s 6ms/step - loss: 5.3323e-04 - accuracy: 0.9996 - val_loss: 1.4017 - val_accuracy: 0.8819\n",
            "Epoch 96/150\n",
            "26/26 [==============================] - 0s 6ms/step - loss: 2.2163e-05 - accuracy: 1.0000 - val_loss: 1.3227 - val_accuracy: 0.8681\n",
            "Epoch 97/150\n",
            "26/26 [==============================] - 0s 6ms/step - loss: 2.0787e-06 - accuracy: 1.0000 - val_loss: 1.3218 - val_accuracy: 0.8709\n",
            "Epoch 98/150\n",
            "26/26 [==============================] - 0s 6ms/step - loss: 2.6298e-06 - accuracy: 1.0000 - val_loss: 1.3446 - val_accuracy: 0.8736\n",
            "Epoch 99/150\n",
            "26/26 [==============================] - 0s 6ms/step - loss: 1.8788e-06 - accuracy: 1.0000 - val_loss: 1.3364 - val_accuracy: 0.8764\n",
            "Epoch 100/150\n",
            "26/26 [==============================] - 0s 6ms/step - loss: 3.8352e-06 - accuracy: 1.0000 - val_loss: 1.3638 - val_accuracy: 0.8681\n",
            "Epoch 101/150\n",
            "26/26 [==============================] - 0s 6ms/step - loss: 2.3856e-06 - accuracy: 1.0000 - val_loss: 1.3957 - val_accuracy: 0.8681\n",
            "Epoch 102/150\n",
            "26/26 [==============================] - 0s 7ms/step - loss: 1.8897e-06 - accuracy: 1.0000 - val_loss: 1.4128 - val_accuracy: 0.8709\n",
            "Epoch 103/150\n",
            "26/26 [==============================] - 0s 7ms/step - loss: 7.3249e-04 - accuracy: 0.9997 - val_loss: 1.4139 - val_accuracy: 0.8681\n",
            "Epoch 104/150\n",
            "26/26 [==============================] - 0s 7ms/step - loss: 1.3353e-05 - accuracy: 1.0000 - val_loss: 1.3959 - val_accuracy: 0.8764\n",
            "Epoch 105/150\n",
            "26/26 [==============================] - 0s 7ms/step - loss: 1.5429e-06 - accuracy: 1.0000 - val_loss: 1.4018 - val_accuracy: 0.8791\n",
            "Epoch 106/150\n",
            "26/26 [==============================] - 0s 7ms/step - loss: 1.9017e-06 - accuracy: 1.0000 - val_loss: 1.4183 - val_accuracy: 0.8764\n",
            "Epoch 107/150\n",
            "26/26 [==============================] - 0s 6ms/step - loss: 7.6838e-07 - accuracy: 1.0000 - val_loss: 1.4456 - val_accuracy: 0.8709\n",
            "Epoch 108/150\n",
            "26/26 [==============================] - 0s 6ms/step - loss: 3.5050e-05 - accuracy: 1.0000 - val_loss: 1.4196 - val_accuracy: 0.8791\n",
            "Epoch 109/150\n",
            "26/26 [==============================] - 0s 6ms/step - loss: 1.9185e-06 - accuracy: 1.0000 - val_loss: 1.4570 - val_accuracy: 0.8709\n",
            "Epoch 110/150\n",
            "26/26 [==============================] - 0s 6ms/step - loss: 7.4943e-06 - accuracy: 1.0000 - val_loss: 1.6914 - val_accuracy: 0.8489\n",
            "Epoch 111/150\n",
            "26/26 [==============================] - 0s 6ms/step - loss: 3.6872e-05 - accuracy: 1.0000 - val_loss: 1.5328 - val_accuracy: 0.8764\n",
            "Epoch 112/150\n",
            "26/26 [==============================] - 0s 7ms/step - loss: 4.2049e-04 - accuracy: 1.0000 - val_loss: 1.4244 - val_accuracy: 0.8736\n",
            "Epoch 113/150\n",
            "26/26 [==============================] - 0s 6ms/step - loss: 1.2573e-06 - accuracy: 1.0000 - val_loss: 1.4341 - val_accuracy: 0.8736\n",
            "Epoch 114/150\n",
            "26/26 [==============================] - 0s 6ms/step - loss: 1.1096e-06 - accuracy: 1.0000 - val_loss: 1.4880 - val_accuracy: 0.8791\n",
            "Epoch 115/150\n",
            "26/26 [==============================] - 0s 7ms/step - loss: 2.5855e-06 - accuracy: 1.0000 - val_loss: 1.5136 - val_accuracy: 0.8736\n",
            "Epoch 116/150\n",
            "26/26 [==============================] - 0s 6ms/step - loss: 1.3647e-06 - accuracy: 1.0000 - val_loss: 1.5190 - val_accuracy: 0.8736\n",
            "Epoch 117/150\n",
            "26/26 [==============================] - 0s 6ms/step - loss: 6.5047e-07 - accuracy: 1.0000 - val_loss: 1.6432 - val_accuracy: 0.8571\n",
            "Epoch 118/150\n",
            "26/26 [==============================] - 0s 6ms/step - loss: 7.6125e-06 - accuracy: 1.0000 - val_loss: 1.5135 - val_accuracy: 0.8764\n",
            "Epoch 119/150\n",
            "26/26 [==============================] - 0s 6ms/step - loss: 4.8209e-07 - accuracy: 1.0000 - val_loss: 1.5464 - val_accuracy: 0.8791\n",
            "Epoch 120/150\n",
            "26/26 [==============================] - 0s 6ms/step - loss: 2.5226e-07 - accuracy: 1.0000 - val_loss: 1.6607 - val_accuracy: 0.8819\n",
            "Epoch 121/150\n",
            "26/26 [==============================] - 0s 6ms/step - loss: 7.9989e-07 - accuracy: 1.0000 - val_loss: 1.5699 - val_accuracy: 0.8681\n",
            "Epoch 122/150\n",
            "26/26 [==============================] - 0s 6ms/step - loss: 5.7401e-07 - accuracy: 1.0000 - val_loss: 1.6107 - val_accuracy: 0.8764\n",
            "Epoch 123/150\n",
            "26/26 [==============================] - 0s 7ms/step - loss: 1.0329e-06 - accuracy: 1.0000 - val_loss: 1.6188 - val_accuracy: 0.8654\n",
            "Epoch 124/150\n",
            "26/26 [==============================] - 0s 6ms/step - loss: 3.4450e-07 - accuracy: 1.0000 - val_loss: 1.6369 - val_accuracy: 0.8709\n",
            "Epoch 125/150\n",
            "26/26 [==============================] - 0s 7ms/step - loss: 4.0982e-06 - accuracy: 1.0000 - val_loss: 1.6503 - val_accuracy: 0.8764\n",
            "Epoch 126/150\n",
            "26/26 [==============================] - 0s 6ms/step - loss: 3.5894e-07 - accuracy: 1.0000 - val_loss: 1.6466 - val_accuracy: 0.8709\n",
            "Epoch 127/150\n",
            "26/26 [==============================] - 0s 6ms/step - loss: 4.1546e-06 - accuracy: 1.0000 - val_loss: 1.8201 - val_accuracy: 0.8516\n",
            "Epoch 128/150\n",
            "26/26 [==============================] - 0s 7ms/step - loss: 4.8477e-06 - accuracy: 1.0000 - val_loss: 1.6380 - val_accuracy: 0.8736\n",
            "Epoch 129/150\n",
            "26/26 [==============================] - 0s 6ms/step - loss: 2.2495e-07 - accuracy: 1.0000 - val_loss: 1.6519 - val_accuracy: 0.8736\n",
            "Epoch 130/150\n",
            "26/26 [==============================] - 0s 6ms/step - loss: 1.4059e-06 - accuracy: 1.0000 - val_loss: 1.6405 - val_accuracy: 0.8681\n",
            "Epoch 131/150\n",
            "26/26 [==============================] - 0s 6ms/step - loss: 4.4623e-07 - accuracy: 1.0000 - val_loss: 1.6488 - val_accuracy: 0.8791\n",
            "Epoch 132/150\n",
            "26/26 [==============================] - 0s 6ms/step - loss: 6.6205e-07 - accuracy: 1.0000 - val_loss: 1.6786 - val_accuracy: 0.8681\n",
            "Epoch 133/150\n",
            "26/26 [==============================] - 0s 7ms/step - loss: 1.9154e-07 - accuracy: 1.0000 - val_loss: 1.6793 - val_accuracy: 0.8736\n",
            "Epoch 134/150\n",
            "26/26 [==============================] - 0s 7ms/step - loss: 7.2308e-07 - accuracy: 1.0000 - val_loss: 1.7180 - val_accuracy: 0.8736\n",
            "Epoch 135/150\n",
            "26/26 [==============================] - 0s 10ms/step - loss: 2.0581e-06 - accuracy: 1.0000 - val_loss: 1.6479 - val_accuracy: 0.8681\n",
            "Epoch 136/150\n",
            "26/26 [==============================] - 0s 7ms/step - loss: 5.7227e-08 - accuracy: 1.0000 - val_loss: 1.6899 - val_accuracy: 0.8764\n",
            "Epoch 137/150\n",
            "26/26 [==============================] - 0s 6ms/step - loss: 6.9005e-07 - accuracy: 1.0000 - val_loss: 1.7129 - val_accuracy: 0.8736\n",
            "Epoch 138/150\n",
            "26/26 [==============================] - 0s 7ms/step - loss: 3.3504e-06 - accuracy: 1.0000 - val_loss: 1.6358 - val_accuracy: 0.8736\n",
            "Epoch 139/150\n",
            "26/26 [==============================] - 0s 6ms/step - loss: 2.1679e-07 - accuracy: 1.0000 - val_loss: 1.6429 - val_accuracy: 0.8681\n",
            "Epoch 140/150\n",
            "26/26 [==============================] - 0s 7ms/step - loss: 8.7643e-08 - accuracy: 1.0000 - val_loss: 1.6578 - val_accuracy: 0.8681\n",
            "Epoch 141/150\n",
            "26/26 [==============================] - 0s 6ms/step - loss: 5.0177e-07 - accuracy: 1.0000 - val_loss: 1.7152 - val_accuracy: 0.8736\n",
            "Epoch 142/150\n",
            "26/26 [==============================] - 0s 7ms/step - loss: 2.5419e-06 - accuracy: 1.0000 - val_loss: 1.6775 - val_accuracy: 0.8709\n",
            "Epoch 143/150\n",
            "26/26 [==============================] - 0s 6ms/step - loss: 2.9901e-07 - accuracy: 1.0000 - val_loss: 1.9635 - val_accuracy: 0.8489\n",
            "Epoch 144/150\n",
            "26/26 [==============================] - 0s 6ms/step - loss: 5.6291e-07 - accuracy: 1.0000 - val_loss: 1.7355 - val_accuracy: 0.8764\n",
            "Epoch 145/150\n",
            "26/26 [==============================] - 0s 6ms/step - loss: 8.1481e-06 - accuracy: 1.0000 - val_loss: 1.7008 - val_accuracy: 0.8764\n",
            "Epoch 146/150\n",
            "26/26 [==============================] - 0s 6ms/step - loss: 3.3884e-07 - accuracy: 1.0000 - val_loss: 1.7164 - val_accuracy: 0.8736\n",
            "Epoch 147/150\n",
            "26/26 [==============================] - 0s 7ms/step - loss: 1.1866e-06 - accuracy: 1.0000 - val_loss: 1.7217 - val_accuracy: 0.8709\n",
            "Epoch 148/150\n",
            "26/26 [==============================] - 0s 6ms/step - loss: 2.8205e-07 - accuracy: 1.0000 - val_loss: 1.7530 - val_accuracy: 0.8709\n",
            "Epoch 149/150\n",
            "26/26 [==============================] - 0s 7ms/step - loss: 8.2187e-08 - accuracy: 1.0000 - val_loss: 1.7669 - val_accuracy: 0.8709\n",
            "Epoch 150/150\n",
            "26/26 [==============================] - 0s 6ms/step - loss: 7.6657e-04 - accuracy: 0.9991 - val_loss: 1.6761 - val_accuracy: 0.8736\n"
          ],
          "name": "stdout"
        }
      ]
    },
    {
      "cell_type": "code",
      "metadata": {
        "colab": {
          "base_uri": "https://localhost:8080/",
          "height": 306
        },
        "id": "P0Fk-e8wA3jd",
        "outputId": "e857a205-beee-47b0-f6a8-63c5fad093b0"
      },
      "source": [
        "f, (ax1, ax2) = plt.subplots(1, 2, figsize=(12, 4))\n",
        "t = f.suptitle('Pre-trained CNN (Transfer Learning) Performance', fontsize=12)\n",
        "f.subplots_adjust(top=0.85, wspace=0.3)\n",
        "\n",
        "epoch_list = list(range(1,151))\n",
        "ax1.plot(epoch_list, history.history['accuracy'], label='Train Accuracy')\n",
        "ax1.plot(epoch_list, history.history['val_accuracy'], label='Validation Accuracy')\n",
        "ax1.set_xticks(np.arange(0, 151, 5))\n",
        "ax1.set_ylabel('Accuracy Value')\n",
        "ax1.set_xlabel('Epoch')\n",
        "ax1.set_title('Accuracy')\n",
        "l1 = ax1.legend(loc=\"best\")\n",
        "\n",
        "ax2.plot(epoch_list, history.history['loss'], label='Train Loss')\n",
        "ax2.plot(epoch_list, history.history['val_loss'], label='Validation Loss')\n",
        "ax2.set_xticks(np.arange(0, 151, 5))\n",
        "ax2.set_ylabel('Loss Value')\n",
        "ax2.set_xlabel('Epoch')\n",
        "ax2.set_title('Loss')\n",
        "l2 = ax2.legend(loc=\"best\")"
      ],
      "execution_count": 19,
      "outputs": [
        {
          "output_type": "display_data",
          "data": {
            "image/png": "[encoded data removed]",
            "text/plain": [
              "<Figure size 864x288 with 2 Axes>"
            ]
          },
          "metadata": {
            "tags": [],
            "needs_background": "light"
          }
        }
      ]
    },
    {
      "cell_type": "code",
      "metadata": {
        "id": "wHLV0XfKA3jd"
      },
      "source": [
        "model.save('1-pretrained_cnn0.h5')"
      ],
      "execution_count": 20,
      "outputs": []
    },
    {
      "cell_type": "code",
      "metadata": {
        "id": "eBjX3kbpA3je"
      },
      "source": [
        ""
      ],
      "execution_count": 20,
      "outputs": []
    },
    {
      "cell_type": "code",
      "metadata": {
        "id": "3IaOWSbaA3je"
      },
      "source": [
        ""
      ],
      "execution_count": 20,
      "outputs": []
    },
    {
      "cell_type": "code",
      "metadata": {
        "id": "Q7SzUeawA3jn"
      },
      "source": [
        ""
      ],
      "execution_count": 20,
      "outputs": []
    }
  ]
}